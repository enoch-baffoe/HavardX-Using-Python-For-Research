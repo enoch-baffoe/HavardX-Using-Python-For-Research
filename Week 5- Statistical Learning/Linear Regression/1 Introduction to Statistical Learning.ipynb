{
 "cells": [
  {
   "cell_type": "markdown",
   "id": "852a150c",
   "metadata": {},
   "source": [
    "# Introduction to Statistical Learning"
   ]
  },
  {
   "cell_type": "markdown",
   "id": "fd25d773",
   "metadata": {},
   "source": [
    "Statistical learning can be divided into two categories which\n",
    "are called supervised learning and unsupervised learning."
   ]
  },
  {
   "cell_type": "markdown",
   "id": "34a98fd4",
   "metadata": {},
   "source": [
    "`Supervised learning` refers to a collection of techniques and algorithms\n",
    "that, when given a set of example inputs and example outputs,\n",
    "learn to associate the inputs with the outputs. The outputs usually need to be provided by a `supervisor`, which\n",
    "could be a human or another algorithm, and this is where the name comes from"
   ]
  },
  {
   "cell_type": "markdown",
   "id": "20577e89",
   "metadata": {},
   "source": [
    "`Unsupervised learning` refers to a collection of techniques and algorithms\n",
    "that are given inputs only and there are no outputs. The goal of unsupervised learning is to learn relationships and structure\n",
    "from such data."
   ]
  },
  {
   "cell_type": "markdown",
   "id": "871a013f",
   "metadata": {},
   "source": [
    "We will look at `regression`, which refers to problems\n",
    "that have continuous outputs, and we will also\n",
    "look at `classification`, which refers to problems\n",
    "that have categorical outputs like 0 or 1, blue or green, and so on.\n",
    "We will mainly use to scikit-learn machine learning library\n",
    "for Python to implement these models."
   ]
  },
  {
   "cell_type": "markdown",
   "id": "ffa39990",
   "metadata": {},
   "source": [
    "Note that this case study deals with supervised learning only\n",
    "and we will leave unsupervised learning for the future."
   ]
  },
  {
   "cell_type": "markdown",
   "id": "00d247bb",
   "metadata": {},
   "source": [
    "Quantitative variables take on numerical values, such as income,\n",
    "whereas qualitative variables take on values in a given category,\n",
    "such as male or female.\n",
    "The range of quantitative variables depends on what they measure\n",
    "and what units are used.\n",
    "For example, we might measure annual income\n",
    "in dollars or thousands of dollars.\n",
    "Similarly, qualitative variables can have two or more categories or classes.\n",
    "The male-female example refers to a qualitative variable\n",
    "with two categories, but in principle, there can be any number of categories.\n",
    "In some cases, we convert a continuous variable to a categorical variable\n",
    "by specifying the cutoff points between the categories.\n",
    "For example, for income we might specify that a household with an annual income\n",
    "less than `$30,000` a year is a low income household;\n",
    "a household with an income between `$30,000` and `$100,000`\n",
    "is a middle income household; and a household with an annual income\n",
    "exceeding `$100,000` a year a high income household."
   ]
  },
  {
   "cell_type": "markdown",
   "id": "7167b4a7",
   "metadata": {},
   "source": [
    "Methods in supervised learning are divided into two groups\n",
    "based on whether the output variable, also called the outcome,\n",
    "is quantitative or qualitative.\n",
    "If the outcome is quantitative, we talk about `regression problems`,\n",
    "whereas if the outcome is qualitative, we talk about `classification problems`.\n",
    "\n",
    "Note that this division into regression and classification problems\n",
    "is made based on the nature of the output, not the inputs,\n",
    "and it's common for both regression and classification problems\n",
    "to involve a mixture of quantitative and qualitative inputs."
   ]
  },
  {
   "cell_type": "markdown",
   "id": "1137a7c1",
   "metadata": {},
   "source": [
    "In both problems, we have some input variable X and an output variable Y,\n",
    "and we seek some function f of X for predicting Y, given values of the input\n",
    "X. What the best prediction is depends on the so-called `loss function`,\n",
    "which is a way of quantifying how far our predictions for Y for a given\n",
    "value of X are from the true observed values of Y. This\n",
    "is the subject of `statistical decision theory` which is outside of our scope,\n",
    "but we will state the relevant results here."
   ]
  },
  {
   "cell_type": "markdown",
   "id": "e31d8215",
   "metadata": {},
   "source": [
    "First, in a `regression setting`, by far the most common loss function\n",
    "is the so-called `squared error loss`.\n",
    "And in that case, the best value to predict for a given X\n",
    "is a conditional expectation, or a conditional average,\n",
    "of Y given X. So what that means is that what we should predict\n",
    "is the average of all values of Y that correspond to a given value of X."
   ]
  },
  {
   "cell_type": "markdown",
   "id": "2538a2d8",
   "metadata": {},
   "source": [
    "Second, in a `classification setting`, we most often\n",
    "use the so-called `0-1 loss function`, and in that case,\n",
    "the best classification for a given X is obtained\n",
    "by classifying observation of the class with the highest\n",
    "conditional probability given X. In other words, for a given value of X,\n",
    "we compute the probability of each class and we then\n",
    "assign the observation to the class with the highest probability."
   ]
  },
  {
   "cell_type": "markdown",
   "id": "58eb3341",
   "metadata": {},
   "source": [
    "we are estimating, in the regression setting,\n",
    "a conditional expectation of Y given a specific value for x.\n",
    "So this is simply saying that this is a conditional mean, a conditional average\n",
    "taking over all points that share at the value of x.\n",
    "This is your regression function.\n",
    "So if we repeat this for all values of x, we will get a line like this.\n",
    "And typically we might call this f of x.\n",
    "That's our regression function."
   ]
  },
  {
   "cell_type": "markdown",
   "id": "27410d4e",
   "metadata": {},
   "source": [
    "In a classification setting, we would want to estimate two probabilities.\n",
    "These are conditional probabilities.\n",
    "So the first of them would be the probability\n",
    "that the random variable Y is equal to 0 given the value of x.\n",
    "And the second probability is for Y equal to 1\n",
    "given that the random variable, which is the large X, is equal to the small x.\n",
    "And whichever of these two probabilities is largest,\n",
    "that's going to be our prediction for a given value of x.\n"
   ]
  },
  {
   "cell_type": "markdown",
   "id": "342c2b22",
   "metadata": {},
   "source": [
    "Least squares loss is used to estimate the expected value of outputs, whereas  loss is used to estimate the probability of outputs."
   ]
  },
  {
   "cell_type": "code",
   "execution_count": null,
   "id": "0a87e078",
   "metadata": {},
   "outputs": [],
   "source": []
  }
 ],
 "metadata": {
  "kernelspec": {
   "display_name": "Python 3 (ipykernel)",
   "language": "python",
   "name": "python3"
  },
  "language_info": {
   "codemirror_mode": {
    "name": "ipython",
    "version": 3
   },
   "file_extension": ".py",
   "mimetype": "text/x-python",
   "name": "python",
   "nbconvert_exporter": "python",
   "pygments_lexer": "ipython3",
   "version": "3.9.7"
  }
 },
 "nbformat": 4,
 "nbformat_minor": 5
}
