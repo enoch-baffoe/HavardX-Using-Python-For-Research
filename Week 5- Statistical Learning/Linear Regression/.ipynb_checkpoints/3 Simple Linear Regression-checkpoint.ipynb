{
 "cells": [
  {
   "cell_type": "markdown",
   "id": "e4f995cc",
   "metadata": {},
   "source": [
    "# Simple Linear Regression"
   ]
  },
  {
   "cell_type": "markdown",
   "id": "b12a326d",
   "metadata": {},
   "source": [
    " In simple linear regression, the goal\n",
    "is to predict a quantitative response Y on the basis of a single predictor\n",
    "variable X. It assumes the following relationship between the random\n",
    "variables X and Y.\n",
    "Our random variable, which is capital Y, is going to be given to us by some\n",
    "parameter beta 0 plus some other parameter-- let's call it beta 1--\n",
    "times a random variable X plus epsilon, which is some error term.\n",
    "Note that the capital letters here always correspond to random variables.\n",
    "Once we have used training data to produce estimates,\n",
    "beta 0 hat and beta 1 hat, for the model coefficients,\n",
    "we can predict future values of Y.\n",
    "So I'm going to write this underneath here."
   ]
  },
  {
   "cell_type": "markdown",
   "id": "81d0a9e6",
   "metadata": {},
   "source": [
    "To estimate the unknown coefficients in the model, we must use data."
   ]
  },
  {
   "cell_type": "markdown",
   "id": "439f6b3f",
   "metadata": {},
   "source": [
    "Let's say that our data consists of n observation\n",
    "pairs, where each pair consists of a measurement of x\n",
    "and a measurement of y.\n",
    "We can write these n observations as follows.\n",
    "We can take our first pair, x1, y1.\n",
    "This is our first data point.\n",
    "Then we can take our second data point, x2, y2, and so on, all the way to xn,\n",
    "yn.\n",
    "These are observed data.\n",
    "The most common approach to estimating the model parameters\n",
    "involves minimizing the least squares criterion.\n",
    "We first define the i-th residual as follows.\n",
    "We typically use lowercase e for the residual.\n",
    "So the residual for the i-th observation is\n",
    "going to be given by the data point yi minus our predicted value\n",
    "for that same data point.\n",
    "So e sub i here is the difference between the i-th\n",
    "observed response value and the i-th response value predicted by the model.\n",
    "From this, we can define the `residual sum of squares, RSS`, as follows.\n",
    "I'll create a bit of space here.\n",
    "RSS is equal to the first residual squared\n",
    "plus the second residual squared plus the n-th residual squared.\n",
    "The least squares estimates of beta 0 and beta 1--\n",
    "these guys here-- are those values of beta 0\n",
    "and beta 1 that minimize the RSS criterion.\n"
   ]
  },
  {
   "cell_type": "code",
   "execution_count": 10,
   "id": "bb03023b",
   "metadata": {},
   "outputs": [],
   "source": [
    "import numpy as np\n",
    "import scipy.stats as ss"
   ]
  },
  {
   "cell_type": "code",
   "execution_count": 11,
   "id": "a860387d",
   "metadata": {},
   "outputs": [],
   "source": [
    "n=100\n",
    "beta_0=5\n",
    "beta_1=2\n",
    "np.random.seed(1)"
   ]
  },
  {
   "cell_type": "code",
   "execution_count": 12,
   "id": "d941f366",
   "metadata": {},
   "outputs": [
    {
     "data": {
      "text/plain": [
       "array([4.17022005e+00, 7.20324493e+00, 1.14374817e-03, 3.02332573e+00,\n",
       "       1.46755891e+00, 9.23385948e-01, 1.86260211e+00, 3.45560727e+00,\n",
       "       3.96767474e+00, 5.38816734e+00, 4.19194514e+00, 6.85219500e+00,\n",
       "       2.04452250e+00, 8.78117436e+00, 2.73875932e-01, 6.70467510e+00,\n",
       "       4.17304802e+00, 5.58689828e+00, 1.40386939e+00, 1.98101489e+00,\n",
       "       8.00744569e+00, 9.68261576e+00, 3.13424178e+00, 6.92322616e+00,\n",
       "       8.76389152e+00, 8.94606664e+00, 8.50442114e-01, 3.90547832e-01,\n",
       "       1.69830420e+00, 8.78142503e+00, 9.83468338e-01, 4.21107625e+00,\n",
       "       9.57889530e+00, 5.33165285e+00, 6.91877114e+00, 3.15515631e+00,\n",
       "       6.86500928e+00, 8.34625672e+00, 1.82882773e-01, 7.50144315e+00,\n",
       "       9.88861089e+00, 7.48165654e+00, 2.80443992e+00, 7.89279328e+00,\n",
       "       1.03226007e+00, 4.47893526e+00, 9.08595503e+00, 2.93614148e+00,\n",
       "       2.87775339e+00, 1.30028572e+00, 1.93669579e-01, 6.78835533e+00,\n",
       "       2.11628116e+00, 2.65546659e+00, 4.91573159e+00, 5.33625451e-01,\n",
       "       5.74117605e+00, 1.46728575e+00, 5.89305537e+00, 6.99758360e+00,\n",
       "       1.02334429e+00, 4.14055988e+00, 6.94400158e+00, 4.14179270e+00,\n",
       "       4.99534589e-01, 5.35896406e+00, 6.63794645e+00, 5.14889112e+00,\n",
       "       9.44594756e+00, 5.86555041e+00, 9.03401915e+00, 1.37474704e+00,\n",
       "       1.39276347e+00, 8.07391289e+00, 3.97676837e+00, 1.65354197e+00,\n",
       "       9.27508580e+00, 3.47765860e+00, 7.50812103e+00, 7.25997985e+00,\n",
       "       8.83306091e+00, 6.23672207e+00, 7.50942434e+00, 3.48898342e+00,\n",
       "       2.69927892e+00, 8.95886218e+00, 4.28091190e+00, 9.64840047e+00,\n",
       "       6.63441498e+00, 6.21695720e+00, 1.14745973e+00, 9.49489259e+00,\n",
       "       4.49912133e+00, 5.78389614e+00, 4.08136803e+00, 2.37026980e+00,\n",
       "       9.03379521e+00, 5.73679487e+00, 2.87032703e-02, 6.17144914e+00])"
      ]
     },
     "execution_count": 12,
     "metadata": {},
     "output_type": "execute_result"
    }
   ],
   "source": [
    "x=10*ss.uniform.rvs(size=n)\n",
    "x"
   ]
  },
  {
   "cell_type": "code",
   "execution_count": 13,
   "id": "c0f2fae3",
   "metadata": {},
   "outputs": [
    {
     "data": {
      "text/plain": [
       "array([13.65607504, 17.38428865,  4.69608348, 11.8746261 ,  8.16521255,\n",
       "        7.60878308,  8.50287608, 11.71045647, 13.12191088, 16.18638633,\n",
       "       13.58219001, 18.82339865,  8.41838271, 22.93991251,  5.66957313,\n",
       "       19.53883411, 14.54501393, 16.35895299,  7.43245382,  8.32329937,\n",
       "       21.43838573, 24.44257158, 10.92462989, 18.89004917, 21.9077822 ,\n",
       "       23.5901653 ,  6.25375566,  7.00560337,  8.80010003, 23.15642859,\n",
       "        5.87202483, 13.59153493, 24.89834705, 14.7096051 , 18.57132377,\n",
       "       11.34292717, 17.35690123, 22.00767283,  6.21192619, 19.14337036,\n",
       "       25.12776776, 18.65102968, 10.57018433, 19.16981421,  8.18593784,\n",
       "       14.36677106, 23.14729311, 10.09712135, 12.0292627 ,  9.56767319,\n",
       "        3.52935729, 19.81287469, 10.86021307, 10.64894488, 13.63219515,\n",
       "        6.93059622, 16.30143181,  7.33065087, 15.5560526 , 19.5457047 ,\n",
       "        7.83949544, 12.65758903, 19.40857949, 12.139244  ,  6.80093021,\n",
       "       15.76449542, 18.08932313, 15.19603637, 24.76078128, 17.48151245,\n",
       "       23.59750363,  7.88719529,  7.86334807, 21.76620604, 13.1860313 ,\n",
       "        8.98963535, 23.24005483,  9.52047943, 21.05506666, 21.70693935,\n",
       "       23.10748627, 17.37328891, 19.88240394, 11.85891265, 10.41596724,\n",
       "       21.79570564, 13.04472934, 23.29977412, 18.51762912, 17.13727325,\n",
       "        7.79013078, 23.81508201, 14.98457786, 16.78132619, 15.35343578,\n",
       "        7.84417868, 22.42067372, 17.37507663,  7.58573225, 17.09426349])"
      ]
     },
     "execution_count": 13,
     "metadata": {},
     "output_type": "execute_result"
    }
   ],
   "source": [
    "y=beta_0+(beta_1*x)+ ss.norm.rvs(loc=0,scale=1,size=n)\n",
    "y"
   ]
  },
  {
   "cell_type": "code",
   "execution_count": 14,
   "id": "28a6b5a0",
   "metadata": {},
   "outputs": [],
   "source": [
    "def compute_rss(y_estimate, y):\n",
    "  return sum(np.power(y-y_estimate, 2))\n",
    "def estimate_y(x, b_0, b_1):\n",
    "  return b_0 + b_1 * x"
   ]
  },
  {
   "cell_type": "code",
   "execution_count": 15,
   "id": "cec7af60",
   "metadata": {},
   "outputs": [
    {
     "data": {
      "text/plain": [
       "81.540007425512"
      ]
     },
     "execution_count": 15,
     "metadata": {},
     "output_type": "execute_result"
    }
   ],
   "source": [
    "rss = compute_rss(estimate_y(x, beta_0, beta_1), y)\n",
    "rss"
   ]
  },
  {
   "cell_type": "code",
   "execution_count": null,
   "id": "59f4a1db",
   "metadata": {},
   "outputs": [],
   "source": []
  }
 ],
 "metadata": {
  "kernelspec": {
   "display_name": "Python 3 (ipykernel)",
   "language": "python",
   "name": "python3"
  },
  "language_info": {
   "codemirror_mode": {
    "name": "ipython",
    "version": 3
   },
   "file_extension": ".py",
   "mimetype": "text/x-python",
   "name": "python",
   "nbconvert_exporter": "python",
   "pygments_lexer": "ipython3",
   "version": "3.9.7"
  }
 },
 "nbformat": 4,
 "nbformat_minor": 5
}
