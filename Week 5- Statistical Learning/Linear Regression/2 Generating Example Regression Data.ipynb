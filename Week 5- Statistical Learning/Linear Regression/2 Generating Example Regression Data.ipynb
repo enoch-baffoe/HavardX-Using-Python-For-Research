{
 "cells": [
  {
   "cell_type": "markdown",
   "id": "e3808ff4",
   "metadata": {},
   "source": [
    "# Generating Example Regression Data"
   ]
  },
  {
   "cell_type": "markdown",
   "id": "d21c4ede",
   "metadata": {},
   "source": [
    "We're going to start with a simple toy\n",
    "example involving regression."
   ]
  },
  {
   "cell_type": "code",
   "execution_count": 1,
   "id": "e02d71db",
   "metadata": {},
   "outputs": [],
   "source": [
    "import numpy as np\n",
    "import scipy.stats as ss\n",
    "import matplotlib.pyplot as plt"
   ]
  },
  {
   "cell_type": "code",
   "execution_count": 2,
   "id": "820f5fa3",
   "metadata": {},
   "outputs": [],
   "source": [
    "n=100\n",
    "beta_0=5\n",
    "beta_1=2\n",
    "np.random.seed(1)"
   ]
  },
  {
   "cell_type": "markdown",
   "id": "bc58d728",
   "metadata": {},
   "source": [
    "The next thing we want to do is we want to generate some x values.\n",
    "So ss.uniform.rvs can be used to generate random variables that\n",
    "are distributed on the 0-1 interval.\n",
    "\n",
    "I would\n",
    "like to have my x variables be distributed between 0 and 10.\n",
    "So what I need to do is--\n",
    "I'll multiply the output by 10, and I will assign this\n",
    "to a variable that's called x."
   ]
  },
  {
   "cell_type": "code",
   "execution_count": 3,
   "id": "3069cf68",
   "metadata": {},
   "outputs": [],
   "source": [
    "x=10*ss.uniform.rvs(size=n)"
   ]
  },
  {
   "cell_type": "markdown",
   "id": "35398688",
   "metadata": {},
   "source": [
    "We will also add some random noise, and we use the norm method from ss.\n",
    "We want to generate random variables.\n",
    "We will have location equal to 0.\n",
    "So that means the mean is going to be 0.\n",
    "Scale is going to be 1.\n",
    "And the size, the number of observations, is going to be n.\n",
    "And this has to match the size of x.\n",
    "We can then try to run this code."
   ]
  },
  {
   "cell_type": "code",
   "execution_count": 8,
   "id": "f33956b3",
   "metadata": {},
   "outputs": [],
   "source": [
    "y=beta_0+(beta_1*x)+ ss.norm.rvs(loc=0,scale=1,size=n)"
   ]
  },
  {
   "cell_type": "markdown",
   "id": "f36a4f5e",
   "metadata": {},
   "source": [
    "generate a variable, which I call xx.\n",
    "And this is going to be a range of x values.\n",
    "Now, these are values for which I would like to plot my regression function.\n",
    "So we define this as a numpy array.\n",
    "And in this case, we will just have two points here, the beginning value,\n",
    "the lowest value of x, and the highest value of x.\n",
    "Then we'll plot, plt.plot, we'll plot the x values,\n",
    "then we have beta0 plus beta1 times xx.\n",
    "So this is the deterministic part of the model, the part of the model that\n",
    "doesn't involve any error."
   ]
  },
  {
   "cell_type": "code",
   "execution_count": 10,
   "id": "c0b2b69e",
   "metadata": {},
   "outputs": [
    {
     "data": {
      "text/plain": [
       "Text(0, 0.5, 'y')"
      ]
     },
     "execution_count": 10,
     "metadata": {},
     "output_type": "execute_result"
    },
    {
     "data": {
      "image/png": "[encoded data removed]",
      "text/plain": [
       "<Figure size 432x288 with 1 Axes>"
      ]
     },
     "metadata": {
      "needs_background": "light"
     },
     "output_type": "display_data"
    }
   ],
   "source": [
    "plt.figure()\n",
    "plt.plot(x,y,\"o\",ms=5)\n",
    "xx=np.array([0,10])\n",
    "plt.plot(xx,beta_0+beta_1*xx)\n",
    "plt.xlabel(\"x\")\n",
    "plt.ylabel(\"y\")"
   ]
  },
  {
   "cell_type": "markdown",
   "id": "62f4a2a1",
   "metadata": {},
   "source": [
    "And the orange line, the straight line here,\n",
    "is the function that we used to generate the data from.\n",
    "The blue dots here correspond to realizations from this model.\n",
    "So what we did was we first sampled 100 points from the interval 0 to 10.\n",
    "Then we computed the corresponding y values.\n",
    "And then we added a little bit of normally distributed\n",
    "or Gaussian noise all of those points.\n",
    "And that's why the points are being scattered around the line."
   ]
  },
  {
   "cell_type": "code",
   "execution_count": 11,
   "id": "d8afb2e2",
   "metadata": {},
   "outputs": [
    {
     "data": {
      "text/plain": [
       "4.8587792760014565"
      ]
     },
     "execution_count": 11,
     "metadata": {},
     "output_type": "execute_result"
    }
   ],
   "source": [
    "np.mean(x)"
   ]
  },
  {
   "cell_type": "code",
   "execution_count": 12,
   "id": "c7e24280",
   "metadata": {},
   "outputs": [
    {
     "data": {
      "text/plain": [
       "14.83097194404298"
      ]
     },
     "execution_count": 12,
     "metadata": {},
     "output_type": "execute_result"
    }
   ],
   "source": [
    "np.mean(y)"
   ]
  },
  {
   "cell_type": "code",
   "execution_count": null,
   "id": "d10ad209",
   "metadata": {},
   "outputs": [],
   "source": []
  }
 ],
 "metadata": {
  "kernelspec": {
   "display_name": "Python 3 (ipykernel)",
   "language": "python",
   "name": "python3"
  },
  "language_info": {
   "codemirror_mode": {
    "name": "ipython",
    "version": 3
   },
   "file_extension": ".py",
   "mimetype": "text/x-python",
   "name": "python",
   "nbconvert_exporter": "python",
   "pygments_lexer": "ipython3",
   "version": "3.9.7"
  }
 },
 "nbformat": 4,
 "nbformat_minor": 5
}
