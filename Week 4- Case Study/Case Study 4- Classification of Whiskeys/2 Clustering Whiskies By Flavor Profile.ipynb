{
 "cells": [
  {
   "cell_type": "markdown",
   "metadata": {},
   "source": [
    "### Clustering Whiskies By Flavor Profile"
   ]
  },
  {
   "cell_type": "markdown",
   "metadata": {},
   "source": [
    "We'll do this using a clustering method from the scikit-learn machine learning\n",
    "module.\n",
    "The specific method we'll be using is called `spectral co-clustering`.\n",
    "\n",
    "One way to think about spectral co-clustering method\n",
    "is to consider a list of words and a list of documents,\n",
    "which is the context in which the method was first introduced.\n",
    "We can represent the problem as a graph, where on the left we have words\n",
    "and on the right, we have documents.\n",
    "Let's draw this.\n",
    "Words on the left.\n",
    "We have documents on the right.\n",
    "Here, different circles correspond to different words.\n",
    "And we have our documents.\n",
    "I'm going to use squares for them.\n",
    "And we have lines connecting words to documents.\n",
    "So for example, in this particular document,\n",
    "these four words might appear.\n",
    "Of course, in practice, you have many more,\n",
    "but this is just a schematic of the basic idea.\n",
    "In the second document, we might have these words.\n",
    "And let me just fill in this picture.\n",
    "The goal is to find clusters that consist\n",
    "of sets of words and sets of documents that often go together.\n",
    "An extreme example would be books written in different languages.\n",
    "We can also think about documents that deal with specific scientific fields,\n",
    "such as biology or physics.\n",
    "The term co-clustering refers to the idea\n",
    "that we simultaneously find both clusters\n",
    "of words and clusters of documents."
   ]
  },
  {
   "cell_type": "markdown",
   "metadata": {},
   "source": [
    "We can first represent this graph as what\n",
    "is called an `adjacency matrix`, where the rows correspond to words\n",
    "and the columns correspond to documents.\n",
    "Any given element of this matrix represents\n",
    "the number of times a given word appears in the given document.\n",
    "We can then take this matrix, manipulate it in certain ways,\n",
    "and find an approximate solution to the stated clustering problem,\n",
    "in terms of `eigenvalues` and `eigenvectors` of this modified matrix.\n",
    "We will not go into the details here, but the term `spectral`\n",
    "refers to the use of eigenvalues and eigenvectors of some matrix,\n",
    "and this is the meaning of the term spectral in spectral co-clustering.\n",
    "If you'd like to learn more about eigenvalues and eigenvectors,\n",
    "you can take any course or any textbook on matrix or linear algebra."
   ]
  },
  {
   "cell_type": "markdown",
   "metadata": {},
   "source": [
    "We can think of the co-clustering technique as simultaneous clustering\n",
    "the rows and columns of matrix, whatever they happen to represent.\n",
    "This method effectively re-orders the rows and columns of the correlation\n",
    "matrix so that we can see blocks corresponding to groups of whiskeys\n",
    "more clearly.\n",
    "Since that whiskeys in the dataset come from six different regions,\n",
    "we're going to ask the clustering algorithm to find six blocks."
   ]
  },
  {
   "cell_type": "code",
   "execution_count": 7,
   "metadata": {},
   "outputs": [],
   "source": [
    "#from sklearn.cluster.bicluster import SpectralCoClustering\n",
    "import pandas as pd\n",
    "import numpy as np\n",
    "import matplotlib.pyplot as plt\n",
    "whisky = pd.read_csv('whiskies.txt')\n",
    "whisky['Region'] = pd.read_csv('regions.txt')\n",
    "flavors = whisky.iloc[:, 2:14]\n",
    "corr_flavors = pd.DataFrame.corr(flavors)\n",
    "corr_whisky = pd.DataFrame.corr(flavors.transpose())"
   ]
  },
  {
   "cell_type": "code",
   "execution_count": 8,
   "metadata": {},
   "outputs": [],
   "source": [
    "from sklearn.cluster.bicluster import SpectralCoclustering"
   ]
  },
  {
   "cell_type": "markdown",
   "metadata": {},
   "source": [
    "The first argument is going to be n clusters, which\n",
    "is the number of clusters we'd like to specify.\n",
    "In this case, we'll set that equal to 6.\n",
    "We'll also specify the random state to be equal to 0.\n",
    "This is a parameter that we don't have to care about too much at this point."
   ]
  },
  {
   "cell_type": "code",
   "execution_count": 9,
   "metadata": {},
   "outputs": [],
   "source": [
    "model=SpectralCoclustering(n_clusters=6,random_state=0)"
   ]
  },
  {
   "cell_type": "code",
   "execution_count": 10,
   "metadata": {},
   "outputs": [
    {
     "data": {
      "text/plain": [
       "SpectralCoclustering(init='k-means++', mini_batch=False, n_clusters=6,\n",
       "                     n_init=10, n_jobs=None, n_svd_vecs=None, random_state=0,\n",
       "                     svd_method='randomized')"
      ]
     },
     "execution_count": 10,
     "metadata": {},
     "output_type": "execute_result"
    }
   ],
   "source": [
    "model.fit(corr_whisky)"
   ]
  },
  {
   "cell_type": "markdown",
   "metadata": {},
   "source": [
    "The output is an array with the following dimensions--\n",
    "number of row clusters times number of rows\n",
    "in the data matrix, the correlation matrix, in this case.\n",
    "The entries of the array are either true or false."
   ]
  },
  {
   "cell_type": "code",
   "execution_count": 13,
   "metadata": {},
   "outputs": [
    {
     "data": {
      "text/plain": [
       "array([[False, False, False, False, False, False, False, False, False,\n",
       "        False, False, False, False, False, False, False, False, False,\n",
       "        False,  True, False, False, False, False, False, False, False,\n",
       "        False, False, False, False, False, False, False, False, False,\n",
       "        False, False, False,  True, False, False, False, False, False,\n",
       "        False, False, False, False, False, False, False, False, False,\n",
       "        False,  True, False, False, False, False, False, False, False,\n",
       "        False, False, False,  True, False,  True, False, False, False,\n",
       "        False, False, False, False, False, False, False, False, False,\n",
       "        False, False, False, False, False],\n",
       "       [False, False, False, False, False,  True, False, False, False,\n",
       "        False, False,  True, False,  True, False, False,  True, False,\n",
       "         True, False, False, False, False, False, False, False, False,\n",
       "        False, False, False, False, False,  True,  True,  True, False,\n",
       "        False, False,  True, False,  True, False, False, False, False,\n",
       "         True, False,  True,  True, False, False, False, False, False,\n",
       "         True, False, False, False, False,  True, False, False, False,\n",
       "        False, False, False, False, False, False,  True, False, False,\n",
       "         True, False, False, False, False, False, False, False,  True,\n",
       "        False, False,  True, False,  True],\n",
       "       [ True, False, False, False,  True, False, False, False,  True,\n",
       "        False, False, False,  True, False,  True,  True, False,  True,\n",
       "        False, False, False, False, False, False, False, False, False,\n",
       "        False, False, False, False,  True, False, False, False,  True,\n",
       "        False, False, False, False, False, False, False, False, False,\n",
       "        False,  True, False, False, False, False, False, False, False,\n",
       "        False, False,  True, False, False, False, False,  True, False,\n",
       "         True,  True, False, False,  True, False, False, False,  True,\n",
       "        False,  True, False,  True, False, False,  True, False, False,\n",
       "        False, False, False, False, False],\n",
       "       [False, False, False,  True, False, False, False, False, False,\n",
       "        False, False, False, False, False, False, False, False, False,\n",
       "        False, False, False,  True, False,  True, False, False, False,\n",
       "        False, False, False, False, False, False, False, False, False,\n",
       "        False, False, False, False, False, False, False, False, False,\n",
       "        False, False, False, False, False, False, False, False, False,\n",
       "        False, False, False,  True,  True, False, False, False, False,\n",
       "        False, False, False, False, False, False, False, False, False,\n",
       "        False, False, False, False, False,  True, False, False, False,\n",
       "        False, False, False, False, False],\n",
       "       [False,  True, False, False, False, False, False,  True, False,\n",
       "        False,  True, False, False, False, False, False, False, False,\n",
       "        False, False, False, False, False, False, False, False,  True,\n",
       "         True, False,  True, False, False, False, False, False, False,\n",
       "         True, False, False, False, False, False,  True,  True,  True,\n",
       "        False, False, False, False, False, False,  True,  True,  True,\n",
       "        False, False, False, False, False, False, False, False,  True,\n",
       "        False, False,  True, False, False, False, False,  True, False,\n",
       "        False, False,  True, False, False, False, False, False, False,\n",
       "        False,  True, False,  True, False],\n",
       "       [False, False,  True, False, False, False,  True, False, False,\n",
       "         True, False, False, False, False, False, False, False, False,\n",
       "        False, False,  True, False,  True, False,  True,  True, False,\n",
       "        False,  True, False,  True, False, False, False, False, False,\n",
       "        False,  True, False, False, False,  True, False, False, False,\n",
       "        False, False, False, False,  True,  True, False, False, False,\n",
       "        False, False, False, False, False, False,  True, False, False,\n",
       "        False, False, False, False, False, False, False, False, False,\n",
       "        False, False, False, False,  True, False, False,  True, False,\n",
       "         True, False, False, False, False]])"
      ]
     },
     "execution_count": 13,
     "metadata": {},
     "output_type": "execute_result"
    }
   ],
   "source": [
    "model.rows_"
   ]
  },
  {
   "cell_type": "markdown",
   "metadata": {},
   "source": [
    "If we sum all of the columns of this array,\n",
    "we can find out how many observations belong to each cluster.\n",
    "Let's try it out.\n",
    "We will us NumPy sum.\n",
    "We'll take the model.rows.\n",
    "And we specify the axes.\n",
    "Remember, axis 0 is rows, axis equal to 1 is columns.\n",
    "The output tells us how many whiskeys belong to a cluster 0,\n",
    "cluster 1, cluster 2, and so on.\n",
    "For example, here, 19 whiskeys belong to cluster number 2."
   ]
  },
  {
   "cell_type": "code",
   "execution_count": 14,
   "metadata": {},
   "outputs": [
    {
     "data": {
      "text/plain": [
       "array([ 5, 20, 19,  6, 19, 17])"
      ]
     },
     "execution_count": 14,
     "metadata": {},
     "output_type": "execute_result"
    }
   ],
   "source": [
    "np.sum(model.rows_,axis=1)"
   ]
  },
  {
   "cell_type": "markdown",
   "metadata": {},
   "source": [
    "If instead we sum all of the rows, we can find out how many\n",
    "clusters belong to each observation.\n",
    "Because each observation belongs in just one of the six clusters,\n",
    "the answer should be 1 for all of them.\n",
    "But let's check that just to be sure."
   ]
  },
  {
   "cell_type": "code",
   "execution_count": 15,
   "metadata": {},
   "outputs": [
    {
     "data": {
      "text/plain": [
       "array([1, 1, 1, 1, 1, 1, 1, 1, 1, 1, 1, 1, 1, 1, 1, 1, 1, 1, 1, 1, 1, 1,\n",
       "       1, 1, 1, 1, 1, 1, 1, 1, 1, 1, 1, 1, 1, 1, 1, 1, 1, 1, 1, 1, 1, 1,\n",
       "       1, 1, 1, 1, 1, 1, 1, 1, 1, 1, 1, 1, 1, 1, 1, 1, 1, 1, 1, 1, 1, 1,\n",
       "       1, 1, 1, 1, 1, 1, 1, 1, 1, 1, 1, 1, 1, 1, 1, 1, 1, 1, 1, 1])"
      ]
     },
     "execution_count": 15,
     "metadata": {},
     "output_type": "execute_result"
    }
   ],
   "source": [
    "np.sum(model.rows_,axis=0)"
   ]
  },
  {
   "cell_type": "markdown",
   "metadata": {},
   "source": [
    "Let's look at the row labels in our model.\n",
    "How do we interpret the output here?\n",
    "Observation number 0 belongs to cluster number 5,\n",
    "observation number 1 belongs to cluster number 2, and so on.\n",
    "All of the entries in the array have to be numbers between 0 and 5"
   ]
  },
  {
   "cell_type": "code",
   "execution_count": 16,
   "metadata": {},
   "outputs": [
    {
     "data": {
      "text/plain": [
       "array([2, 4, 5, 3, 2, 1, 5, 4, 2, 5, 4, 1, 2, 1, 2, 2, 1, 2, 1, 0, 5, 3,\n",
       "       5, 3, 5, 5, 4, 4, 5, 4, 5, 2, 1, 1, 1, 2, 4, 5, 1, 0, 1, 5, 4, 4,\n",
       "       4, 1, 2, 1, 1, 5, 5, 4, 4, 4, 1, 0, 2, 3, 3, 1, 5, 2, 4, 2, 2, 4,\n",
       "       0, 2, 0, 1, 4, 2, 1, 2, 4, 2, 5, 3, 2, 5, 1, 5, 4, 1, 4, 1])"
      ]
     },
     "execution_count": 16,
     "metadata": {},
     "output_type": "execute_result"
    }
   ],
   "source": [
    "model.row_labels_"
   ]
  },
  {
   "cell_type": "code",
   "execution_count": null,
   "metadata": {},
   "outputs": [],
   "source": []
  }
 ],
 "metadata": {
  "kernelspec": {
   "display_name": "Python 3",
   "language": "python",
   "name": "python3"
  },
  "language_info": {
   "codemirror_mode": {
    "name": "ipython",
    "version": 3
   },
   "file_extension": ".py",
   "mimetype": "text/x-python",
   "name": "python",
   "nbconvert_exporter": "python",
   "pygments_lexer": "ipython3",
   "version": "3.7.6"
  }
 },
 "nbformat": 4,
 "nbformat_minor": 4
}
