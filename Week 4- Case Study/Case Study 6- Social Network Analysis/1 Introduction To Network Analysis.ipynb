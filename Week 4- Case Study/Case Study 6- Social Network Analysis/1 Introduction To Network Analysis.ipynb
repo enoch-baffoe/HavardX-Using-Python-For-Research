{
 "cells": [
  {
   "cell_type": "markdown",
   "id": "c19e332d",
   "metadata": {},
   "source": [
    "# Introduction to Network Analysis\n",
    "\n"
   ]
  },
  {
   "cell_type": "markdown",
   "id": "e3173d20",
   "metadata": {},
   "source": [
    "Many systems of scientific and societal interest\n",
    "consist of a large number of interacting components.\n",
    "The structure of these systems can be represented\n",
    "as networks where network nodes represent the components,\n",
    "and network edges, the interactions between the components."
   ]
  },
  {
   "cell_type": "markdown",
   "id": "85593b80",
   "metadata": {},
   "source": [
    "Network analysis can be used to study how pathogens, behaviors,\n",
    "and information spread in social networks,\n",
    "having important implications for our understanding of epidemics\n",
    "and the planning of effective interventions."
   ]
  },
  {
   "cell_type": "markdown",
   "id": "b1b74ccf",
   "metadata": {},
   "source": [
    "In a biological context, at a molecular level,\n",
    "network analysis can be applied to gene regulation networks, signal\n",
    "transduction networks, protein interaction networks, and much,\n",
    "much more."
   ]
  },
  {
   "cell_type": "markdown",
   "id": "76f42425",
   "metadata": {},
   "source": [
    "we'll then write a Python function to generate very simple random graphs,\n",
    "and finally, we'll analyze some basic properties of social networks collected\n",
    "in different rural villages in India."
   ]
  },
  {
   "cell_type": "markdown",
   "id": "f17d65ab",
   "metadata": {},
   "source": [
    "`Network` refers to the real world object, such as a road\n",
    "network, whereas a `graph` refers to its abstract mathematical representation.\n",
    "It's useful to be aware of this distinction,\n",
    "but we'll be using these terms, networks and graph interchangeably."
   ]
  },
  {
   "cell_type": "markdown",
   "id": "511bb7d7",
   "metadata": {},
   "source": [
    "Graphs consist of nodes, also called vertices, and links, also called edges.\n",
    "Mathematically, a graph is a collection of vertices and edges\n",
    "where each edge corresponds to a pair of vertices.\n",
    "When we visualize graphs, we typically draw vertices as circles and edges\n",
    "as lines connecting the circles."
   ]
  },
  {
   "cell_type": "markdown",
   "id": "f6b590a7",
   "metadata": {},
   "source": [
    "Two connected vertices are said to be `neighbors`.\n",
    "The `degree of a vertex` is the number of entries connected to it,\n",
    "A `path` is a sequence of unique vertices, such\n",
    "that any two vertices in the sequence are connected by an edge.\n",
    "The `length of a path` is defined as the number of edges in that path.\n",
    "The `shortest path` is a path that comprises the minimum number of steps for us to go from vertex a to vertex b.\n",
    "A vertex v is said to be `reachable` from vertex u if there exists a path from u to v, that is, if there is a way to get from u to v.\n",
    "A graph is said to be `connected` if every vertex is reachable\n",
    "from every other vertex, that is, if there\n",
    "is a path from every vertex to every other vertex.\n",
    "If a graph is not connected, it is said to be `disconnected`.\n",
    "If a graph is disconnected, it breaks apart naturally\n",
    "into `pieces`, or `components`.\n",
    "Any component is connected when considered on its own,\n",
    "but there are no edges between the nodes that belong to different components.\n",
    "The size of a component is defined as the number of nodes in the component.\n",
    "If there are several components in a graph,\n",
    "the largest component, the one having the greatest number of nodes,\n",
    "is called the `largest connected component`."
   ]
  },
  {
   "cell_type": "code",
   "execution_count": null,
   "id": "b71d07e5",
   "metadata": {},
   "outputs": [],
   "source": []
  }
 ],
 "metadata": {
  "kernelspec": {
   "display_name": "Python 3 (ipykernel)",
   "language": "python",
   "name": "python3"
  },
  "language_info": {
   "codemirror_mode": {
    "name": "ipython",
    "version": 3
   },
   "file_extension": ".py",
   "mimetype": "text/x-python",
   "name": "python",
   "nbconvert_exporter": "python",
   "pygments_lexer": "ipython3",
   "version": "3.9.7"
  }
 },
 "nbformat": 4,
 "nbformat_minor": 5
}
