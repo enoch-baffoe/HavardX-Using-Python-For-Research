{
 "cells": [
  {
   "cell_type": "markdown",
   "id": "28584e16",
   "metadata": {},
   "source": [
    "# Basics of NetworkX\n",
    "Networks are created and manipulated using the NetworkX module."
   ]
  },
  {
   "cell_type": "code",
   "execution_count": 1,
   "id": "65bae6ae",
   "metadata": {},
   "outputs": [],
   "source": [
    "import networkx as nx"
   ]
  },
  {
   "cell_type": "markdown",
   "id": "9553f15a",
   "metadata": {},
   "source": [
    "We can then create an instance of an undirected graph using\n",
    "that Graph function."
   ]
  },
  {
   "cell_type": "code",
   "execution_count": 2,
   "id": "165e51f5",
   "metadata": {},
   "outputs": [],
   "source": [
    "G=nx.Graph()"
   ]
  },
  {
   "cell_type": "markdown",
   "id": "46739ca4",
   "metadata": {},
   "source": [
    "We can now add nodes one at a time or several at a time.\n",
    "We can also get a list of the current nodes."
   ]
  },
  {
   "cell_type": "code",
   "execution_count": 3,
   "id": "18c5c2d4",
   "metadata": {},
   "outputs": [],
   "source": [
    "G.add_node(1)"
   ]
  },
  {
   "cell_type": "code",
   "execution_count": 4,
   "id": "cdcae64e",
   "metadata": {},
   "outputs": [],
   "source": [
    "G.add_nodes_from([2,3])"
   ]
  },
  {
   "cell_type": "code",
   "execution_count": 5,
   "id": "16a7563f",
   "metadata": {},
   "outputs": [],
   "source": [
    "#adding multiple nodes\n",
    "G.add_nodes_from([\"u\",\"v\"])"
   ]
  },
  {
   "cell_type": "code",
   "execution_count": 6,
   "id": "8c3c5587",
   "metadata": {},
   "outputs": [
    {
     "data": {
      "text/plain": [
       "NodeView((1, 2, 3, 'u', 'v'))"
      ]
     },
     "execution_count": 6,
     "metadata": {},
     "output_type": "execute_result"
    }
   ],
   "source": [
    "G.nodes()"
   ]
  },
  {
   "cell_type": "markdown",
   "id": "186e727b",
   "metadata": {},
   "source": [
    "Similar functions exist also for adding edges.\n",
    "Remember that edges are treated as pairs of nodes."
   ]
  },
  {
   "cell_type": "code",
   "execution_count": 7,
   "id": "225217ae",
   "metadata": {},
   "outputs": [],
   "source": [
    "G.add_edge(1,2)"
   ]
  },
  {
   "cell_type": "code",
   "execution_count": 8,
   "id": "65eead06",
   "metadata": {},
   "outputs": [],
   "source": [
    "G.add_edge(\"u\",\"v\")"
   ]
  },
  {
   "cell_type": "markdown",
   "id": "b0f809fa",
   "metadata": {},
   "source": [
    "Instead of using add_nodes_from, now we're using the add_edges_from method,\n",
    "G.add_edges_from.\n",
    "The input argument is going to be a list, which\n",
    "consists of several tuples, each tuple corresponding to an edge."
   ]
  },
  {
   "cell_type": "code",
   "execution_count": 9,
   "id": "c62f259a",
   "metadata": {},
   "outputs": [],
   "source": [
    "G.add_edges_from([(1,3),(1,4),(1,5),(1,6)])"
   ]
  },
  {
   "cell_type": "markdown",
   "id": "d625f906",
   "metadata": {},
   "source": [
    "We can add an edge even if the underlying nodes don't already\n",
    "exist as part of the graph.\n",
    "In that case, Python adds those nodes in automatically."
   ]
  },
  {
   "cell_type": "code",
   "execution_count": 10,
   "id": "45ee90d8",
   "metadata": {},
   "outputs": [],
   "source": [
    "G.add_edge(\"u\",\"w\")"
   ]
  },
  {
   "cell_type": "code",
   "execution_count": 11,
   "id": "21409e9a",
   "metadata": {},
   "outputs": [
    {
     "data": {
      "text/plain": [
       "EdgeView([(1, 2), (1, 3), (1, 4), (1, 5), (1, 6), ('u', 'v'), ('u', 'w')])"
      ]
     },
     "execution_count": 11,
     "metadata": {},
     "output_type": "execute_result"
    }
   ],
   "source": [
    "G.edges()"
   ]
  },
  {
   "cell_type": "markdown",
   "id": "4dd5b4bc",
   "metadata": {},
   "source": [
    "We can also remove nodes and edges from our graph."
   ]
  },
  {
   "cell_type": "code",
   "execution_count": 12,
   "id": "bb4635fa",
   "metadata": {},
   "outputs": [],
   "source": [
    "G.remove_node(2)"
   ]
  },
  {
   "cell_type": "code",
   "execution_count": 13,
   "id": "5e98ba71",
   "metadata": {},
   "outputs": [
    {
     "data": {
      "text/plain": [
       "NodeView((1, 3, 'u', 'v', 4, 5, 6, 'w'))"
      ]
     },
     "execution_count": 13,
     "metadata": {},
     "output_type": "execute_result"
    }
   ],
   "source": [
    "G.nodes()"
   ]
  },
  {
   "cell_type": "code",
   "execution_count": 14,
   "id": "de7207ca",
   "metadata": {},
   "outputs": [],
   "source": [
    "G.remove_nodes_from([4,5])"
   ]
  },
  {
   "cell_type": "code",
   "execution_count": 15,
   "id": "fc082ec6",
   "metadata": {},
   "outputs": [],
   "source": [
    "G.remove_edge(1,3)"
   ]
  },
  {
   "cell_type": "code",
   "execution_count": 16,
   "id": "7d187cde",
   "metadata": {},
   "outputs": [
    {
     "data": {
      "text/plain": [
       "EdgeView([(1, 6), ('u', 'v'), ('u', 'w')])"
      ]
     },
     "execution_count": 16,
     "metadata": {},
     "output_type": "execute_result"
    }
   ],
   "source": [
    "G.edges()"
   ]
  },
  {
   "cell_type": "code",
   "execution_count": 17,
   "id": "7b4da60d",
   "metadata": {},
   "outputs": [],
   "source": [
    "G.remove_edges_from([(1,2),('u','v')])"
   ]
  },
  {
   "cell_type": "code",
   "execution_count": 18,
   "id": "8dbf178d",
   "metadata": {},
   "outputs": [
    {
     "data": {
      "text/plain": [
       "EdgeView([(1, 6), ('u', 'w')])"
      ]
     },
     "execution_count": 18,
     "metadata": {},
     "output_type": "execute_result"
    }
   ],
   "source": [
    "G.edges()"
   ]
  },
  {
   "cell_type": "markdown",
   "id": "5669ef1a",
   "metadata": {},
   "source": [
    "We can also find out the number of nodes and the number of edges in our graph."
   ]
  },
  {
   "cell_type": "code",
   "execution_count": 19,
   "id": "d45f7b35",
   "metadata": {},
   "outputs": [
    {
     "data": {
      "text/plain": [
       "6"
      ]
     },
     "execution_count": 19,
     "metadata": {},
     "output_type": "execute_result"
    }
   ],
   "source": [
    "G.number_of_nodes()"
   ]
  },
  {
   "cell_type": "code",
   "execution_count": 20,
   "id": "067662bd",
   "metadata": {},
   "outputs": [
    {
     "data": {
      "text/plain": [
       "2"
      ]
     },
     "execution_count": 20,
     "metadata": {},
     "output_type": "execute_result"
    }
   ],
   "source": [
    "G.number_of_edges()"
   ]
  },
  {
   "cell_type": "code",
   "execution_count": 21,
   "id": "a8139b12",
   "metadata": {},
   "outputs": [
    {
     "ename": "TypeError",
     "evalue": "add_nodes_from() takes 2 positional arguments but 5 were given",
     "output_type": "error",
     "traceback": [
      "\u001b[1;31m---------------------------------------------------------------------------\u001b[0m",
      "\u001b[1;31mTypeError\u001b[0m                                 Traceback (most recent call last)",
      "\u001b[1;32mC:\\Users\\GTPSER~1\\AppData\\Local\\Temp/ipykernel_17112/3448329848.py\u001b[0m in \u001b[0;36m<module>\u001b[1;34m\u001b[0m\n\u001b[0;32m      1\u001b[0m \u001b[0mG\u001b[0m \u001b[1;33m=\u001b[0m \u001b[0mnx\u001b[0m\u001b[1;33m.\u001b[0m\u001b[0mGraph\u001b[0m\u001b[1;33m(\u001b[0m\u001b[1;33m)\u001b[0m\u001b[1;33m\u001b[0m\u001b[1;33m\u001b[0m\u001b[0m\n\u001b[1;32m----> 2\u001b[1;33m \u001b[0mG\u001b[0m\u001b[1;33m.\u001b[0m\u001b[0madd_nodes_from\u001b[0m\u001b[1;33m(\u001b[0m\u001b[1;36m1\u001b[0m\u001b[1;33m,\u001b[0m\u001b[1;36m2\u001b[0m\u001b[1;33m,\u001b[0m\u001b[1;36m3\u001b[0m\u001b[1;33m,\u001b[0m\u001b[1;36m4\u001b[0m\u001b[1;33m)\u001b[0m\u001b[1;33m\u001b[0m\u001b[1;33m\u001b[0m\u001b[0m\n\u001b[0m\u001b[0;32m      3\u001b[0m \u001b[0mG\u001b[0m\u001b[1;33m.\u001b[0m\u001b[0madd_edges_from\u001b[0m\u001b[1;33m(\u001b[0m\u001b[1;33m(\u001b[0m\u001b[1;36m1\u001b[0m\u001b[1;33m,\u001b[0m\u001b[1;36m2\u001b[0m\u001b[1;33m)\u001b[0m\u001b[1;33m,\u001b[0m\u001b[1;33m(\u001b[0m\u001b[1;36m3\u001b[0m\u001b[1;33m,\u001b[0m\u001b[1;36m4\u001b[0m\u001b[1;33m)\u001b[0m\u001b[1;33m)\u001b[0m\u001b[1;33m\u001b[0m\u001b[1;33m\u001b[0m\u001b[0m\n\u001b[0;32m      4\u001b[0m \u001b[0mG\u001b[0m\u001b[1;33m.\u001b[0m\u001b[0mnumber_of_nodes\u001b[0m\u001b[1;33m(\u001b[0m\u001b[1;33m)\u001b[0m\u001b[1;33m,\u001b[0m \u001b[0mG\u001b[0m\u001b[1;33m.\u001b[0m\u001b[0mnumber_of_edges\u001b[0m\u001b[1;33m(\u001b[0m\u001b[1;33m)\u001b[0m\u001b[1;33m\u001b[0m\u001b[1;33m\u001b[0m\u001b[0m\n",
      "\u001b[1;31mTypeError\u001b[0m: add_nodes_from() takes 2 positional arguments but 5 were given"
     ]
    }
   ],
   "source": [
    "G = nx.Graph()\n",
    "G.add_nodes_from(1,2,3,4)\n",
    "G.add_edges_from((1,2),(3,4))\n",
    "G.number_of_nodes(), G.number_of_edges()"
   ]
  },
  {
   "cell_type": "code",
   "execution_count": null,
   "id": "cd237f00",
   "metadata": {},
   "outputs": [],
   "source": []
  }
 ],
 "metadata": {
  "kernelspec": {
   "display_name": "Python 3 (ipykernel)",
   "language": "python",
   "name": "python3"
  },
  "language_info": {
   "codemirror_mode": {
    "name": "ipython",
    "version": 3
   },
   "file_extension": ".py",
   "mimetype": "text/x-python",
   "name": "python",
   "nbconvert_exporter": "python",
   "pygments_lexer": "ipython3",
   "version": "3.9.7"
  }
 },
 "nbformat": 4,
 "nbformat_minor": 5
}
