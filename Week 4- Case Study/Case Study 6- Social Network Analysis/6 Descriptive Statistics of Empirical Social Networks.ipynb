{
 "cells": [
  {
   "cell_type": "markdown",
   "id": "b31f1420",
   "metadata": {},
   "source": [
    "# Descriptive Statistics of Empirical Social Networks"
   ]
  },
  {
   "cell_type": "code",
   "execution_count": 1,
   "id": "ec0afc08",
   "metadata": {},
   "outputs": [],
   "source": [
    "from scipy.stats import bernoulli\n",
    "import networkx as nx\n",
    "import matplotlib.pyplot as plt\n",
    "import numpy as np"
   ]
  },
  {
   "cell_type": "code",
   "execution_count": 10,
   "id": "838d68a2",
   "metadata": {},
   "outputs": [],
   "source": [
    "def plot_degree_distribution(G):\n",
    "    degree_sequence = [d for n, d in G.degree()]\n",
    "    plt.hist(degree_sequence, histtype=\"step\")\n",
    "    plt.xlabel(\"Degree $k$\")\n",
    "    plt.ylabel(\"$P(k)$\")\n",
    "    plt.title(\"Degree Distribution\")"
   ]
  },
  {
   "cell_type": "markdown",
   "id": "d5f7e4b7",
   "metadata": {},
   "source": [
    "In this task, we will look at basic properties of the social networks\n",
    "from two different villages in rural India.\n",
    "These data are part of a much larger dataset that was collected\n",
    "to study diffusion of micro-finance.\n",
    "And the findings of this study were published\n",
    "in an article called, `\"The Diffusion of Micro-finance\"` in the Journal Science\n",
    "in 2013."
   ]
  },
  {
   "cell_type": "markdown",
   "id": "b51956f3",
   "metadata": {},
   "source": [
    "In short, a census of households was conducted,\n",
    "and a subset of individuals was asked detailed questions\n",
    "about the relationships they have with others in the village.\n",
    "This information was used to create networks for each village.\n",
    "Basic information for all households and all surveyed individuals\n",
    "was also collected."
   ]
  },
  {
   "cell_type": "markdown",
   "id": "857c8529",
   "metadata": {},
   "source": [
    "The structure of connections in a network\n",
    "can be captured in what is known as the `Adjacency matrix` of the network.\n",
    "If we have n nodes, this is n by n matrix,\n",
    "where entry ij is one if node i and node j have a tie between them.\n",
    "Otherwise, that entry is equal to zero.\n",
    "The graphs we're dealing with are called `undirected`,\n",
    "which means that a tie between nodes i and j\n",
    "can just as well be described as a tie between nodes j and i.\n",
    "Consequently, the adjacency matrix is `symmetric`.\n",
    "That means that the element ij is always the same as the element ji."
   ]
  },
  {
   "cell_type": "markdown",
   "id": "9593a9a8",
   "metadata": {},
   "source": [
    "We'll be using the `np.loadtxt` function to read in the file."
   ]
  },
  {
   "cell_type": "code",
   "execution_count": 3,
   "id": "62b6f6f5",
   "metadata": {},
   "outputs": [],
   "source": [
    "A1=np.loadtxt(\"adj_allVillageRelationships_vilno_1.csv\",delimiter=\",\")\n",
    "A2=np.loadtxt(\"adj_allVillageRelationships_vilno_2.csv\",delimiter=\",\")"
   ]
  },
  {
   "cell_type": "markdown",
   "id": "f903a186",
   "metadata": {},
   "source": [
    "Our next step will be to convert the adjacency matrices to graph objects.\n",
    "We will accomplish that by using the `to NetworkX graph` method."
   ]
  },
  {
   "cell_type": "code",
   "execution_count": 4,
   "id": "c65aa070",
   "metadata": {},
   "outputs": [],
   "source": [
    "G1=nx.to_networkx_graph(A1)\n",
    "G2=nx.to_networkx_graph(A2)"
   ]
  },
  {
   "cell_type": "markdown",
   "id": "7b685f21",
   "metadata": {},
   "source": [
    "Although networks can be quite complex, we can measure some of their properties\n",
    "using simple numbers.\n",
    "To get a basic sense of the network size and number of connections,\n",
    "let's count the number of nodes and the number of edges in the networks.\n",
    "\n",
    "In addition, each node has a total number of edges, its degree.\n",
    "Let's also calculate the mean degree for all nodes in the network."
   ]
  },
  {
   "cell_type": "code",
   "execution_count": 5,
   "id": "80302020",
   "metadata": {},
   "outputs": [],
   "source": [
    "def basic_net_stats(G):\n",
    "    print(\"Number of nodes: %d\" % G.number_of_nodes())\n",
    "    print(\"Number of edges %d\" % G.number_of_edges())\n",
    "    degree_sequence = [d for n, d in G.degree()]\n",
    "    print(\"Average degree: %.2f\" % np.mean(degree_sequence))"
   ]
  },
  {
   "cell_type": "code",
   "execution_count": 7,
   "id": "b42f6044",
   "metadata": {},
   "outputs": [
    {
     "name": "stdout",
     "output_type": "stream",
     "text": [
      "Number of nodes: 843\n",
      "Number of edges 3405\n",
      "Average degree: 8.08\n"
     ]
    }
   ],
   "source": [
    "basic_net_stats(G1)"
   ]
  },
  {
   "cell_type": "code",
   "execution_count": 9,
   "id": "3fe52f39",
   "metadata": {},
   "outputs": [
    {
     "name": "stdout",
     "output_type": "stream",
     "text": [
      "Number of nodes: 877\n",
      "Number of edges 3063\n",
      "Average degree: 6.99\n"
     ]
    }
   ],
   "source": [
    "basic_net_stats(G2)"
   ]
  },
  {
   "cell_type": "code",
   "execution_count": 12,
   "id": "76b3b7d3",
   "metadata": {},
   "outputs": [
    {
     "data": {
      "image/png": "[encoded data removed]",
      "text/plain": [
       "<Figure size 432x288 with 1 Axes>"
      ]
     },
     "metadata": {
      "needs_background": "light"
     },
     "output_type": "display_data"
    }
   ],
   "source": [
    "plot_degree_distribution(G1)\n",
    "plot_degree_distribution(G2)\n",
    "plt.savefig(\"village_hist.pdf\")"
   ]
  },
  {
   "cell_type": "markdown",
   "id": "1d11ef4a",
   "metadata": {},
   "source": [
    "And in this case, we have degree distributions\n",
    "from the two different villages, shown here, one on top of the other.\n",
    "Notice how the degree distributions look quite different from what\n",
    "we observed for the ER networks.\n",
    "It seems that most people have relatively few connections,\n",
    "whereas a small fraction of people have a large number of connections.\n",
    "This distribution doesn't look at all symmetric,\n",
    "and its tail extends quite far to the right.\n",
    "This suggests that the ER graphs are likely not good models\n",
    "for real world social networks.\n",
    "In practice, we can use ER graphs as a kind of reference graph\n",
    "by comparing their properties to those of empirical social networks."
   ]
  },
  {
   "cell_type": "code",
   "execution_count": null,
   "id": "6b5fe688",
   "metadata": {},
   "outputs": [],
   "source": []
  }
 ],
 "metadata": {
  "kernelspec": {
   "display_name": "Python 3 (ipykernel)",
   "language": "python",
   "name": "python3"
  },
  "language_info": {
   "codemirror_mode": {
    "name": "ipython",
    "version": 3
   },
   "file_extension": ".py",
   "mimetype": "text/x-python",
   "name": "python",
   "nbconvert_exporter": "python",
   "pygments_lexer": "ipython3",
   "version": "3.9.7"
  }
 },
 "nbformat": 4,
 "nbformat_minor": 5
}
