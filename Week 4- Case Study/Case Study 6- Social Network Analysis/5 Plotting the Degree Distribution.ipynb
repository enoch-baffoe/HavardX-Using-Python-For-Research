{
 "cells": [
  {
   "cell_type": "markdown",
   "id": "6482def8",
   "metadata": {},
   "source": [
    "# Plotting the Degree Distribution"
   ]
  },
  {
   "cell_type": "code",
   "execution_count": 1,
   "id": "634bbfc4",
   "metadata": {},
   "outputs": [],
   "source": [
    "from scipy.stats import bernoulli\n",
    "import networkx as nx\n",
    "import matplotlib.pyplot as plt"
   ]
  },
  {
   "cell_type": "code",
   "execution_count": 2,
   "id": "768a5363",
   "metadata": {},
   "outputs": [],
   "source": [
    "def er_graph(N,p):\n",
    "    '''\n",
    "    Generate an ER graph\n",
    "    '''\n",
    "    G = nx.Graph()\n",
    "    #add all nodes in the graph\n",
    "    G.add_nodes_from(range(N))\n",
    "    #loop over all pairs of nodes\n",
    "    for node1 in G.nodes():\n",
    "        for node2 in G.nodes():\n",
    "            if node1 < node2 and bernoulli.rvs(p=p):\n",
    "                \n",
    "                #add an edge with prob p\n",
    "                G.add_edge(node1, node2)\n",
    "    return G"
   ]
  },
  {
   "cell_type": "code",
   "execution_count": 3,
   "id": "76130b02",
   "metadata": {},
   "outputs": [],
   "source": [
    "G = er_graph(50,0.08)"
   ]
  },
  {
   "cell_type": "markdown",
   "id": "00d6a7ca",
   "metadata": {},
   "source": [
    "The degree returns each node and the number of components connected to it"
   ]
  },
  {
   "cell_type": "code",
   "execution_count": 4,
   "id": "504c571e",
   "metadata": {},
   "outputs": [
    {
     "data": {
      "text/plain": [
       "DegreeView({0: 0, 1: 4, 2: 4, 3: 8, 4: 3, 5: 6, 6: 5, 7: 7, 8: 0, 9: 2, 10: 4, 11: 2, 12: 3, 13: 2, 14: 7, 15: 4, 16: 3, 17: 2, 18: 3, 19: 1, 20: 4, 21: 5, 22: 5, 23: 6, 24: 6, 25: 3, 26: 4, 27: 2, 28: 4, 29: 4, 30: 5, 31: 3, 32: 5, 33: 4, 34: 6, 35: 2, 36: 7, 37: 4, 38: 2, 39: 2, 40: 5, 41: 1, 42: 5, 43: 4, 44: 1, 45: 4, 46: 4, 47: 7, 48: 4, 49: 2})"
      ]
     },
     "execution_count": 4,
     "metadata": {},
     "output_type": "execute_result"
    }
   ],
   "source": [
    "G.degree()"
   ]
  },
  {
   "cell_type": "code",
   "execution_count": 5,
   "id": "11eedaa0",
   "metadata": {},
   "outputs": [],
   "source": [
    "def plot_degree_distribution(G):\n",
    "    degree_sequence = [d for n, d in G.degree()]\n",
    "    plt.hist(degree_sequence, histtype=\"step\")\n",
    "    plt.xlabel(\"Degree $k$\")\n",
    "    plt.ylabel(\"$P(k)$\")\n",
    "    plt.title(\"Degree Distribution\")"
   ]
  },
  {
   "cell_type": "code",
   "execution_count": 6,
   "id": "ac4f8a28",
   "metadata": {},
   "outputs": [
    {
     "data": {
      "image/png": "[encoded data removed]",
      "text/plain": [
       "<Figure size 432x288 with 1 Axes>"
      ]
     },
     "metadata": {
      "needs_background": "light"
     },
     "output_type": "display_data"
    }
   ],
   "source": [
    "G = er_graph(50,0.08)\n",
    "plot_degree_distribution(G)\n",
    "plt.savefig(\"hist1.pdf\")"
   ]
  },
  {
   "cell_type": "markdown",
   "id": "1f10ff67",
   "metadata": {},
   "source": [
    "Looking at the histogram, we'll see that there\n",
    "are some notes that have zero degree, so they have no connections.\n",
    "And the most connected node has 15 connections."
   ]
  },
  {
   "cell_type": "code",
   "execution_count": 7,
   "id": "69fc5a78",
   "metadata": {},
   "outputs": [
    {
     "data": {
      "image/png": "[encoded data removed]",
      "text/plain": [
       "<Figure size 432x288 with 1 Axes>"
      ]
     },
     "metadata": {
      "needs_background": "light"
     },
     "output_type": "display_data"
    }
   ],
   "source": [
    "G = er_graph(500,0.08)\n",
    "plot_degree_distribution(G)\n",
    "plt.savefig(\"hist1.pdf\")"
   ]
  },
  {
   "cell_type": "markdown",
   "id": "bc4b4a1d",
   "metadata": {},
   "source": [
    "Let's next try generating a couple of different graphs using\n",
    "our er_graph function, and then we can block the degree distributions\n",
    "for all of those graphs."
   ]
  },
  {
   "cell_type": "code",
   "execution_count": 8,
   "id": "8540f811",
   "metadata": {},
   "outputs": [
    {
     "data": {
      "image/png": "[encoded data removed]",
      "text/plain": [
       "<Figure size 432x288 with 1 Axes>"
      ]
     },
     "metadata": {
      "needs_background": "light"
     },
     "output_type": "display_data"
    }
   ],
   "source": [
    "G1 = er_graph(500,0.08)\n",
    "plot_degree_distribution(G1)\n",
    "G2 = er_graph(500,0.08)\n",
    "plot_degree_distribution(G2)\n",
    "G3 = er_graph(500,0.08)\n",
    "plot_degree_distribution(G3)\n",
    "plt.savefig(\"hist_3.pdf\")"
   ]
  },
  {
   "cell_type": "markdown",
   "id": "690d2824",
   "metadata": {},
   "source": [
    "Because every graph realization will be different from any other,\n",
    "that means that the specific degree distribution of any graph\n",
    "is going to be somewhat different from that of any other graph.\n",
    "In this case, we can see that the three degree distributions follow one another\n",
    "fairly closely."
   ]
  },
  {
   "cell_type": "code",
   "execution_count": 9,
   "id": "3c41c805",
   "metadata": {},
   "outputs": [
    {
     "data": {
      "text/plain": [
       "(array([1., 0., 0., 0., 0., 1., 0., 0., 0., 1.]),\n",
       " array([1. , 1.2, 1.4, 1.6, 1.8, 2. , 2.2, 2.4, 2.6, 2.8, 3. ]),\n",
       " <BarContainer object of 10 artists>)"
      ]
     },
     "execution_count": 9,
     "metadata": {},
     "output_type": "execute_result"
    },
    {
     "data": {
      "image/png": "[encoded data removed]",
      "text/plain": [
       "<Figure size 432x288 with 1 Axes>"
      ]
     },
     "metadata": {
      "needs_background": "light"
     },
     "output_type": "display_data"
    }
   ],
   "source": [
    "D = {1:1, 2:2, 3:3}\n",
    "plt.hist(D)"
   ]
  },
  {
   "cell_type": "markdown",
   "id": "c5e100a0",
   "metadata": {},
   "source": [
    "This code above contains an error.\n",
    "plt.hist does not take dictionaries a single argument."
   ]
  },
  {
   "cell_type": "code",
   "execution_count": null,
   "id": "82d966c9",
   "metadata": {},
   "outputs": [],
   "source": []
  }
 ],
 "metadata": {
  "kernelspec": {
   "display_name": "Python 3 (ipykernel)",
   "language": "python",
   "name": "python3"
  },
  "language_info": {
   "codemirror_mode": {
    "name": "ipython",
    "version": 3
   },
   "file_extension": ".py",
   "mimetype": "text/x-python",
   "name": "python",
   "nbconvert_exporter": "python",
   "pygments_lexer": "ipython3",
   "version": "3.9.7"
  }
 },
 "nbformat": 4,
 "nbformat_minor": 5
}
