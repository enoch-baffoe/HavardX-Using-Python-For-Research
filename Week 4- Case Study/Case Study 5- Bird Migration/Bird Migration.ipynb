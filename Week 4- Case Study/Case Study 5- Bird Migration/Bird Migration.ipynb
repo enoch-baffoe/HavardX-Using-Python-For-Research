{
 "cells": [
  {
   "cell_type": "markdown",
   "metadata": {},
   "source": [
    "## 4.2.1: Introduction to GPS Tracking of Birds\n",
    "In this case study, we will introduce you\n",
    "to manipulating, examining, and visualizing GPS data used\n",
    "to tracking birds in this way.\n",
    "The data for this case study comes from the LifeWatch INBO project.\n",
    "Several data sets have been released as part of this project.\n",
    "We will use a small data set that consists of migration data for three\n",
    "gulls named Eric, Nico, and Sanne.\n",
    "The csv file contains eight columns, and includes variables\n",
    "like latitude, longitude, altitude, and time stamps.\n",
    "In this case study, we will first load the data,\n",
    "visualize some simple flight trajectories,\n",
    "track flight speed, learn about daytime and much, much more.\n",
    "We have made the file bird_tracking.csv available to you on the course site"
   ]
  },
  {
   "cell_type": "code",
   "execution_count": 2,
   "metadata": {},
   "outputs": [],
   "source": [
    "import pandas as pd"
   ]
  },
  {
   "cell_type": "code",
   "execution_count": 3,
   "metadata": {},
   "outputs": [],
   "source": [
    "birddata=pd.read_csv(\"bird_tracking.csv\")"
   ]
  },
  {
   "cell_type": "code",
   "execution_count": 4,
   "metadata": {},
   "outputs": [
    {
     "data": {
      "text/html": [
       "<div>\n",
       "<style scoped>\n",
       "    .dataframe tbody tr th:only-of-type {\n",
       "        vertical-align: middle;\n",
       "    }\n",
       "\n",
       "    .dataframe tbody tr th {\n",
       "        vertical-align: top;\n",
       "    }\n",
       "\n",
       "    .dataframe thead th {\n",
       "        text-align: right;\n",
       "    }\n",
       "</style>\n",
       "<table border=\"1\" class=\"dataframe\">\n",
       "  <thead>\n",
       "    <tr style=\"text-align: right;\">\n",
       "      <th></th>\n",
       "      <th>Unnamed: 0</th>\n",
       "      <th>altitude</th>\n",
       "      <th>date_time</th>\n",
       "      <th>device_info_serial</th>\n",
       "      <th>direction</th>\n",
       "      <th>latitude</th>\n",
       "      <th>longitude</th>\n",
       "      <th>speed_2d</th>\n",
       "      <th>bird_name</th>\n",
       "    </tr>\n",
       "  </thead>\n",
       "  <tbody>\n",
       "    <tr>\n",
       "      <th>0</th>\n",
       "      <td>0</td>\n",
       "      <td>71</td>\n",
       "      <td>2013-08-15 00:18:08+00</td>\n",
       "      <td>851</td>\n",
       "      <td>-150.469753</td>\n",
       "      <td>49.419860</td>\n",
       "      <td>2.120733</td>\n",
       "      <td>0.150000</td>\n",
       "      <td>Eric</td>\n",
       "    </tr>\n",
       "    <tr>\n",
       "      <th>1</th>\n",
       "      <td>1</td>\n",
       "      <td>68</td>\n",
       "      <td>2013-08-15 00:48:07+00</td>\n",
       "      <td>851</td>\n",
       "      <td>-136.151141</td>\n",
       "      <td>49.419880</td>\n",
       "      <td>2.120746</td>\n",
       "      <td>2.438360</td>\n",
       "      <td>Eric</td>\n",
       "    </tr>\n",
       "    <tr>\n",
       "      <th>2</th>\n",
       "      <td>2</td>\n",
       "      <td>68</td>\n",
       "      <td>2013-08-15 01:17:58+00</td>\n",
       "      <td>851</td>\n",
       "      <td>160.797477</td>\n",
       "      <td>49.420310</td>\n",
       "      <td>2.120885</td>\n",
       "      <td>0.596657</td>\n",
       "      <td>Eric</td>\n",
       "    </tr>\n",
       "    <tr>\n",
       "      <th>3</th>\n",
       "      <td>3</td>\n",
       "      <td>73</td>\n",
       "      <td>2013-08-15 01:47:51+00</td>\n",
       "      <td>851</td>\n",
       "      <td>32.769360</td>\n",
       "      <td>49.420359</td>\n",
       "      <td>2.120859</td>\n",
       "      <td>0.310161</td>\n",
       "      <td>Eric</td>\n",
       "    </tr>\n",
       "    <tr>\n",
       "      <th>4</th>\n",
       "      <td>4</td>\n",
       "      <td>69</td>\n",
       "      <td>2013-08-15 02:17:42+00</td>\n",
       "      <td>851</td>\n",
       "      <td>45.191230</td>\n",
       "      <td>49.420331</td>\n",
       "      <td>2.120887</td>\n",
       "      <td>0.193132</td>\n",
       "      <td>Eric</td>\n",
       "    </tr>\n",
       "    <tr>\n",
       "      <th>...</th>\n",
       "      <td>...</td>\n",
       "      <td>...</td>\n",
       "      <td>...</td>\n",
       "      <td>...</td>\n",
       "      <td>...</td>\n",
       "      <td>...</td>\n",
       "      <td>...</td>\n",
       "      <td>...</td>\n",
       "      <td>...</td>\n",
       "    </tr>\n",
       "    <tr>\n",
       "      <th>61915</th>\n",
       "      <td>61915</td>\n",
       "      <td>11</td>\n",
       "      <td>2014-04-30 22:00:08+00</td>\n",
       "      <td>833</td>\n",
       "      <td>45.448157</td>\n",
       "      <td>51.352572</td>\n",
       "      <td>3.177151</td>\n",
       "      <td>0.208087</td>\n",
       "      <td>Sanne</td>\n",
       "    </tr>\n",
       "    <tr>\n",
       "      <th>61916</th>\n",
       "      <td>61916</td>\n",
       "      <td>6</td>\n",
       "      <td>2014-04-30 22:29:57+00</td>\n",
       "      <td>833</td>\n",
       "      <td>-112.073055</td>\n",
       "      <td>51.352585</td>\n",
       "      <td>3.177144</td>\n",
       "      <td>1.522662</td>\n",
       "      <td>Sanne</td>\n",
       "    </tr>\n",
       "    <tr>\n",
       "      <th>61917</th>\n",
       "      <td>61917</td>\n",
       "      <td>5</td>\n",
       "      <td>2014-04-30 22:59:52+00</td>\n",
       "      <td>833</td>\n",
       "      <td>69.989037</td>\n",
       "      <td>51.352622</td>\n",
       "      <td>3.177257</td>\n",
       "      <td>3.120545</td>\n",
       "      <td>Sanne</td>\n",
       "    </tr>\n",
       "    <tr>\n",
       "      <th>61918</th>\n",
       "      <td>61918</td>\n",
       "      <td>16</td>\n",
       "      <td>2014-04-30 23:29:43+00</td>\n",
       "      <td>833</td>\n",
       "      <td>88.376373</td>\n",
       "      <td>51.354641</td>\n",
       "      <td>3.181509</td>\n",
       "      <td>0.592115</td>\n",
       "      <td>Sanne</td>\n",
       "    </tr>\n",
       "    <tr>\n",
       "      <th>61919</th>\n",
       "      <td>61919</td>\n",
       "      <td>9</td>\n",
       "      <td>2014-04-30 23:59:34+00</td>\n",
       "      <td>833</td>\n",
       "      <td>149.949008</td>\n",
       "      <td>51.354474</td>\n",
       "      <td>3.181057</td>\n",
       "      <td>0.485489</td>\n",
       "      <td>Sanne</td>\n",
       "    </tr>\n",
       "  </tbody>\n",
       "</table>\n",
       "<p>61920 rows × 9 columns</p>\n",
       "</div>"
      ],
      "text/plain": [
       "       Unnamed: 0  altitude               date_time  device_info_serial  \\\n",
       "0               0        71  2013-08-15 00:18:08+00                 851   \n",
       "1               1        68  2013-08-15 00:48:07+00                 851   \n",
       "2               2        68  2013-08-15 01:17:58+00                 851   \n",
       "3               3        73  2013-08-15 01:47:51+00                 851   \n",
       "4               4        69  2013-08-15 02:17:42+00                 851   \n",
       "...           ...       ...                     ...                 ...   \n",
       "61915       61915        11  2014-04-30 22:00:08+00                 833   \n",
       "61916       61916         6  2014-04-30 22:29:57+00                 833   \n",
       "61917       61917         5  2014-04-30 22:59:52+00                 833   \n",
       "61918       61918        16  2014-04-30 23:29:43+00                 833   \n",
       "61919       61919         9  2014-04-30 23:59:34+00                 833   \n",
       "\n",
       "        direction   latitude  longitude  speed_2d bird_name  \n",
       "0     -150.469753  49.419860   2.120733  0.150000      Eric  \n",
       "1     -136.151141  49.419880   2.120746  2.438360      Eric  \n",
       "2      160.797477  49.420310   2.120885  0.596657      Eric  \n",
       "3       32.769360  49.420359   2.120859  0.310161      Eric  \n",
       "4       45.191230  49.420331   2.120887  0.193132      Eric  \n",
       "...           ...        ...        ...       ...       ...  \n",
       "61915   45.448157  51.352572   3.177151  0.208087     Sanne  \n",
       "61916 -112.073055  51.352585   3.177144  1.522662     Sanne  \n",
       "61917   69.989037  51.352622   3.177257  3.120545     Sanne  \n",
       "61918   88.376373  51.354641   3.181509  0.592115     Sanne  \n",
       "61919  149.949008  51.354474   3.181057  0.485489     Sanne  \n",
       "\n",
       "[61920 rows x 9 columns]"
      ]
     },
     "execution_count": 4,
     "metadata": {},
     "output_type": "execute_result"
    }
   ],
   "source": [
    "birddata"
   ]
  },
  {
   "cell_type": "code",
   "execution_count": 5,
   "metadata": {},
   "outputs": [],
   "source": [
    "import matplotlib.pyplot as plt\n",
    "import numpy as np"
   ]
  },
  {
   "cell_type": "code",
   "execution_count": 6,
   "metadata": {},
   "outputs": [
    {
     "data": {
      "text/plain": [
       "0         True\n",
       "1         True\n",
       "2         True\n",
       "3         True\n",
       "4         True\n",
       "         ...  \n",
       "61915    False\n",
       "61916    False\n",
       "61917    False\n",
       "61918    False\n",
       "61919    False\n",
       "Name: bird_name, Length: 61920, dtype: bool"
      ]
     },
     "execution_count": 6,
     "metadata": {},
     "output_type": "execute_result"
    }
   ],
   "source": [
    "ix= birddata.bird_name==\"Eric\"\n",
    "ix"
   ]
  },
  {
   "cell_type": "code",
   "execution_count": 8,
   "metadata": {},
   "outputs": [],
   "source": [
    "x,y=birddata.longitude[ix],birddata.latitude[ix]"
   ]
  },
  {
   "cell_type": "code",
   "execution_count": 10,
   "metadata": {},
   "outputs": [
    {
     "data": {
      "image/png": "[encoded data removed]",
      "text/plain": [
       "<Figure size 504x504 with 1 Axes>"
      ]
     },
     "metadata": {
      "needs_background": "light"
     },
     "output_type": "display_data"
    }
   ],
   "source": [
    "plt.figure(figsize=(7,7))\n",
    "plt.plot(x,y,\".\")\n",
    "plt.savefig('Eric.pdf')"
   ]
  },
  {
   "cell_type": "markdown",
   "metadata": {},
   "source": [
    "Again, the flight trajectory will be substantially distorted\n",
    "because we did not implement any type of cartographic projection.\n",
    "Nevertheless, we get a decent sense of the flight path."
   ]
  },
  {
   "cell_type": "code",
   "execution_count": 15,
   "metadata": {},
   "outputs": [
    {
     "data": {
      "text/plain": [
       "array(['Eric', 'Nico', 'Sanne'], dtype=object)"
      ]
     },
     "execution_count": 15,
     "metadata": {},
     "output_type": "execute_result"
    }
   ],
   "source": [
    "#getting the unique bird names\n",
    "bird_names=pd.unique(birddata.bird_name)\n",
    "bird_names"
   ]
  },
  {
   "cell_type": "code",
   "execution_count": 16,
   "metadata": {},
   "outputs": [
    {
     "data": {
      "image/png": "[encoded data removed]",
      "text/plain": [
       "<Figure size 504x504 with 1 Axes>"
      ]
     },
     "metadata": {
      "needs_background": "light"
     },
     "output_type": "display_data"
    }
   ],
   "source": [
    "plt.figure(figsize=(7,7))\n",
    "for bird_name in bird_names:\n",
    "    ix= birddata.bird_name==bird_name\n",
    "    x,y=birddata.longitude[ix],birddata.latitude[ix]\n",
    "    plt.plot(x,y,\".\",label=bird_name)\n",
    "plt.xlabel(\"Longitude\")\n",
    "plt.ylabel(\"latitude\")\n",
    "plt.legend(loc=\"lower right\")\n",
    "plt.savefig(\"3traj.pdf\")"
   ]
  },
  {
   "cell_type": "markdown",
   "metadata": {},
   "source": [
    "### Examining Flight Speed"
   ]
  },
  {
   "cell_type": "code",
   "execution_count": 20,
   "metadata": {},
   "outputs": [],
   "source": [
    "ix=birddata.bird_name==\"Eric\""
   ]
  },
  {
   "cell_type": "code",
   "execution_count": 21,
   "metadata": {},
   "outputs": [],
   "source": [
    "speed=birddata.speed_2d[ix]"
   ]
  },
  {
   "cell_type": "code",
   "execution_count": 22,
   "metadata": {},
   "outputs": [
    {
     "data": {
      "text/plain": [
       "(array([1.7732e+04, 1.5020e+03, 3.6900e+02, 7.8000e+01, 1.2000e+01,\n",
       "        7.0000e+00, 3.0000e+00, 2.0000e+00, 3.0000e+00, 2.0000e+00]),\n",
       " array([ 0.        ,  6.34880658, 12.69761316, 19.04641974, 25.39522632,\n",
       "        31.7440329 , 38.09283948, 44.44164607, 50.79045265, 57.13925923,\n",
       "        63.48806581]),\n",
       " <a list of 10 Patch objects>)"
      ]
     },
     "execution_count": 22,
     "metadata": {},
     "output_type": "execute_result"
    },
    {
     "data": {
      "image/png": "[encoded data removed]",
      "text/plain": [
       "<Figure size 432x288 with 1 Axes>"
      ]
     },
     "metadata": {
      "needs_background": "light"
     },
     "output_type": "display_data"
    }
   ],
   "source": [
    "plt.hist(speed)"
   ]
  },
  {
   "cell_type": "code",
   "execution_count": 24,
   "metadata": {},
   "outputs": [
    {
     "data": {
      "text/plain": [
       "True"
      ]
     },
     "execution_count": 24,
     "metadata": {},
     "output_type": "execute_result"
    }
   ],
   "source": [
    "#checking there is a data that is not a number in speed\n",
    "np.isnan(speed).any()"
   ]
  },
  {
   "cell_type": "code",
   "execution_count": 25,
   "metadata": {},
   "outputs": [
    {
     "data": {
      "text/plain": [
       "85"
      ]
     },
     "execution_count": 25,
     "metadata": {},
     "output_type": "execute_result"
    }
   ],
   "source": [
    "#Checking the numbe of numbers in the speed column\n",
    "np.sum(np.isnan(speed))"
   ]
  },
  {
   "cell_type": "markdown",
   "metadata": {},
   "source": [
    "to check the number of the non numbers, we can use a NOT to turn true to false and perform previous operation"
   ]
  },
  {
   "cell_type": "code",
   "execution_count": 26,
   "metadata": {},
   "outputs": [
    {
     "data": {
      "text/plain": [
       "0        False\n",
       "1        False\n",
       "2        False\n",
       "3        False\n",
       "4        False\n",
       "         ...  \n",
       "19790    False\n",
       "19791    False\n",
       "19792    False\n",
       "19793    False\n",
       "19794    False\n",
       "Name: speed_2d, Length: 19795, dtype: bool"
      ]
     },
     "execution_count": 26,
     "metadata": {},
     "output_type": "execute_result"
    }
   ],
   "source": [
    "ind=np.isnan(speed)\n",
    "ind"
   ]
  },
  {
   "cell_type": "code",
   "execution_count": 27,
   "metadata": {},
   "outputs": [
    {
     "data": {
      "text/plain": [
       "0        True\n",
       "1        True\n",
       "2        True\n",
       "3        True\n",
       "4        True\n",
       "         ... \n",
       "19790    True\n",
       "19791    True\n",
       "19792    True\n",
       "19793    True\n",
       "19794    True\n",
       "Name: speed_2d, Length: 19795, dtype: bool"
      ]
     },
     "execution_count": 27,
     "metadata": {},
     "output_type": "execute_result"
    }
   ],
   "source": [
    "~ind"
   ]
  },
  {
   "cell_type": "markdown",
   "metadata": {},
   "source": [
    "we'll only include those entries for which ind is not equal to true."
   ]
  },
  {
   "cell_type": "code",
   "execution_count": 28,
   "metadata": {},
   "outputs": [
    {
     "data": {
      "image/png": "[encoded data removed]",
      "text/plain": [
       "<Figure size 432x288 with 1 Axes>"
      ]
     },
     "metadata": {
      "needs_background": "light"
     },
     "output_type": "display_data"
    }
   ],
   "source": [
    "ix=birddata.bird_name==\"Eric\"\n",
    "speed=birddata.speed_2d[ix]\n",
    "ind=np.isnan(speed)\n",
    "plt.hist(speed[~ind])\n",
    "plt.savefig(\"hist.pdf\")"
   ]
  },
  {
   "cell_type": "markdown",
   "metadata": {},
   "source": [
    "I'm going to add an x label, a y label, I\n",
    "will specify the locations of the bins, and I would also\n",
    "like my histogram to be normalized.\n",
    "\n",
    "Finally, I have normalized the y-axis, meaning\n",
    "that an integral over the histogram would be equal to 1.\n",
    "this can be done by setting `density=1`."
   ]
  },
  {
   "cell_type": "code",
   "execution_count": 31,
   "metadata": {},
   "outputs": [
    {
     "data": {
      "image/png": "[encoded data removed]",
      "text/plain": [
       "<Figure size 576x288 with 1 Axes>"
      ]
     },
     "metadata": {
      "needs_background": "light"
     },
     "output_type": "display_data"
    }
   ],
   "source": [
    "ix=birddata.bird_name==\"Eric\"\n",
    "plt.figure(figsize=(8,4))\n",
    "speed=birddata.speed_2d[ix]\n",
    "ind=np.isnan(speed)\n",
    "plt.hist(speed[~ind],bins=np.linspace(0,30,20),density=True)\n",
    "plt.xlabel(\"2d speed (m/s)\")\n",
    "plt.ylabel(\"Frequency\")\n",
    "plt.savefig(\"hist.pdf\")"
   ]
  },
  {
   "cell_type": "markdown",
   "metadata": {},
   "source": [
    "Pandas provide some planning functions as well,\n",
    "although less customizable than PLT plots,\n",
    "they readily deal with things like NaNs.\n",
    "However you want to make sure that you always\n",
    "examine your data carefully and look for the presence of NaNs\n",
    "before preparing your plots."
   ]
  },
  {
   "cell_type": "code",
   "execution_count": 32,
   "metadata": {},
   "outputs": [
    {
     "data": {
      "image/png": "[encoded data removed]",
      "text/plain": [
       "<Figure size 432x288 with 1 Axes>"
      ]
     },
     "metadata": {
      "needs_background": "light"
     },
     "output_type": "display_data"
    }
   ],
   "source": [
    "birddata.speed_2d.plot(kind='hist',range=[0,30])\n",
    "plt.xlabel(\"2D speed\")\n",
    "plt.savefig(\"pd_hist.pdf\")"
   ]
  },
  {
   "cell_type": "markdown",
   "metadata": {},
   "source": [
    "### Using Datetime"
   ]
  },
  {
   "cell_type": "code",
   "execution_count": null,
   "metadata": {},
   "outputs": [],
   "source": []
  }
 ],
 "metadata": {
  "kernelspec": {
   "display_name": "Python 3",
   "language": "python",
   "name": "python3"
  },
  "language_info": {
   "codemirror_mode": {
    "name": "ipython",
    "version": 3
   },
   "file_extension": ".py",
   "mimetype": "text/x-python",
   "name": "python",
   "nbconvert_exporter": "python",
   "pygments_lexer": "ipython3",
   "version": "3.7.6"
  }
 },
 "nbformat": 4,
 "nbformat_minor": 4
}
