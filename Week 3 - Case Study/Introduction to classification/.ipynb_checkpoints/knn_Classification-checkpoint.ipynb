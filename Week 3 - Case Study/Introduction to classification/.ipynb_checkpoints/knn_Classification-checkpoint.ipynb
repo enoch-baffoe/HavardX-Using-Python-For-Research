{
 "cells": [
  {
   "cell_type": "markdown",
   "id": "986b470d-9f92-4b9e-9875-3fee0de85211",
   "metadata": {},
   "source": [
    "# k-Nearest Neighbors classification"
   ]
  },
  {
   "cell_type": "markdown",
   "id": "b5538163-e3f9-4f48-9094-50ea6cf72293",
   "metadata": {},
   "source": [
    "`Statistical learning` refers to a collection of mathematical and computation tools to understand data.\n",
    "In what is often called `supervised learning`, the goal is to estimate or predict an output based on one or more inputs.\n",
    "The inputs have many names, like \n",
    "- predictors\n",
    "- independent variables,\n",
    "- features, and\n",
    "- variables being called common.\n",
    "\n",
    "The output or outputs are often called \n",
    "- response variables,\n",
    "- or dependent variables.\n",
    "\n",
    "If the response is quantitative-- say, a number that measures weight or height, we call these problems `regression problems`.\n",
    "If the response is qualitative-- say, yes or no, or blue or green,\n",
    "we call these problems `classification problems`."
   ]
  },
  {
   "cell_type": "markdown",
   "id": "88a3e2a2-7874-40e2-9821-a5bcb7dee36e",
   "metadata": {},
   "source": [
    "The goal is to set up a classifier such that when\n",
    "it's presented with a new observation whose category is not known,\n",
    "it will attempt to assign that observation to a category, or a class,\n",
    "based on the observations for which it does know the true category.\n",
    "This specific method is known as the `k-Nearest Neighbors classifier`,\n",
    "or kNN for short."
   ]
  },
  {
   "cell_type": "markdown",
   "id": "56117d15-de78-4a5a-aca9-16e58118be92",
   "metadata": {},
   "source": [
    "In this case study,\n",
    "We start by finding the distance between two points,\n",
    "and we end with building our own homemade kNN classifier.\n"
   ]
  },
  {
   "cell_type": "markdown",
   "id": "413551a1-3c57-4c83-b623-306f359128ec",
   "metadata": {},
   "source": [
    "##  Finding the Distance Between Two Points"
   ]
  },
  {
   "cell_type": "markdown",
   "id": "cd95697d-e9c5-4d7e-9408-4e43d7ff5b5c",
   "metadata": {},
   "source": [
    " a function that takes in two points\n",
    "and computes the distance between them.\n",
    "And when we say distance, we're really talking about the Euclidean distance\n",
    "between the two points, what it would usually\n",
    "mean when we talk about distance."
   ]
  },
  {
   "cell_type": "code",
   "execution_count": 1,
   "id": "08b01373-767b-43b3-95b4-26660cf7a827",
   "metadata": {},
   "outputs": [],
   "source": [
    "import numpy as np\n",
    "p1=np.array([1,1])\n",
    "p2=np.array([4,4])    "
   ]
  },
  {
   "cell_type": "code",
   "execution_count": 2,
   "id": "3fc82dd5-c76c-41ea-b82f-a8d487ef92f4",
   "metadata": {},
   "outputs": [
    {
     "data": {
      "text/plain": [
       "array([3, 3])"
      ]
     },
     "execution_count": 2,
     "metadata": {},
     "output_type": "execute_result"
    }
   ],
   "source": [
    "p2-p1"
   ]
  },
  {
   "cell_type": "markdown",
   "id": "8d4d78c7-00d2-4921-bc97-a074b510c905",
   "metadata": {},
   "source": [
    "we take the power of these array. so we have the square differences of the two arrays"
   ]
  },
  {
   "cell_type": "code",
   "execution_count": 3,
   "id": "fb70f1aa-8714-4381-8cc8-a56591d83fa9",
   "metadata": {},
   "outputs": [
    {
     "data": {
      "text/plain": [
       "array([9, 9], dtype=int32)"
      ]
     },
     "execution_count": 3,
     "metadata": {},
     "output_type": "execute_result"
    }
   ],
   "source": [
    "np.power(p2-p1,2)"
   ]
  },
  {
   "cell_type": "markdown",
   "id": "92d4ce22-14ad-4204-bfa3-ecc6201ef022",
   "metadata": {},
   "source": [
    "next is to sum over the two terms and to find the square root"
   ]
  },
  {
   "cell_type": "code",
   "execution_count": 4,
   "id": "e5041d37-7c90-4798-a30e-5474af699673",
   "metadata": {},
   "outputs": [
    {
     "data": {
      "text/plain": [
       "4.242640687119285"
      ]
     },
     "execution_count": 4,
     "metadata": {},
     "output_type": "execute_result"
    }
   ],
   "source": [
    "np.sqrt(np.sum(np.power(p2-p1,2)))"
   ]
  },
  {
   "cell_type": "markdown",
   "id": "5314ee81-8767-4750-ac11-f9d9b37bade1",
   "metadata": {},
   "source": [
    "turning it into a function"
   ]
  },
  {
   "cell_type": "code",
   "execution_count": 5,
   "id": "b4a46579-01f0-49e8-9002-643157d9d84a",
   "metadata": {},
   "outputs": [],
   "source": [
    "import numpy as np\n",
    "def distance(p1,p2):\n",
    "    \"\"\"Finds distance between p1 and p2\"\"\"\n",
    "    return np.sqrt(np.sum(np.power(p2-p1,2)))"
   ]
  },
  {
   "cell_type": "code",
   "execution_count": 6,
   "id": "e41e5fa0-3a67-4b4a-8eb2-fe6d95f542b8",
   "metadata": {},
   "outputs": [
    {
     "data": {
      "text/plain": [
       "4.242640687119285"
      ]
     },
     "execution_count": 6,
     "metadata": {},
     "output_type": "execute_result"
    }
   ],
   "source": [
    "p1=np.array([1,1])\n",
    "p2=np.array([4,4])\n",
    "distance(p1,p2)"
   ]
  },
  {
   "cell_type": "markdown",
   "id": "4cccfd21-f53e-46b4-a348-0cc2decaa62c",
   "metadata": {},
   "source": [
    "## Majority Vote\n",
    "\n",
    "Note that while this method is commonly called \"majority vote,\" what is actually determined is the plurality vote, because the most common vote does not need to represent a majority of votes. We have used the standard naming convention of majority vote here."
   ]
  },
  {
   "cell_type": "code",
   "execution_count": 7,
   "id": "8a3d59d6-0b99-4025-ac7e-96f22278587e",
   "metadata": {},
   "outputs": [],
   "source": [
    "def majority_vote(votes):\n",
    "    \"\"\"\n",
    "    xxx\n",
    "    \"\"\"\n",
    "    vote_counts={}\n",
    "    for vote in votes:\n",
    "        #known vote\n",
    "        if vote in vote_counts:\n",
    "            vote_counts[vote]+=1\n",
    "         #unknown word\n",
    "        else:\n",
    "            vote_counts[vote]=1\n",
    "    return vote_counts\n"
   ]
  },
  {
   "cell_type": "code",
   "execution_count": 8,
   "id": "c1aac407-93a1-45b6-92f8-5c995ca49ca7",
   "metadata": {},
   "outputs": [
    {
     "data": {
      "text/plain": [
       "{1: 3, 2: 3, 3: 6}"
      ]
     },
     "execution_count": 8,
     "metadata": {},
     "output_type": "execute_result"
    }
   ],
   "source": [
    "vote=[1,2,3,1,2,3,1,2,3,3,3,3]\n",
    "vote_counts=majority_vote(vote)\n",
    "vote_counts"
   ]
  },
  {
   "cell_type": "code",
   "execution_count": 9,
   "id": "3d768dc5-cf50-4e84-bf1d-5e296074b156",
   "metadata": {},
   "outputs": [
    {
     "data": {
      "text/plain": [
       "3"
      ]
     },
     "execution_count": 9,
     "metadata": {},
     "output_type": "execute_result"
    }
   ],
   "source": [
    "#returns the key with maximum value\n",
    "max(vote_counts)"
   ]
  },
  {
   "cell_type": "code",
   "execution_count": 10,
   "id": "0b514adf-617f-481c-b695-241c22fd5d8f",
   "metadata": {},
   "outputs": [
    {
     "data": {
      "text/plain": [
       "3"
      ]
     },
     "execution_count": 10,
     "metadata": {},
     "output_type": "execute_result"
    }
   ],
   "source": [
    "#returns the key with maximum value\n",
    "max(vote_counts.keys())"
   ]
  },
  {
   "cell_type": "code",
   "execution_count": 11,
   "id": "07810b81-e1ff-43ce-a2d2-f3b5ccf08dad",
   "metadata": {},
   "outputs": [
    {
     "data": {
      "text/plain": [
       "6"
      ]
     },
     "execution_count": 11,
     "metadata": {},
     "output_type": "execute_result"
    }
   ],
   "source": [
    "#returns the maximum value\n",
    "max(vote_counts.values())"
   ]
  },
  {
   "cell_type": "code",
   "execution_count": 12,
   "id": "8bd28a8d-62b8-4d16-93e5-e05276dfe0c2",
   "metadata": {},
   "outputs": [],
   "source": [
    "max_counts=max(vote_counts.values())"
   ]
  },
  {
   "cell_type": "markdown",
   "id": "124746c9-a578-478e-847f-3562d3e23a24",
   "metadata": {},
   "source": [
    "We can now loop over all entries in the dictionary\n",
    "and find which entry, or entries in case there are many,\n",
    "corresponds to the maximum count.\n",
    "We can do this using the items method of dictionaries."
   ]
  },
  {
   "cell_type": "code",
   "execution_count": 13,
   "id": "381d7561-a1dd-41ed-8b11-36eb3e3e8e6d",
   "metadata": {},
   "outputs": [
    {
     "name": "stdout",
     "output_type": "stream",
     "text": [
      "1 3\n",
      "2 3\n",
      "3 6\n"
     ]
    }
   ],
   "source": [
    "for vote,count in vote_counts.items():\n",
    "    print(vote,count)"
   ]
  },
  {
   "cell_type": "markdown",
   "id": "c484a58b-c1b2-4d0d-8e29-f42c6aecc2b2",
   "metadata": {},
   "source": [
    "keeping track of the keys that correspond to the highest values\n",
    "or counts in the dictionary."
   ]
  },
  {
   "cell_type": "code",
   "execution_count": 14,
   "id": "4bcaad37-d5d0-453c-b36b-722bd6a59ef5",
   "metadata": {},
   "outputs": [
    {
     "name": "stdout",
     "output_type": "stream",
     "text": [
      "1 3\n",
      "2 3\n",
      "3 6\n"
     ]
    }
   ],
   "source": [
    "winners=[]\n",
    "max_count=max(vote_counts.values())\n",
    "for vote,count in vote_counts.items():\n",
    "    if count==max_count:\n",
    "        winners.append(vote)\n",
    "    print(vote,count)"
   ]
  },
  {
   "cell_type": "code",
   "execution_count": 15,
   "id": "e798b7af-9568-4973-9990-b66fe6b6c2f0",
   "metadata": {},
   "outputs": [
    {
     "data": {
      "text/plain": [
       "[3]"
      ]
     },
     "execution_count": 15,
     "metadata": {},
     "output_type": "execute_result"
    }
   ],
   "source": [
    "winners"
   ]
  },
  {
   "cell_type": "markdown",
   "id": "b14e77eb-6b14-4b43-a268-0e579bc7c889",
   "metadata": {},
   "source": [
    "In case of a tie, we can just pick one of the winners at random\n",
    "since any option is just as good as any other."
   ]
  },
  {
   "cell_type": "code",
   "execution_count": 16,
   "id": "d5e93085-54d2-4215-bbc2-f62347cf6d78",
   "metadata": {},
   "outputs": [],
   "source": [
    "import random\n",
    "def majority_vote(votes):\n",
    "    \"\"\"\n",
    "    Return most common element in votes\n",
    "    \"\"\"\n",
    "    vote_counts={}\n",
    "    for vote in votes:\n",
    "        #known vote\n",
    "        if vote in vote_counts:\n",
    "            vote_counts[vote]+=1\n",
    "         #unknown vote\n",
    "        else:\n",
    "            vote_counts[vote]=1\n",
    "    winners=[]\n",
    "    max_count=max(vote_counts.values())\n",
    "    for vote,count in vote_counts.items():\n",
    "        if count==max_count:\n",
    "            winners.append(vote)  \n",
    "            \n",
    "    return random.choice(winners)"
   ]
  },
  {
   "cell_type": "code",
   "execution_count": 17,
   "id": "739c601b-160b-4195-a431-c06cc290f82c",
   "metadata": {},
   "outputs": [
    {
     "data": {
      "text/plain": [
       "3"
      ]
     },
     "execution_count": 17,
     "metadata": {},
     "output_type": "execute_result"
    }
   ],
   "source": [
    "votes=[1,2,3,1,2,3,1,2,3,3,3,3]\n",
    "winner=majority_vote(votes)\n",
    "winner"
   ]
  },
  {
   "cell_type": "markdown",
   "id": "bbbe6e32-3384-43e3-89e2-cb04ac74fda8",
   "metadata": {},
   "source": [
    "Testing on scenario where there can be two or more winners"
   ]
  },
  {
   "cell_type": "code",
   "execution_count": 18,
   "id": "b608f8a8-e16d-43bd-b91a-9a5bfe4e5b4e",
   "metadata": {},
   "outputs": [
    {
     "data": {
      "text/plain": [
       "2"
      ]
     },
     "execution_count": 18,
     "metadata": {},
     "output_type": "execute_result"
    }
   ],
   "source": [
    "votes=[1,2,3,1,2,3,1,2,3,3,3,3,2,2,2]\n",
    "majority_vote(votes)"
   ]
  },
  {
   "cell_type": "markdown",
   "id": "92b6e205-808c-4067-87f3-3971dd512a4c",
   "metadata": {},
   "source": [
    "since mode is a common function in maths, there is a python library for that so lets rewrite our function with that\n",
    "that is using `scipy.stats`\n",
    "\n",
    "this is faster than the function we wrote"
   ]
  },
  {
   "cell_type": "code",
   "execution_count": 19,
   "id": "27e333dc-587a-4c26-8c70-9d02e4797662",
   "metadata": {},
   "outputs": [],
   "source": [
    "import random\n",
    "import scipy.stats as ss\n",
    "\n",
    "def majority_vote_short(votes):\n",
    "    \"\"\"\n",
    "    Return most common element in votes\n",
    "    \"\"\"\n",
    "    mode,count=ss.mstats.mode(votes) #storing variable this way cos it returns a tuple \n",
    "    return mode"
   ]
  },
  {
   "cell_type": "markdown",
   "id": "89531547-f21c-48dd-bf50-60293023e002",
   "metadata": {},
   "source": [
    "we can see that when we are using this we always get the same answer even when two are tied\n",
    "so we will stick the one we wrote ourself"
   ]
  },
  {
   "cell_type": "code",
   "execution_count": 20,
   "id": "a1c99b51-15e7-47ad-8f13-77b78a5ade6c",
   "metadata": {},
   "outputs": [
    {
     "data": {
      "text/plain": [
       "array([2.])"
      ]
     },
     "execution_count": 20,
     "metadata": {},
     "output_type": "execute_result"
    }
   ],
   "source": [
    "votes=[1,2,3,1,2,3,1,2,3,3,3,3,2,2,2]\n",
    "majority_vote_short(votes)"
   ]
  },
  {
   "cell_type": "markdown",
   "id": "1f908a9b-0a6e-466b-9547-ae1422e38bb1",
   "metadata": {},
   "source": [
    "## Finding Nearest Neighbors\n",
    "loop over all points\n",
    "    compute the distance between point p and every other point\n",
    "sort distances and return k those k points that are nearest to point p\n"
   ]
  },
  {
   "cell_type": "code",
   "execution_count": 21,
   "id": "affedcf0-1894-48cf-93c3-006ec6c37003",
   "metadata": {},
   "outputs": [],
   "source": [
    "import numpy as np\n",
    "points=np.array([[1,1],[1,2],[1,3],[2,1],[2,2],[2,3],[3,1],[3,2],[3,3]])"
   ]
  },
  {
   "cell_type": "code",
   "execution_count": 22,
   "id": "9ca1e19d-22ff-4d28-a972-1b7e51a36f8a",
   "metadata": {},
   "outputs": [],
   "source": [
    "p=np.array([2.5,2])"
   ]
  },
  {
   "cell_type": "markdown",
   "id": "ac63d2c4-9c93-444d-96ad-c8dfc46f7818",
   "metadata": {},
   "source": [
    "Now we visualize our points"
   ]
  },
  {
   "cell_type": "code",
   "execution_count": 23,
   "id": "124cfb68-72e8-4632-9e05-14ef21ff6bbb",
   "metadata": {},
   "outputs": [],
   "source": [
    "import matplotlib.pyplot as plt"
   ]
  },
  {
   "cell_type": "code",
   "execution_count": 24,
   "id": "4171c7fc-7927-48e0-a565-b173f6a80c26",
   "metadata": {},
   "outputs": [
    {
     "data": {
      "text/plain": [
       "(0.5, 3.5, 0.5, 3.5)"
      ]
     },
     "execution_count": 24,
     "metadata": {},
     "output_type": "execute_result"
    },
    {
     "data": {
      "image/png": "[encoded data removed]",
      "text/plain": [
       "<Figure size 432x288 with 1 Axes>"
      ]
     },
     "metadata": {
      "needs_background": "light"
     },
     "output_type": "display_data"
    }
   ],
   "source": [
    "plt.plot(points[:,0],points[:,1],\"ro\")\n",
    "plt.plot(p[0],p[1],\"bo\")\n",
    "plt.axis([0.5,3.5,0.5,3.5])"
   ]
  },
  {
   "cell_type": "code",
   "execution_count": 25,
   "id": "a70149b3-7008-467a-b064-3ff1e1541dd1",
   "metadata": {},
   "outputs": [],
   "source": [
    "distances=np.zeros(points.shape[0])"
   ]
  },
  {
   "cell_type": "code",
   "execution_count": 26,
   "id": "b8868be0-1589-4ef2-a132-43d221b32e28",
   "metadata": {},
   "outputs": [],
   "source": [
    "for i in range(len(distances)):\n",
    "    #calc dist between p and each poiny\n",
    "    distances[i]=distance(p,points[i])"
   ]
  },
  {
   "cell_type": "code",
   "execution_count": 27,
   "id": "4ee27585-e3ad-45fb-85dd-0e377281d6b4",
   "metadata": {},
   "outputs": [
    {
     "data": {
      "text/plain": [
       "array([1.80277564, 1.5       , 1.80277564, 1.11803399, 0.5       ,\n",
       "       1.11803399, 1.11803399, 0.5       , 1.11803399])"
      ]
     },
     "execution_count": 27,
     "metadata": {},
     "output_type": "execute_result"
    }
   ],
   "source": [
    "distances"
   ]
  },
  {
   "cell_type": "code",
   "execution_count": 28,
   "id": "33a20616-47d9-4c68-a8e2-5461cdde72e9",
   "metadata": {},
   "outputs": [
    {
     "data": {
      "text/plain": [
       "array([2, 2])"
      ]
     },
     "execution_count": 28,
     "metadata": {},
     "output_type": "execute_result"
    }
   ],
   "source": [
    "points[4]"
   ]
  },
  {
   "cell_type": "code",
   "execution_count": 29,
   "id": "15c901df-be77-42de-a63f-ad7e9976490e",
   "metadata": {},
   "outputs": [
    {
     "data": {
      "text/plain": [
       "array([3, 2])"
      ]
     },
     "execution_count": 29,
     "metadata": {},
     "output_type": "execute_result"
    }
   ],
   "source": [
    "points[7]"
   ]
  },
  {
   "cell_type": "code",
   "execution_count": 31,
   "id": "0083874c-48bf-411c-bc1b-c88225506bb1",
   "metadata": {},
   "outputs": [
    {
     "data": {
      "text/plain": [
       "(0.5, 0.5)"
      ]
     },
     "execution_count": 31,
     "metadata": {},
     "output_type": "execute_result"
    }
   ],
   "source": [
    "distances[4],distances[7]"
   ]
  },
  {
   "cell_type": "markdown",
   "id": "2c7f6ed1-77f0-40ee-965b-0873ecfb9a3c",
   "metadata": {},
   "source": [
    "We could sort the distances array to give us shorter distances,\n",
    "but instead what we really would like to get\n",
    "is an index vector that would sort the array.\n",
    "If we had that, we could take the first K elements of that array,\n",
    "and know that the corresponding points are the K closest\n",
    "points to our point of interest p.\n",
    "Fortunately, this function exists in NumPy and it's called argsort.\n",
    "What it does is, it returns to indices that would sort the given array."
   ]
  },
  {
   "cell_type": "code",
   "execution_count": 34,
   "id": "8878a214-aa5d-40d1-80c2-3f69a39f42b1",
   "metadata": {},
   "outputs": [
    {
     "data": {
      "text/plain": [
       "array([4, 7, 3, 5, 6, 8, 1, 0, 2], dtype=int64)"
      ]
     },
     "execution_count": 34,
     "metadata": {},
     "output_type": "execute_result"
    }
   ],
   "source": [
    "ind=np.argsort(distances)\n",
    "ind"
   ]
  },
  {
   "cell_type": "code",
   "execution_count": 35,
   "id": "a72598f2-5256-4b7e-a867-bc1f637893d6",
   "metadata": {},
   "outputs": [
    {
     "data": {
      "text/plain": [
       "array([0.5       , 0.5       , 1.11803399, 1.11803399, 1.11803399,\n",
       "       1.11803399, 1.5       , 1.80277564, 1.80277564])"
      ]
     },
     "execution_count": 35,
     "metadata": {},
     "output_type": "execute_result"
    }
   ],
   "source": [
    "distances[ind]"
   ]
  },
  {
   "cell_type": "markdown",
   "id": "3614d493-d468-47a4-957b-2d5d33aa3094",
   "metadata": {},
   "source": [
    "If we wanted to take the say, two nearest elements,\n",
    "we would just pick the first two indices of the end vector.\n",
    "So we would type from 0 to 2, which gives us\n",
    "the elements at locations 0 and 1.\n",
    "And in this case, we have found the two nearest points to our point p."
   ]
  },
  {
   "cell_type": "code",
   "execution_count": 36,
   "id": "02c26531-26f1-44a5-95cf-0876a2b90485",
   "metadata": {},
   "outputs": [
    {
     "data": {
      "text/plain": [
       "array([0.5, 0.5])"
      ]
     },
     "execution_count": 36,
     "metadata": {},
     "output_type": "execute_result"
    }
   ],
   "source": [
    "distances[ind[0:2]]"
   ]
  },
  {
   "cell_type": "code",
   "execution_count": 38,
   "id": "bbea749e-71c6-4192-9524-cda46e312478",
   "metadata": {},
   "outputs": [],
   "source": [
    "def find_nearest_neighbours(p,points,k=5):\n",
    "    \"\"\"Find the k nearest neighbours\"\"\"\n",
    "    distances=np.zeros(points.shape[0])\n",
    "    for i in range(len(distances)):\n",
    "    #calc dist between p and each poiny\n",
    "        distances[i]=distance(p,points[i])\n",
    "    ind=np.argsort(distances)\n",
    "    return ind[:k]"
   ]
  },
  {
   "cell_type": "code",
   "execution_count": 43,
   "id": "b3d1c075-de5c-4a9f-8d57-d835bc3708b9",
   "metadata": {},
   "outputs": [
    {
     "name": "stdout",
     "output_type": "stream",
     "text": [
      "[[2 2]\n",
      " [3 2]]\n"
     ]
    }
   ],
   "source": [
    "ind=find_nearest_neighbours(p,points,2)\n",
    "print(points[ind])"
   ]
  },
  {
   "cell_type": "code",
   "execution_count": 45,
   "id": "3fb1920f-4e90-4b94-9949-bc01baf8892a",
   "metadata": {},
   "outputs": [
    {
     "name": "stdout",
     "output_type": "stream",
     "text": [
      "[[2 2]\n",
      " [3 2]\n",
      " [2 1]]\n"
     ]
    }
   ],
   "source": [
    "ind=find_nearest_neighbours(p,points,3)\n",
    "print(points[ind])"
   ]
  },
  {
   "cell_type": "markdown",
   "id": "3ce1fcc0-75e0-4ccd-9c2e-53927860bab6",
   "metadata": {},
   "source": [
    "Let's then write the function to predict the class of our new point p.\n",
    "We'll call that function knn predict, and it\n",
    "takes in three parameters-- p, the new point we'd like to classify,\n",
    "points, our existing data or our training data, and the value for k."
   ]
  },
  {
   "cell_type": "code",
   "execution_count": 47,
   "id": "0315ef4f-20db-49b4-b4e1-397799b2dd7f",
   "metadata": {},
   "outputs": [],
   "source": [
    "def knn_predict(p,points,outcomes,k=5):\n",
    "    #finfd k nearest neighbours\n",
    "    ind=find_nearest_neighbours(p,points,k)\n",
    "    #predict class based on majority rate\n",
    "    return majority_vote(outcomes[ind])"
   ]
  },
  {
   "cell_type": "markdown",
   "id": "012d0663-0e8e-40c1-9e65-60c977796a82",
   "metadata": {},
   "source": [
    "we need to define outcomes. We had 9 points so we need 9 outcomes"
   ]
  },
  {
   "cell_type": "code",
   "execution_count": 48,
   "id": "157bf339-695e-4e05-9fe0-3322f233e3b6",
   "metadata": {},
   "outputs": [],
   "source": [
    "outcomes=np.array([0,0,0,0,1,1,1,1,1])"
   ]
  },
  {
   "cell_type": "code",
   "execution_count": 49,
   "id": "3210a995-e157-482f-ad23-12d32355dc1f",
   "metadata": {},
   "outputs": [
    {
     "data": {
      "text/plain": [
       "9"
      ]
     },
     "execution_count": 49,
     "metadata": {},
     "output_type": "execute_result"
    }
   ],
   "source": [
    "len(outcomes)"
   ]
  },
  {
   "cell_type": "code",
   "execution_count": 50,
   "id": "90ba17fc-c0f6-42ac-9620-b4065d6bb578",
   "metadata": {},
   "outputs": [
    {
     "data": {
      "text/plain": [
       "1"
      ]
     },
     "execution_count": 50,
     "metadata": {},
     "output_type": "execute_result"
    }
   ],
   "source": [
    "knn_predict(np.array([2.5,2.7]),points,outcomes,k=2)"
   ]
  },
  {
   "cell_type": "markdown",
   "id": "be9b9b60-2450-4223-81bc-8112937b59a4",
   "metadata": {},
   "source": [
    "In this case, what knn predict is doing is the following:\n",
    "We are providing a new point that has x coordinate 2.5 and y-coordinate 2.7.\n",
    "We're asking Python to classify this point.\n",
    "We have two different classes in this case-- we have class 0 and class 1.\n",
    "In this case what that means is, a point,\n",
    "an observation located at 2.5, 2.7, would\n",
    "be predicted to belong to class 1"
   ]
  },
  {
   "cell_type": "code",
   "execution_count": 51,
   "id": "fd7d8218-46d3-490c-9c5a-0b9c93bf61ce",
   "metadata": {},
   "outputs": [
    {
     "data": {
      "text/plain": [
       "0"
      ]
     },
     "execution_count": 51,
     "metadata": {},
     "output_type": "execute_result"
    }
   ],
   "source": [
    "knn_predict(np.array([1.0,2.7]),points,outcomes,k=2)"
   ]
  },
  {
   "cell_type": "markdown",
   "id": "a049466b-c716-4b46-a925-001ef7a21f13",
   "metadata": {},
   "source": [
    "## Generating Synthetic Data"
   ]
  },
  {
   "cell_type": "markdown",
   "id": "48e058ed-031b-41f3-9ce2-d0e20ba66db3",
   "metadata": {},
   "source": [
    "We're going to write a function that generates two end data points, where\n",
    "the first end points are from class 0, and the second end points\n",
    "are from class 1.\n",
    "These data are known as synthetic data because we\n",
    "will be generating these data with the help of the computer.\n",
    "In this case, we'll generate predictors from two\n",
    "bivariate normal distributions, where the first distribution gives rise\n",
    "to observations belonging to class 0, and the second gives rise\n",
    "to observations belonging to class 1.\n",
    "The word, bivariate, just means 2 variables, like x and y.\n",
    "If it were generating say, just the x variables, then we'd\n",
    "be dealing with univariate data."
   ]
  },
  {
   "cell_type": "markdown",
   "id": "b833e64b-d8a5-463a-ae77-cd34f44a3441",
   "metadata": {},
   "source": [
    "To generate the synthetic data, we'll be using this `scipy.stats` module."
   ]
  },
  {
   "cell_type": "code",
   "execution_count": 52,
   "id": "354710de-2730-4580-ae79-6330668cf471",
   "metadata": {},
   "outputs": [],
   "source": [
    "import scipy.stats as ss\n"
   ]
  },
  {
   "cell_type": "code",
   "execution_count": 54,
   "id": "9b8a1c01-5971-4798-8245-12ac7d1930b1",
   "metadata": {},
   "outputs": [
    {
     "data": {
      "text/plain": [
       "array([[ 1.34740366,  0.31806946],\n",
       "       [-0.45309041, -0.5521075 ],\n",
       "       [-0.2948017 , -0.57235008],\n",
       "       [ 0.01426201, -1.00933217],\n",
       "       [-0.59795713, -1.32268875]])"
      ]
     },
     "execution_count": 54,
     "metadata": {},
     "output_type": "execute_result"
    }
   ],
   "source": [
    "#we specify mean of 0 and standard deviation of 1\n",
    "ss.norm(0,1).rvs((5,2))"
   ]
  },
  {
   "cell_type": "code",
   "execution_count": 55,
   "id": "ce55772c-36c6-4630-8753-886db59ac731",
   "metadata": {},
   "outputs": [
    {
     "data": {
      "text/plain": [
       "array([[-0.70936339, -0.75098664],\n",
       "       [ 1.91995995,  0.8099932 ],\n",
       "       [ 1.40737971,  1.25708666],\n",
       "       [ 0.57496319,  0.82155427],\n",
       "       [ 1.48168701,  0.56222995]])"
      ]
     },
     "execution_count": 55,
     "metadata": {},
     "output_type": "execute_result"
    }
   ],
   "source": [
    "#we specify mean of 1 and standard deviation of 1\n",
    "ss.norm(1,1).rvs((5,2))"
   ]
  },
  {
   "cell_type": "code",
   "execution_count": 58,
   "id": "464ad621-bf83-4ba9-892c-273b84843358",
   "metadata": {},
   "outputs": [
    {
     "data": {
      "text/plain": [
       "array([[ 0.66094149,  0.24015286],\n",
       "       [ 1.82357321, -0.7569265 ],\n",
       "       [ 1.67589188, -3.00744984],\n",
       "       [ 0.97701663,  0.50845803],\n",
       "       [ 0.72640603,  0.64727078],\n",
       "       [ 1.94490663,  0.97769192],\n",
       "       [ 0.07338914, -0.55832957],\n",
       "       [ 2.01844839,  0.86682316],\n",
       "       [ 2.32428908,  0.81164348],\n",
       "       [ 0.70806861,  1.80574054]])"
      ]
     },
     "execution_count": 58,
     "metadata": {},
     "output_type": "execute_result"
    }
   ],
   "source": [
    "#we concatenate these two into one array\n",
    "np.concatenate((ss.norm(0,1).rvs((5,2)),ss.norm(1,1).rvs((5,2))),axis=0)"
   ]
  },
  {
   "cell_type": "markdown",
   "id": "f2de749d-c612-4dc3-975d-69d67ba792bd",
   "metadata": {},
   "source": [
    "turning it into a function"
   ]
  },
  {
   "cell_type": "code",
   "execution_count": null,
   "id": "3ef3369d-b0a3-474e-abfc-f04d7a45d48e",
   "metadata": {},
   "outputs": [],
   "source": [
    "#we specify it to have n number of x-axis for both\n",
    "#thus n observations for both observations\n",
    "np.concatenate((ss.norm(0,1).rvs((n,2)),ss.norm(1,1).rvs((,2))),axis=0)"
   ]
  },
  {
   "cell_type": "code",
   "execution_count": null,
   "id": "dd3360d3-6375-4414-a173-b5d14fb7b31a",
   "metadata": {},
   "outputs": [],
   "source": [
    "lets generate the outcome vector\n",
    "remember that we have "
   ]
  }
 ],
 "metadata": {
  "kernelspec": {
   "display_name": "Python 3 (ipykernel)",
   "language": "python",
   "name": "python3"
  },
  "language_info": {
   "codemirror_mode": {
    "name": "ipython",
    "version": 3
   },
   "file_extension": ".py",
   "mimetype": "text/x-python",
   "name": "python",
   "nbconvert_exporter": "python",
   "pygments_lexer": "ipython3",
   "version": "3.9.10"
  }
 },
 "nbformat": 4,
 "nbformat_minor": 5
}
