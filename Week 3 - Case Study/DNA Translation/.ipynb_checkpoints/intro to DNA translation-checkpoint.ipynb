{
 "cells": [
  {
   "cell_type": "markdown",
   "id": "37f1511d-fc34-4e22-b719-09f12f7c437a",
   "metadata": {},
   "source": [
    "### Intro to DNA Translation"
   ]
  },
  {
   "cell_type": "markdown",
   "id": "4751a98e-4d5c-4602-9aeb-6396ce90de5d",
   "metadata": {},
   "source": [
    "We can think of DNA as a one dimensional string of characters\n",
    "with four characters to choose from.\n",
    "These characters are A, C, G, and T. They stand for the first letters with the four nucleotides used to construct DNA.\n",
    "\n",
    "The full names of these nucleotides are\n",
    "- adenine\n",
    "- cytosine\n",
    "- guanine,\n",
    "- thymine."
   ]
  },
  {
   "cell_type": "markdown",
   "id": "25972ef8-d386-4516-a2a9-fa4c1426f7f6",
   "metadata": {},
   "source": [
    "Each unique three character sequence of nucleotides,\n",
    "sometimes called a nucleotide triplet, corresponds to one amino acid.\n",
    "The sequence of amino acids is unique for each type of protein\n",
    "and all proteins are built from the same set of just 20 amino acids\n",
    "for all living things.\n",
    "Protein molecules dominate the behavior of the cell\n",
    "serving as structural supports, chemical catalysts, molecular motors, and so on.\n",
    "The so called central dogma of molecular biology\n",
    "describes the flow of genetic information in a biological system."
   ]
  },
  {
   "cell_type": "markdown",
   "id": "166391f9-5640-41aa-9005-ffbb2aba96db",
   "metadata": {},
   "source": [
    "Instructions in the DNA are first transcribed into RNA\n",
    "and the RNA is then translated into proteins.\n",
    "We can think of DNA, when read as sequences of three letters,\n",
    "as a dictionary of life."
   ]
  },
  {
   "cell_type": "markdown",
   "id": "99523b03-29d4-40b1-9ba7-9522706e540c",
   "metadata": {},
   "source": [
    "In this case study, we will\n",
    "- download a DNA strand as a text file from a public web-based repository of DNA sequences.\n",
    "- write code to translate the DNA sequence to a sequence of amino acids where each amino acid is represented by a unique letter.\n",
    "- download the amino acid sequence to check our solution."
   ]
  },
  {
   "cell_type": "markdown",
   "id": "568ae4ad-dd6a-4409-8bed-eac42ba5ba25",
   "metadata": {},
   "source": [
    "The input to our program is going to be a DNA sequence that\n",
    "consists of a four letter alphabet.\n",
    "We then read this sequence three letters at a time,\n",
    "translate each triplet to a single letter\n",
    "that stands for a specific amino acid, and then proceed\n",
    "to the next set of three letters.\n",
    "We do this until we have reached the end of the input sequence."
   ]
  },
  {
   "cell_type": "markdown",
   "id": "00ae2f0a-6256-444f-8619-874e9219fe00",
   "metadata": {},
   "source": [
    "### 4 Tasks in this case study\n",
    "- Manually download DNA and Protein sequence data\n",
    "- Import the DNA data into python\n",
    "- Create an algorithm to translate the DNA\n",
    "- Check if Translation matches the download"
   ]
  },
  {
   "cell_type": "markdown",
   "id": "6232c59c-3388-4ddc-86de-a3ff5335e8b1",
   "metadata": {},
   "source": [
    "#### Downloading DNA data"
   ]
  },
  {
   "cell_type": "markdown",
   "id": "7fb197a2-e7d3-40e2-8e37-3cda212b7204",
   "metadata": {},
   "source": [
    "The NCBI is the National Center for Biotechnology Information,\n",
    "and it is United States' main public repository of DNA and related\n",
    "information.\n",
    "The first is a strand of DNA and the second\n",
    "is the corresponding protein sequence of amino acids translated from this DNA.\n",
    "\n",
    "Go to the NCBI Website. Specify that we are searching for Nucleotide, type `NM_207618.2` in the search bar\n",
    "\n",
    "At the top of the page, click on `FASTA` the copy the sequence\n",
    "\n",
    "Make sure you include the very first letter, which is G,\n",
    "and the very last letter, which is T.\n",
    "Save it to a file and name as `dna.txt`\n",
    "\n",
    "Go back to the page where you clicked on `FASTA` and click on `CDS`\n",
    "\n",
    "you will now see the translation at the bottom\n",
    "\n",
    "copy paste to a new file as `protein.txt`"
   ]
  },
  {
   "cell_type": "markdown",
   "id": "26ed435a-4a3e-4472-8439-d8ac085556c0",
   "metadata": {},
   "source": [
    "### Importing DNA Data into python"
   ]
  },
  {
   "cell_type": "code",
   "execution_count": 1,
   "id": "960eea8c-fbe4-4a63-989c-6c10b8dbd005",
   "metadata": {},
   "outputs": [],
   "source": [
    "#this is to check the python working directory\n",
    "#pwd"
   ]
  },
  {
   "cell_type": "code",
   "execution_count": 2,
   "id": "1d882195-84ff-44cf-9983-061c216dadeb",
   "metadata": {},
   "outputs": [
    {
     "data": {
      "text/plain": [
       "'GGTCAGAAAAAGCCCTCTCCATGTCTACTCACGATACATCCCTGAAAACCACTGAGGAAGTGGCTTTTCA\\nGATCATCTTGCTTTGCCAGTTTGGGGTTGGGACTTTTGCCAATGTATTTCTCTTTGTCTATAATTTCTCT\\nCCAATCTCGACTGGTTCTAAACAGAGGCCCAGACAAGTGATTTTAAGACACATGGCTGTGGCCAATGCCT\\nTAACTCTCTTCCTCACTATATTTCCAAACAACATGATGACTTTTGCTCCAATTATTCCTCAAACTGACCT\\nCAAATGTAAATTAGAATTCTTCACTCGCCTCGTGGCAAGAAGCACAAACTTGTGTTCAACTTGTGTTCTG\\nAGTATCCATCAGTTTGTCACACTTGTTCCTGTTAATTCAGGTAAAGGAATACTCAGAGCAAGTGTCACAA\\nACATGGCAAGTTATTCTTGTTACAGTTGTTGGTTCTTCAGTGTCTTAAATAACATCTACATTCCAATTAA\\nGGTCACTGGTCCACAGTTAACAGACAATAACAATAACTCTAAAAGCAAGTTGTTCTGTTCCACTTCTGAT\\nTTCAGTGTAGGCATTGTCTTCTTGAGGTTTGCCCATGATGCCACATTCATGAGCATCATGGTCTGGACCA\\nGTGTCTCCATGGTACTTCTCCTCCATAGACATTGTCAGAGAATGCAGTACATATTCACTCTCAATCAGGA\\nCCCCAGGGGCCAAGCAGAGACCACAGCAACCCATACTATCCTGATGCTGGTAGTCACATTTGTTGGCTTT\\nTATCTTCTAAGTCTTATTTGTATCATCTTTTACACCTATTTTATATATTCTCATCATTCCCTGAGGCATT\\nGCAATGACATTTTGGTTTCGGGTTTCCCTACAATTTCTCCTTTACTGTTGACCTTCAGAGACCCTAAGGG\\nTCCTTGTTCTGTGTTCTTCAACTGTTGAAAGCCAGAGTCACTAAAAATGCCAAACACAGAAGACAGCTTT\\nGCTAATACCATTAAATACTTTATTCCATAAATATGTTTTTAAAAGCTTGTATGAACAAGGTATGGTGCTC\\nACTGCTATACTTATAAAAGAGTAAGGTTATAATCACTTGTTGATATGAAAAGATTTCTGGTTGGAATCTG\\nATTGAAACAGTGAGTTATTCACCACCCTCCATTCTCT'"
      ]
     },
     "execution_count": 2,
     "metadata": {},
     "output_type": "execute_result"
    }
   ],
   "source": [
    "inputfile=\"dna.txt\"\n",
    "f=open(inputfile,\"r\")\n",
    "seq=f.read()\n",
    "seq"
   ]
  },
  {
   "cell_type": "markdown",
   "id": "1da8400b-8e10-4015-abd9-3c777de50220",
   "metadata": {},
   "source": [
    "we can see `\\n` in the data above but if we print it it looks different"
   ]
  },
  {
   "cell_type": "code",
   "execution_count": 3,
   "id": "643e40b1-dd02-4b29-a67b-43fe5cbba972",
   "metadata": {},
   "outputs": [
    {
     "name": "stdout",
     "output_type": "stream",
     "text": [
      "GGTCAGAAAAAGCCCTCTCCATGTCTACTCACGATACATCCCTGAAAACCACTGAGGAAGTGGCTTTTCA\n",
      "GATCATCTTGCTTTGCCAGTTTGGGGTTGGGACTTTTGCCAATGTATTTCTCTTTGTCTATAATTTCTCT\n",
      "CCAATCTCGACTGGTTCTAAACAGAGGCCCAGACAAGTGATTTTAAGACACATGGCTGTGGCCAATGCCT\n",
      "TAACTCTCTTCCTCACTATATTTCCAAACAACATGATGACTTTTGCTCCAATTATTCCTCAAACTGACCT\n",
      "CAAATGTAAATTAGAATTCTTCACTCGCCTCGTGGCAAGAAGCACAAACTTGTGTTCAACTTGTGTTCTG\n",
      "AGTATCCATCAGTTTGTCACACTTGTTCCTGTTAATTCAGGTAAAGGAATACTCAGAGCAAGTGTCACAA\n",
      "ACATGGCAAGTTATTCTTGTTACAGTTGTTGGTTCTTCAGTGTCTTAAATAACATCTACATTCCAATTAA\n",
      "GGTCACTGGTCCACAGTTAACAGACAATAACAATAACTCTAAAAGCAAGTTGTTCTGTTCCACTTCTGAT\n",
      "TTCAGTGTAGGCATTGTCTTCTTGAGGTTTGCCCATGATGCCACATTCATGAGCATCATGGTCTGGACCA\n",
      "GTGTCTCCATGGTACTTCTCCTCCATAGACATTGTCAGAGAATGCAGTACATATTCACTCTCAATCAGGA\n",
      "CCCCAGGGGCCAAGCAGAGACCACAGCAACCCATACTATCCTGATGCTGGTAGTCACATTTGTTGGCTTT\n",
      "TATCTTCTAAGTCTTATTTGTATCATCTTTTACACCTATTTTATATATTCTCATCATTCCCTGAGGCATT\n",
      "GCAATGACATTTTGGTTTCGGGTTTCCCTACAATTTCTCCTTTACTGTTGACCTTCAGAGACCCTAAGGG\n",
      "TCCTTGTTCTGTGTTCTTCAACTGTTGAAAGCCAGAGTCACTAAAAATGCCAAACACAGAAGACAGCTTT\n",
      "GCTAATACCATTAAATACTTTATTCCATAAATATGTTTTTAAAAGCTTGTATGAACAAGGTATGGTGCTC\n",
      "ACTGCTATACTTATAAAAGAGTAAGGTTATAATCACTTGTTGATATGAAAAGATTTCTGGTTGGAATCTG\n",
      "ATTGAAACAGTGAGTTATTCACCACCCTCCATTCTCT\n"
     ]
    }
   ],
   "source": [
    "print(seq)"
   ]
  },
  {
   "cell_type": "markdown",
   "id": "e7416c0f-37c6-4bcb-8810-1aae85589bc7",
   "metadata": {},
   "source": [
    "so we use the replace method to replace all the `\\n`"
   ]
  },
  {
   "cell_type": "code",
   "execution_count": 4,
   "id": "fb78b14b-da5c-41aa-8048-80e11bd4cff6",
   "metadata": {},
   "outputs": [
    {
     "data": {
      "text/plain": [
       "'GGTCAGAAAAAGCCCTCTCCATGTCTACTCACGATACATCCCTGAAAACCACTGAGGAAGTGGCTTTTCAGATCATCTTGCTTTGCCAGTTTGGGGTTGGGACTTTTGCCAATGTATTTCTCTTTGTCTATAATTTCTCTCCAATCTCGACTGGTTCTAAACAGAGGCCCAGACAAGTGATTTTAAGACACATGGCTGTGGCCAATGCCTTAACTCTCTTCCTCACTATATTTCCAAACAACATGATGACTTTTGCTCCAATTATTCCTCAAACTGACCTCAAATGTAAATTAGAATTCTTCACTCGCCTCGTGGCAAGAAGCACAAACTTGTGTTCAACTTGTGTTCTGAGTATCCATCAGTTTGTCACACTTGTTCCTGTTAATTCAGGTAAAGGAATACTCAGAGCAAGTGTCACAAACATGGCAAGTTATTCTTGTTACAGTTGTTGGTTCTTCAGTGTCTTAAATAACATCTACATTCCAATTAAGGTCACTGGTCCACAGTTAACAGACAATAACAATAACTCTAAAAGCAAGTTGTTCTGTTCCACTTCTGATTTCAGTGTAGGCATTGTCTTCTTGAGGTTTGCCCATGATGCCACATTCATGAGCATCATGGTCTGGACCAGTGTCTCCATGGTACTTCTCCTCCATAGACATTGTCAGAGAATGCAGTACATATTCACTCTCAATCAGGACCCCAGGGGCCAAGCAGAGACCACAGCAACCCATACTATCCTGATGCTGGTAGTCACATTTGTTGGCTTTTATCTTCTAAGTCTTATTTGTATCATCTTTTACACCTATTTTATATATTCTCATCATTCCCTGAGGCATTGCAATGACATTTTGGTTTCGGGTTTCCCTACAATTTCTCCTTTACTGTTGACCTTCAGAGACCCTAAGGGTCCTTGTTCTGTGTTCTTCAACTGTTGAAAGCCAGAGTCACTAAAAATGCCAAACACAGAAGACAGCTTTGCTAATACCATTAAATACTTTATTCCATAAATATGTTTTTAAAAGCTTGTATGAACAAGGTATGGTGCTCACTGCTATACTTATAAAAGAGTAAGGTTATAATCACTTGTTGATATGAAAAGATTTCTGGTTGGAATCTGATTGAAACAGTGAGTTATTCACCACCCTCCATTCTCT'"
      ]
     },
     "execution_count": 4,
     "metadata": {},
     "output_type": "execute_result"
    }
   ],
   "source": [
    "seq=seq.replace(\"\\n\",\"\")\n",
    "seq"
   ]
  },
  {
   "cell_type": "markdown",
   "id": "1422d7da-c18f-4982-a048-81453ea8a023",
   "metadata": {},
   "source": [
    "the extra line breaks are gone\n",
    "Sometimes there may be another character hiding in a string,\n",
    "and depending on your computer, it may or may not be visible.\n",
    "Just to be on the safe side, let's remove that as well.\n",
    "There is no harm in running this extra step\n",
    "because if you don't have the extra character nothing happens. \n",
    "so we remove the `\\r` character"
   ]
  },
  {
   "cell_type": "code",
   "execution_count": 5,
   "id": "6ffe2530-07f5-4843-8e63-533002865324",
   "metadata": {},
   "outputs": [],
   "source": [
    "seq=seq.replace(\"\\r\",\"\")"
   ]
  },
  {
   "cell_type": "markdown",
   "id": "0f7928c4-2c3f-4d4b-9dd1-c1ac15cecb0f",
   "metadata": {},
   "source": [
    "### Translating the DNA Sequence"
   ]
  },
  {
   "cell_type": "code",
   "execution_count": 6,
   "id": "900d8240-ae6a-46f5-90c6-8b6514283923",
   "metadata": {},
   "outputs": [],
   "source": [
    "table = {\n",
    "    'ATA':'I', 'ATC':'I', 'ATT':'I', 'ATG':'M',\n",
    "    'ACA':'T', 'ACC':'T', 'ACG':'T', 'ACT':'T',\n",
    "    'AAC':'N', 'AAT':'N', 'AAA':'K', 'AAG':'K',\n",
    "    'AGC':'S', 'AGT':'S', 'AGA':'R', 'AGG':'R',\n",
    "    'CTA':'L', 'CTC':'L', 'CTG':'L', 'CTT':'L',\n",
    "    'CCA':'P', 'CCC':'P', 'CCG':'P', 'CCT':'P',\n",
    "    'CAC':'H', 'CAT':'H', 'CAA':'Q', 'CAG':'Q',\n",
    "    'CGA':'R', 'CGC':'R', 'CGG':'R', 'CGT':'R',\n",
    "    'GTA':'V', 'GTC':'V', 'GTG':'V', 'GTT':'V',\n",
    "    'GCA':'A', 'GCC':'A', 'GCG':'A', 'GCT':'A',\n",
    "    'GAC':'D', 'GAT':'D', 'GAA':'E', 'GAG':'E',\n",
    "    'GGA':'G', 'GGC':'G', 'GGG':'G', 'GGT':'G',\n",
    "    'TCA':'S', 'TCC':'S', 'TCG':'S', 'TCT':'S',\n",
    "    'TTC':'F', 'TTT':'F', 'TTA':'L', 'TTG':'L',\n",
    "    'TAC':'Y', 'TAT':'Y', 'TAA':'_', 'TAG':'_',\n",
    "    'TGC':'C', 'TGT':'C', 'TGA':'_', 'TGG':'W',\n",
    "}"
   ]
  },
  {
   "cell_type": "code",
   "execution_count": 7,
   "id": "39187f05-06ad-4624-96b8-c8c5ae9e1c8a",
   "metadata": {},
   "outputs": [
    {
     "data": {
      "text/plain": [
       "'N'"
      ]
     },
     "execution_count": 7,
     "metadata": {},
     "output_type": "execute_result"
    }
   ],
   "source": [
    "table['AAC']"
   ]
  },
  {
   "cell_type": "markdown",
   "id": "3546a14c-dac7-4a5b-8620-029ca11e6645",
   "metadata": {},
   "source": [
    "#### Thought process\n",
    "- check that the length of the sequence is actually divisible by three. It should be, but sometimes things go wrong so it's important to check this.\n",
    "- look up each three-letter string in our table and store the result somewhere.\n",
    "- keep doing this in a loop until you get to the end of the sequence."
   ]
  },
  {
   "cell_type": "code",
   "execution_count": 8,
   "id": "f181819a-30e3-4c86-9ef7-9033b3ae563b",
   "metadata": {},
   "outputs": [
    {
     "data": {
      "text/plain": [
       "2"
      ]
     },
     "execution_count": 8,
     "metadata": {},
     "output_type": "execute_result"
    }
   ],
   "source": [
    "#check seq length is divisible by three\n",
    "len(seq)%3"
   ]
  },
  {
   "cell_type": "code",
   "execution_count": null,
   "id": "d7dde7c4-d400-4e74-b4ce-ea475a69a8dd",
   "metadata": {},
   "outputs": [],
   "source": []
  },
  {
   "cell_type": "markdown",
   "id": "1d1bc971-20e1-4755-a97a-d8f8bb8777b7",
   "metadata": {},
   "source": [
    "We use slicing to get the sequence in threes"
   ]
  },
  {
   "cell_type": "code",
   "execution_count": 9,
   "id": "9ed22003-4e03-4428-81e5-d762f6099a75",
   "metadata": {},
   "outputs": [
    {
     "data": {
      "text/plain": [
       "'GGT'"
      ]
     },
     "execution_count": 9,
     "metadata": {},
     "output_type": "execute_result"
    }
   ],
   "source": [
    "seq[0:3]"
   ]
  },
  {
   "cell_type": "code",
   "execution_count": 10,
   "id": "cfe49b97-34d6-4ff0-8128-f9cc2973a964",
   "metadata": {},
   "outputs": [
    {
     "data": {
      "text/plain": [
       "'CAG'"
      ]
     },
     "execution_count": 10,
     "metadata": {},
     "output_type": "execute_result"
    }
   ],
   "source": [
    "seq[3:6]"
   ]
  },
  {
   "cell_type": "code",
   "execution_count": 11,
   "id": "a65551f2-d853-44e6-b300-d71dcdf8997c",
   "metadata": {},
   "outputs": [],
   "source": [
    "protein=\"\"\n",
    "if len(seq)%3==0:\n",
    "    for i in range(0,len(seq),3):\n",
    "        codon=seq[i:i+3] #this extracts codons\n",
    "        protein+=table[codon] #we are cocantenating the  codon translated to protein"
   ]
  },
  {
   "cell_type": "code",
   "execution_count": 12,
   "id": "909bde03-219f-4453-a2c1-7fa44fdc2c3a",
   "metadata": {},
   "outputs": [],
   "source": [
    "def translate(seq):\n",
    "    table = {\n",
    "    'ATA':'I', 'ATC':'I', 'ATT':'I', 'ATG':'M',\n",
    "    'ACA':'T', 'ACC':'T', 'ACG':'T', 'ACT':'T',\n",
    "    'AAC':'N', 'AAT':'N', 'AAA':'K', 'AAG':'K',\n",
    "    'AGC':'S', 'AGT':'S', 'AGA':'R', 'AGG':'R',\n",
    "    'CTA':'L', 'CTC':'L', 'CTG':'L', 'CTT':'L',\n",
    "    'CCA':'P', 'CCC':'P', 'CCG':'P', 'CCT':'P',\n",
    "    'CAC':'H', 'CAT':'H', 'CAA':'Q', 'CAG':'Q',\n",
    "    'CGA':'R', 'CGC':'R', 'CGG':'R', 'CGT':'R',\n",
    "    'GTA':'V', 'GTC':'V', 'GTG':'V', 'GTT':'V',\n",
    "    'GCA':'A', 'GCC':'A', 'GCG':'A', 'GCT':'A',\n",
    "    'GAC':'D', 'GAT':'D', 'GAA':'E', 'GAG':'E',\n",
    "    'GGA':'G', 'GGC':'G', 'GGG':'G', 'GGT':'G',\n",
    "    'TCA':'S', 'TCC':'S', 'TCG':'S', 'TCT':'S',\n",
    "    'TTC':'F', 'TTT':'F', 'TTA':'L', 'TTG':'L',\n",
    "    'TAC':'Y', 'TAT':'Y', 'TAA':'_', 'TAG':'_',\n",
    "    'TGC':'C', 'TGT':'C', 'TGA':'_', 'TGG':'W',\n",
    "    }\n",
    "    protein=\"\"\n",
    "    if len(seq)%3==0:\n",
    "        for i in range(0,len(seq),3):\n",
    "            codon=seq[i:i+3] #this extracts codons\n",
    "            protein+=table[codon] #we are cocantenating the  codon translated to protein\n",
    "    return protein"
   ]
  },
  {
   "cell_type": "code",
   "execution_count": 13,
   "id": "54a4b76b-977f-445c-83da-80c8227fa99c",
   "metadata": {},
   "outputs": [
    {
     "data": {
      "text/plain": [
       "'I'"
      ]
     },
     "execution_count": 13,
     "metadata": {},
     "output_type": "execute_result"
    }
   ],
   "source": [
    "translate(\"ATA\")"
   ]
  },
  {
   "cell_type": "markdown",
   "id": "63696d5a-e819-426a-acb2-faba2d2494b6",
   "metadata": {},
   "source": [
    "#### Adding a docstring\n",
    "let's add a docstring to our function. A docstring is a string literal that occurs as the first statement in a module function, or a class, or a method definition, and it becomes part of that object.\n",
    "The docstring should summarize the behavior of the function\n",
    "and document its arguments, returned values, possible side effects,\n",
    "and anything else that would be important for a user\n",
    "to know about the function."
   ]
  },
  {
   "cell_type": "code",
   "execution_count": 14,
   "id": "a0bd4549-efb1-47b8-87b7-0b42bc225bb6",
   "metadata": {},
   "outputs": [],
   "source": [
    "def translate(seq):\n",
    "    \"\"\" Translate a string containing a nucleotide sequence into a string containing the corresponding sequence of amino acids. Nucleotides are translated in triplets using the table dictionary: each amino acid is encoded with a string of length 1.\"\"\"\n",
    "    table = {\n",
    "    'ATA':'I', 'ATC':'I', 'ATT':'I', 'ATG':'M',\n",
    "    'ACA':'T', 'ACC':'T', 'ACG':'T', 'ACT':'T',\n",
    "    'AAC':'N', 'AAT':'N', 'AAA':'K', 'AAG':'K',\n",
    "    'AGC':'S', 'AGT':'S', 'AGA':'R', 'AGG':'R',\n",
    "    'CTA':'L', 'CTC':'L', 'CTG':'L', 'CTT':'L',\n",
    "    'CCA':'P', 'CCC':'P', 'CCG':'P', 'CCT':'P',\n",
    "    'CAC':'H', 'CAT':'H', 'CAA':'Q', 'CAG':'Q',\n",
    "    'CGA':'R', 'CGC':'R', 'CGG':'R', 'CGT':'R',\n",
    "    'GTA':'V', 'GTC':'V', 'GTG':'V', 'GTT':'V',\n",
    "    'GCA':'A', 'GCC':'A', 'GCG':'A', 'GCT':'A',\n",
    "    'GAC':'D', 'GAT':'D', 'GAA':'E', 'GAG':'E',\n",
    "    'GGA':'G', 'GGC':'G', 'GGG':'G', 'GGT':'G',\n",
    "    'TCA':'S', 'TCC':'S', 'TCG':'S', 'TCT':'S',\n",
    "    'TTC':'F', 'TTT':'F', 'TTA':'L', 'TTG':'L',\n",
    "    'TAC':'Y', 'TAT':'Y', 'TAA':'_', 'TAG':'_',\n",
    "    'TGC':'C', 'TGT':'C', 'TGA':'_', 'TGG':'W',\n",
    "    }\n",
    "    protein=\"\"\n",
    "    if len(seq)%3==0:\n",
    "        for i in range(0,len(seq),3):\n",
    "            codon=seq[i:i+3] #this extracts codons\n",
    "            protein+=table[codon] #we are cocantenating the  codon translated to protein\n",
    "    return protein"
   ]
  },
  {
   "cell_type": "code",
   "execution_count": 15,
   "id": "874f8908-8276-4240-9962-2af6a299db3c",
   "metadata": {},
   "outputs": [
    {
     "name": "stdout",
     "output_type": "stream",
     "text": [
      "Help on function translate in module __main__:\n",
      "\n",
      "translate(seq)\n",
      "    Translate a string containing a nucleotide sequence into a string containing the corresponding sequence of amino acids. Nucleotides are translated in triplets using the table dictionary: each amino acid is encoded with a string of length 1.\n",
      "\n"
     ]
    }
   ],
   "source": [
    "help(translate)"
   ]
  },
  {
   "cell_type": "code",
   "execution_count": 16,
   "id": "3486e4d9-fd8c-4bab-853a-e211b1987ca9",
   "metadata": {},
   "outputs": [
    {
     "data": {
      "text/plain": [
       "'A'"
      ]
     },
     "execution_count": 16,
     "metadata": {},
     "output_type": "execute_result"
    }
   ],
   "source": [
    "table[\"GCC\"]"
   ]
  },
  {
   "cell_type": "code",
   "execution_count": 17,
   "id": "662ccc8b-a621-4ab7-9056-dc304d125c3f",
   "metadata": {},
   "outputs": [
    {
     "data": {
      "text/plain": [
       "8"
      ]
     },
     "execution_count": 17,
     "metadata": {},
     "output_type": "execute_result"
    }
   ],
   "source": [
    "138%13"
   ]
  },
  {
   "cell_type": "code",
   "execution_count": 18,
   "id": "12e416ea-91a5-49ab-8541-91a2742372cc",
   "metadata": {},
   "outputs": [
    {
     "data": {
      "text/plain": [
       "'CCTGAAAACC'"
      ]
     },
     "execution_count": 18,
     "metadata": {},
     "output_type": "execute_result"
    }
   ],
   "source": [
    "seq[40:50]"
   ]
  },
  {
   "cell_type": "markdown",
   "id": "a82a1e9d-4b1b-4de0-b46e-d3d2b4481fb7",
   "metadata": {},
   "source": [
    "#### Comparing your translation\n",
    "with is a compound statement which is better to use for opening files as it handles errors"
   ]
  },
  {
   "cell_type": "code",
   "execution_count": 19,
   "id": "31946cce-7deb-4614-a818-7589da6e4033",
   "metadata": {},
   "outputs": [],
   "source": [
    "def read_seq(inputfile):\n",
    "    \"\"\"Reads and returns input sequence with special characters removed \"\"\"\n",
    "    with open(inputfile,\"r\") as f:\n",
    "        seq=f.read()\n",
    "        seq=seq.replace(\"\\n\",\"\")\n",
    "        seq=seq.replace(\"\\r\",\"\")\n",
    "        return seq"
   ]
  },
  {
   "cell_type": "code",
   "execution_count": 20,
   "id": "de293a07-b1f3-40dd-b164-7bda3d3b47e8",
   "metadata": {},
   "outputs": [],
   "source": [
    "prt= read_seq(\"protein.txt\")\n",
    "dna= read_seq(\"dna.txt\")\n",
    "\n"
   ]
  },
  {
   "cell_type": "markdown",
   "id": "325e61e6-8c37-4f3d-801d-f90db778c669",
   "metadata": {},
   "source": [
    "From the site the DNA is for 21 to 938 only\n",
    "In Python, indexing starts at 0, so genome positions 21 and 938\n",
    "correspond to Python string positions 20 and 937.\n",
    "And since slicing stops before the end value specified, we will use the range [20:938]"
   ]
  },
  {
   "cell_type": "code",
   "execution_count": 21,
   "id": "6ac177eb-12d0-46f7-b2da-7d477e63ce80",
   "metadata": {},
   "outputs": [
    {
     "data": {
      "text/plain": [
       "'MSTHDTSLKTTEEVAFQIILLCQFGVGTFANVFLFVYNFSPISTGSKQRPRQVILRHMAVANALTLFLTIFPNNMMTFAPIIPQTDLKCKLEFFTRLVARSTNLCSTCVLSIHQFVTLVPVNSGKGILRASVTNMASYSCYSCWFFSVLNNIYIPIKVTGPQLTDNNNNSKSKLFCSTSDFSVGIVFLRFAHDATFMSIMVWTSVSMVLLLHRHCQRMQYIFTLNQDPRGQAETTATHTILMLVVTFVGFYLLSLICIIFYTYFIYSHHSLRHCNDILVSGFPTISPLLLTFRDPKGPCSVFFNC_'"
      ]
     },
     "execution_count": 21,
     "metadata": {},
     "output_type": "execute_result"
    }
   ],
   "source": [
    "translate(dna[20:938])"
   ]
  },
  {
   "cell_type": "code",
   "execution_count": 22,
   "id": "38c90b05-c29b-4559-9a9b-95d5f163f2c2",
   "metadata": {},
   "outputs": [
    {
     "data": {
      "text/plain": [
       "'MSTHDTSLKTTEEVAFQIILLCQFGVGTFANVFLFVYNFSPISTGSKQRPRQVILRHMAVANALTLFLTIFPNNMMTFAPIIPQTDLKCKLEFFTRLVARSTNLCSTCVLSIHQFVTLVPVNSGKGILRASVTNMASYSCYSCWFFSVLNNIYIPIKVTGPQLTDNNNNSKSKLFCSTSDFSVGIVFLRFAHDATFMSIMVWTSVSMVLLLHRHCQRMQYIFTLNQDPRGQAETTATHTILMLVVTFVGFYLLSLICIIFYTYFIYSHHSLRHCNDILVSGFPTISPLLLTFRDPKGPCSVFFNC'"
      ]
     },
     "execution_count": 22,
     "metadata": {},
     "output_type": "execute_result"
    }
   ],
   "source": [
    "prt"
   ]
  },
  {
   "cell_type": "markdown",
   "id": "95acdf4c-5458-4cd0-81ee-06b46c110790",
   "metadata": {},
   "source": [
    "At the very end of a protein coding sequence, nature places what's called a stop codon. There are three stop codons, and their function is to tell someone reading the sequence that this is where you should stop reading. It's almost like an end of paragraph sign.\n",
    "The stop codon is not included in the downloaded protein, because it's usually not of interest.\n",
    "But when we download the DNA sequence and translate it ourselves,\n",
    "the stop codon is included in the translation.\n",
    "\n",
    "So we remove the last three letters in order to match"
   ]
  },
  {
   "cell_type": "code",
   "execution_count": 23,
   "id": "14342cfd-3493-4d89-aebf-db771b13b9b0",
   "metadata": {},
   "outputs": [
    {
     "data": {
      "text/plain": [
       "'MSTHDTSLKTTEEVAFQIILLCQFGVGTFANVFLFVYNFSPISTGSKQRPRQVILRHMAVANALTLFLTIFPNNMMTFAPIIPQTDLKCKLEFFTRLVARSTNLCSTCVLSIHQFVTLVPVNSGKGILRASVTNMASYSCYSCWFFSVLNNIYIPIKVTGPQLTDNNNNSKSKLFCSTSDFSVGIVFLRFAHDATFMSIMVWTSVSMVLLLHRHCQRMQYIFTLNQDPRGQAETTATHTILMLVVTFVGFYLLSLICIIFYTYFIYSHHSLRHCNDILVSGFPTISPLLLTFRDPKGPCSVFFNC'"
      ]
     },
     "execution_count": 23,
     "metadata": {},
     "output_type": "execute_result"
    }
   ],
   "source": [
    "translate(dna[20:935])"
   ]
  },
  {
   "cell_type": "code",
   "execution_count": 24,
   "id": "10aff49a-38ac-4f97-afc5-e258dc16813f",
   "metadata": {},
   "outputs": [
    {
     "data": {
      "text/plain": [
       "True"
      ]
     },
     "execution_count": 24,
     "metadata": {},
     "output_type": "execute_result"
    }
   ],
   "source": [
    "prt==translate(dna[20:935])"
   ]
  },
  {
   "cell_type": "code",
   "execution_count": 25,
   "id": "2cb28ef5-8246-4049-84dc-bc1a4868e61c",
   "metadata": {},
   "outputs": [
    {
     "data": {
      "text/plain": [
       "True"
      ]
     },
     "execution_count": 25,
     "metadata": {},
     "output_type": "execute_result"
    }
   ],
   "source": [
    "prt==translate(dna[20:938])[:-1]"
   ]
  }
 ],
 "metadata": {
  "kernelspec": {
   "display_name": "Python 3 (ipykernel)",
   "language": "python",
   "name": "python3"
  },
  "language_info": {
   "codemirror_mode": {
    "name": "ipython",
    "version": 3
   },
   "file_extension": ".py",
   "mimetype": "text/x-python",
   "name": "python",
   "nbconvert_exporter": "python",
   "pygments_lexer": "ipython3",
   "version": "3.9.10"
  }
 },
 "nbformat": 4,
 "nbformat_minor": 5
}
