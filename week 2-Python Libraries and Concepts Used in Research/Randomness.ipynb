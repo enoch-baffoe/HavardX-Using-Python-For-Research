{
 "cells": [
  {
   "cell_type": "markdown",
   "id": "8ceb83b7-694d-44fa-b3a6-97ace4c3aa3b",
   "metadata": {},
   "source": [
    "## Randomness\n"
   ]
  },
  {
   "cell_type": "code",
   "execution_count": 1,
   "id": "535db958-35e3-4cce-90c1-030ef34d78dd",
   "metadata": {},
   "outputs": [],
   "source": [
    "import random"
   ]
  },
  {
   "cell_type": "code",
   "execution_count": 5,
   "id": "08d34ad0-0e42-4b20-a137-a04361f8759d",
   "metadata": {},
   "outputs": [
    {
     "data": {
      "text/plain": [
       "'H'"
      ]
     },
     "execution_count": 5,
     "metadata": {},
     "output_type": "execute_result"
    }
   ],
   "source": [
    "random.choice([\"H\",\"T\"])"
   ]
  },
  {
   "cell_type": "code",
   "execution_count": 6,
   "id": "ee6a1d1d-9e3a-4d5a-b5a6-5904e9f971be",
   "metadata": {},
   "outputs": [
    {
     "data": {
      "text/plain": [
       "0"
      ]
     },
     "execution_count": 6,
     "metadata": {},
     "output_type": "execute_result"
    }
   ],
   "source": [
    "random.choice([0,1])"
   ]
  },
  {
   "cell_type": "markdown",
   "id": "d60d843c-1af2-43f9-9144-b0b0863b7d2b",
   "metadata": {},
   "source": [
    "Simulating a die"
   ]
  },
  {
   "cell_type": "code",
   "execution_count": 10,
   "id": "61e231c1-1b7a-4348-8ff8-c9820104cde3",
   "metadata": {},
   "outputs": [
    {
     "data": {
      "text/plain": [
       "1"
      ]
     },
     "execution_count": 10,
     "metadata": {},
     "output_type": "execute_result"
    }
   ],
   "source": [
    "random.choice([1,2,3,4,5,6])\n",
    "random.choice(range(1,7))"
   ]
  },
  {
   "cell_type": "markdown",
   "id": "9d3a942d-3d29-4f36-b351-8627cbe11f87",
   "metadata": {},
   "source": [
    "Imagine simulating 3 different dies with 6,7,8 faces. Choosing one at random and throwing it."
   ]
  },
  {
   "cell_type": "code",
   "execution_count": 15,
   "id": "7ebb357d-c3ce-4ccb-b23e-b7674d2d54c6",
   "metadata": {},
   "outputs": [
    {
     "data": {
      "text/plain": [
       "range(1, 11)"
      ]
     },
     "execution_count": 15,
     "metadata": {},
     "output_type": "execute_result"
    }
   ],
   "source": [
    "random.choice([range(1,7),range(1,9),range(1,11)])"
   ]
  },
  {
   "cell_type": "code",
   "execution_count": 25,
   "id": "9542ba95-faf1-4fa7-ab2b-56c25a1bbe5c",
   "metadata": {},
   "outputs": [
    {
     "data": {
      "text/plain": [
       "8"
      ]
     },
     "execution_count": 25,
     "metadata": {},
     "output_type": "execute_result"
    }
   ],
   "source": [
    "random.choice(random.choice([range(1,7),range(1,9),range(1,11)]))"
   ]
  },
  {
   "cell_type": "markdown",
   "id": "5c66fdee-d2d7-4478-867a-3c4b5249d71f",
   "metadata": {},
   "source": [
    "Testing for a number of times and saving results in a list"
   ]
  },
  {
   "cell_type": "code",
   "execution_count": 27,
   "id": "a32eafc9-8c82-4744-8d6f-025328bbf6fb",
   "metadata": {},
   "outputs": [
    {
     "data": {
      "text/plain": [
       "[5,\n",
       " 3,\n",
       " 3,\n",
       " 7,\n",
       " 8,\n",
       " 4,\n",
       " 7,\n",
       " 4,\n",
       " 1,\n",
       " 2,\n",
       " 7,\n",
       " 10,\n",
       " 3,\n",
       " 3,\n",
       " 6,\n",
       " 5,\n",
       " 5,\n",
       " 7,\n",
       " 5,\n",
       " 5,\n",
       " 9,\n",
       " 8,\n",
       " 7,\n",
       " 2,\n",
       " 9,\n",
       " 1,\n",
       " 9,\n",
       " 6,\n",
       " 2,\n",
       " 1,\n",
       " 7,\n",
       " 3,\n",
       " 4,\n",
       " 6,\n",
       " 4,\n",
       " 4,\n",
       " 4,\n",
       " 5,\n",
       " 1,\n",
       " 4,\n",
       " 2,\n",
       " 3,\n",
       " 2,\n",
       " 6,\n",
       " 6,\n",
       " 5,\n",
       " 3,\n",
       " 8,\n",
       " 5,\n",
       " 4,\n",
       " 6,\n",
       " 10,\n",
       " 9,\n",
       " 6,\n",
       " 1,\n",
       " 6,\n",
       " 3,\n",
       " 3,\n",
       " 1,\n",
       " 10,\n",
       " 2,\n",
       " 2,\n",
       " 6,\n",
       " 3,\n",
       " 1,\n",
       " 4,\n",
       " 2,\n",
       " 6,\n",
       " 1,\n",
       " 1,\n",
       " 10,\n",
       " 2,\n",
       " 8,\n",
       " 7,\n",
       " 1,\n",
       " 6,\n",
       " 2,\n",
       " 8,\n",
       " 8,\n",
       " 7,\n",
       " 8,\n",
       " 7,\n",
       " 8,\n",
       " 6,\n",
       " 6,\n",
       " 3,\n",
       " 1,\n",
       " 1,\n",
       " 7,\n",
       " 7,\n",
       " 4,\n",
       " 3,\n",
       " 9,\n",
       " 5,\n",
       " 4,\n",
       " 2,\n",
       " 1,\n",
       " 4,\n",
       " 7,\n",
       " 3]"
      ]
     },
     "execution_count": 27,
     "metadata": {},
     "output_type": "execute_result"
    }
   ],
   "source": [
    "\n",
    "[random.choice(random.choice([range(1,7),range(1,9),range(1,11)])) for i in range(100)]"
   ]
  },
  {
   "cell_type": "code",
   "execution_count": 29,
   "id": "1ab0aea3-064b-4175-91b6-ec36f55b83d2",
   "metadata": {},
   "outputs": [
    {
     "data": {
      "text/plain": [
       "4"
      ]
     },
     "execution_count": 29,
     "metadata": {},
     "output_type": "execute_result"
    }
   ],
   "source": [
    "random.choice(list([1,2,3,4]))"
   ]
  },
  {
   "cell_type": "code",
   "execution_count": 30,
   "id": "a6743d98-c187-4410-94b4-84582e39ebf7",
   "metadata": {},
   "outputs": [
    {
     "data": {
      "text/plain": [
       "36"
      ]
     },
     "execution_count": 30,
     "metadata": {},
     "output_type": "execute_result"
    }
   ],
   "source": [
    "sum(random.choice(range(10)) for i in range(10))"
   ]
  },
  {
   "cell_type": "markdown",
   "id": "1c9fa7bc-b699-459c-a40b-0821df659211",
   "metadata": {},
   "source": [
    "roll the die 100 times\n",
    "and plot a histogram of the outcomes, meaning\n",
    "a histogram that shows how frequent the numbers from 1 to 6\n",
    "appeared in the 100 samples."
   ]
  },
  {
   "cell_type": "code",
   "execution_count": 48,
   "id": "f364346e-5a81-40e7-87e8-2a9fb5198caa",
   "metadata": {},
   "outputs": [
    {
     "data": {
      "image/png": "[encoded data removed]",
      "text/plain": [
       "<Figure size 432x288 with 1 Axes>"
      ]
     },
     "metadata": {
      "needs_background": "light"
     },
     "output_type": "display_data"
    }
   ],
   "source": [
    "import matplotlib.pyplot as plt\n",
    "import numpy as np\n",
    "bins=np.linspace(0.5,6.5,7)\n",
    "plt.hist([random.choice(range(1,7)) for i in range(100)],bins=bins);"
   ]
  },
  {
   "cell_type": "markdown",
   "id": "67d5c7ef-4745-43ee-b42b-37ceaf7c1f7b",
   "metadata": {},
   "source": [
    "### Evoking the law of large numbers\n",
    "Rolling the die a large number of times will prove probability that they will almost have same no. of outcomes each"
   ]
  },
  {
   "cell_type": "code",
   "execution_count": 50,
   "id": "bf0a0b5c-6dfd-4455-a1e0-f6a1c06670ea",
   "metadata": {},
   "outputs": [
    {
     "data": {
      "image/png": "[encoded data removed]",
      "text/plain": [
       "<Figure size 432x288 with 1 Axes>"
      ]
     },
     "metadata": {
      "needs_background": "light"
     },
     "output_type": "display_data"
    }
   ],
   "source": [
    "bins=np.linspace(0.5,6.5,7)\n",
    "plt.hist([random.choice(range(1,7)) for i in range(1000000)],bins=bins);"
   ]
  },
  {
   "cell_type": "markdown",
   "id": "08e5a8c5-6e35-426b-95aa-1b1116b7d2c7",
   "metadata": {},
   "source": [
    "Considering now rolling not one die, but 10 independent dies\n",
    "denoted with x1 to x10."
   ]
  },
  {
   "cell_type": "code",
   "execution_count": 60,
   "id": "6020e128-9a62-4535-aefa-cf90a1f647ed",
   "metadata": {},
   "outputs": [],
   "source": [
    "ys=[]\n",
    "\n",
    "for rep in range(1000000):\n",
    "    y=0\n",
    "    for k in range(10):\n",
    "        x=random.choice(range(1,7))\n",
    "        y=y+x\n",
    "    ys.append(y)"
   ]
  },
  {
   "cell_type": "code",
   "execution_count": 56,
   "id": "ad933052-c3d8-4fc2-908c-3fe437413482",
   "metadata": {},
   "outputs": [
    {
     "data": {
      "text/plain": [
       "23"
      ]
     },
     "execution_count": 56,
     "metadata": {},
     "output_type": "execute_result"
    }
   ],
   "source": [
    "min(ys)"
   ]
  },
  {
   "cell_type": "code",
   "execution_count": 61,
   "id": "85ea1cd2-e7f7-471c-87f9-25b96f9edf45",
   "metadata": {},
   "outputs": [
    {
     "data": {
      "image/png": "[encoded data removed]",
      "text/plain": [
       "<Figure size 432x288 with 1 Axes>"
      ]
     },
     "metadata": {
      "needs_background": "light"
     },
     "output_type": "display_data"
    }
   ],
   "source": [
    "plt.hist(ys);"
   ]
  },
  {
   "cell_type": "markdown",
   "id": "7b037695-e4cd-46fb-af49-b06edcb9902f",
   "metadata": {},
   "source": [
    "### This simulation proves the Cental Limit theorem\n",
    "The so-called central limit theorem, or CLT, states that the sum of a large number of random variables regardless of their distribution will approximately follow a normal distribution"
   ]
  },
  {
   "cell_type": "markdown",
   "id": "5aeb5cc8-2e35-4596-a424-1d9ce81ad21f",
   "metadata": {},
   "source": [
    "the main point is the following:\n",
    "You can sum together many random variables whose distribution is nothing like a normal distribution like die rolls, or even coin flips. And yet, the distribution of the sum will get closer and closer to a normal distribution as the number of random variables that are added together increases.\n",
    "The central limit theorem not only helps us understand our simulation results, but it also explains why the normal distribution, sometimes called a Gaussian distribution, occurs so often."
   ]
  },
  {
   "cell_type": "code",
   "execution_count": 62,
   "id": "91ee71b0-3ccb-4116-bff7-61560bd31d57",
   "metadata": {},
   "outputs": [
    {
     "data": {
      "text/plain": [
       "2"
      ]
     },
     "execution_count": 62,
     "metadata": {},
     "output_type": "execute_result"
    }
   ],
   "source": [
    "random.choice(list((1,2,3,4)))"
   ]
  },
  {
   "cell_type": "markdown",
   "id": "c358c5d3-3dab-454c-821f-7641fcd85591",
   "metadata": {},
   "source": [
    "## Using Numpy Random Module\n",
    "The reason for using NumPy to deal with random variables is that \n",
    "first, it has a broad range of different kinds of random variables.\n",
    "And second, it's also very fast."
   ]
  },
  {
   "cell_type": "code",
   "execution_count": 64,
   "id": "62caac22-1e99-4271-92a5-199b894b91b2",
   "metadata": {},
   "outputs": [
    {
     "data": {
      "text/plain": [
       "0.5160117969669856"
      ]
     },
     "execution_count": 64,
     "metadata": {},
     "output_type": "execute_result"
    }
   ],
   "source": [
    "import numpy as np\n"
   ]
  },
  {
   "cell_type": "code",
   "execution_count": 65,
   "id": "762b2834-5623-4ca7-a335-683daa0748ec",
   "metadata": {},
   "outputs": [
    {
     "data": {
      "text/plain": [
       "0.17387008012858907"
      ]
     },
     "execution_count": 65,
     "metadata": {},
     "output_type": "execute_result"
    }
   ],
   "source": [
    "np.random.random()"
   ]
  },
  {
   "cell_type": "markdown",
   "id": "a01ae248-f586-4914-9008-746c401e1722",
   "metadata": {},
   "source": [
    "Generating a  1d array"
   ]
  },
  {
   "cell_type": "code",
   "execution_count": 66,
   "id": "20c7434e-a10c-4e9e-b692-264a720c1187",
   "metadata": {},
   "outputs": [
    {
     "data": {
      "text/plain": [
       "array([0.71924019, 0.03098965, 0.44852704, 0.65513412, 0.64620819])"
      ]
     },
     "execution_count": 66,
     "metadata": {},
     "output_type": "execute_result"
    }
   ],
   "source": [
    "np.random.random(5)"
   ]
  },
  {
   "cell_type": "markdown",
   "id": "4b3fbec2-b3f0-4625-aac8-7a51e484d206",
   "metadata": {},
   "source": [
    "Generating 2d arrayss.\n",
    "It takes in a tuple as the parameter"
   ]
  },
  {
   "cell_type": "code",
   "execution_count": 68,
   "id": "41c02b9a-f47b-4d1f-abaf-bcaa9c47a67e",
   "metadata": {},
   "outputs": [
    {
     "data": {
      "text/plain": [
       "array([[0.3795436 , 0.81035115, 0.98365986],\n",
       "       [0.09943336, 0.75159189, 0.71507151],\n",
       "       [0.64916759, 0.55460418, 0.74661179],\n",
       "       [0.56018292, 0.00608048, 0.07053609],\n",
       "       [0.05198755, 0.17971933, 0.82016003]])"
      ]
     },
     "execution_count": 68,
     "metadata": {},
     "output_type": "execute_result"
    }
   ],
   "source": [
    "np.random.random((5,3))"
   ]
  },
  {
   "cell_type": "markdown",
   "id": "13d0f42c-83b5-44fd-ba0f-49240c2bef43",
   "metadata": {},
   "source": [
    "To generate random numbers from the standard normal distribution, or from the normal distribution in general, we will be using the np dot random dot normal function.\n",
    "\n",
    "The first argument is the mean of the distribution, in this case 0.\n",
    "And the second argument is the standard deviation, which is equal to 1."
   ]
  },
  {
   "cell_type": "code",
   "execution_count": 70,
   "id": "18eb6c10-f819-4a34-8985-23f70a6513c3",
   "metadata": {},
   "outputs": [
    {
     "data": {
      "text/plain": [
       "-1.611477330770948"
      ]
     },
     "execution_count": 70,
     "metadata": {},
     "output_type": "execute_result"
    }
   ],
   "source": [
    "np.random.normal(0,1)"
   ]
  },
  {
   "cell_type": "markdown",
   "id": "f431d8e2-e600-4a63-8e1d-991c1b750e82",
   "metadata": {},
   "source": [
    "If we'd like to generate instead a 1d array of numbers\n",
    "from the same distribution, we can specify the length of the 1d array\n",
    "as the third argument."
   ]
  },
  {
   "cell_type": "code",
   "execution_count": 71,
   "id": "c3acfa2f-2418-4fc8-aab3-a4e06163a58d",
   "metadata": {},
   "outputs": [
    {
     "data": {
      "text/plain": [
       "array([-1.15616225,  1.06608168,  1.08764708, -0.51879065, -1.4129151 ])"
      ]
     },
     "execution_count": 71,
     "metadata": {},
     "output_type": "execute_result"
    }
   ],
   "source": [
    "np.random.normal(0,1,5)"
   ]
  },
  {
   "cell_type": "markdown",
   "id": "adbaab34-8f3b-4e78-bf7e-11255eabcf12",
   "metadata": {},
   "source": [
    "we can use the same function to generate 2d, or even\n",
    "3d arrays of random numbers.\n",
    "In that case, we need to insert another pair of parentheses\n",
    "because the dimensions of the array will be added as a tuple."
   ]
  },
  {
   "cell_type": "code",
   "execution_count": 72,
   "id": "bd8cf6c2-96d0-405b-a428-ef0db35c8380",
   "metadata": {},
   "outputs": [
    {
     "data": {
      "text/plain": [
       "array([[-0.34507538, -0.30316967, -1.70015456,  0.45305529, -0.18987566],\n",
       "       [ 0.48239961, -1.25173153, -2.37288159,  0.38508582,  1.78347259]])"
      ]
     },
     "execution_count": 72,
     "metadata": {},
     "output_type": "execute_result"
    }
   ],
   "source": [
    "np.random.normal(0,1,(2,5))"
   ]
  },
  {
   "cell_type": "markdown",
   "id": "f5a28d39-d51d-4525-ad74-fad02187719f",
   "metadata": {},
   "source": [
    "We are now going to simulate the 10 dies thrown  and summing the outcomes experiment using numpy arrays\n"
   ]
  },
  {
   "cell_type": "markdown",
   "id": "5479bdf6-ebf2-45a1-bd04-2c98e1bacf58",
   "metadata": {},
   "source": [
    "np.random.randint() generates random ints using numpy arrays"
   ]
  },
  {
   "cell_type": "code",
   "execution_count": 75,
   "id": "f0b8de33-cb52-4199-ad26-984a81238378",
   "metadata": {},
   "outputs": [
    {
     "data": {
      "text/plain": [
       "4"
      ]
     },
     "execution_count": 75,
     "metadata": {},
     "output_type": "execute_result"
    }
   ],
   "source": [
    "np.random.randint(1,7)"
   ]
  },
  {
   "cell_type": "markdown",
   "id": "37846bd3-6098-4c80-bebd-c3e4da5044d3",
   "metadata": {},
   "source": [
    "trying with 10 rows and 3 columns"
   ]
  },
  {
   "cell_type": "code",
   "execution_count": 78,
   "id": "49894fdc-7352-4503-b65e-b11d2abb4d16",
   "metadata": {},
   "outputs": [
    {
     "data": {
      "text/plain": [
       "array([[1, 6, 2],\n",
       "       [5, 5, 2],\n",
       "       [4, 5, 4],\n",
       "       [3, 2, 4],\n",
       "       [1, 2, 2],\n",
       "       [1, 4, 3],\n",
       "       [3, 4, 6],\n",
       "       [1, 2, 2],\n",
       "       [1, 5, 3],\n",
       "       [5, 2, 2]])"
      ]
     },
     "execution_count": 78,
     "metadata": {},
     "output_type": "execute_result"
    }
   ],
   "source": [
    "X=np.random.randint(1,7,(10,3))\n",
    "X"
   ]
  },
  {
   "cell_type": "code",
   "execution_count": 79,
   "id": "e2f019e8-8a60-4ca3-8cb3-0adb3ed2ca04",
   "metadata": {},
   "outputs": [
    {
     "data": {
      "text/plain": [
       "\u001b[1;31mSignature:\u001b[0m\n",
       "\u001b[0mnp\u001b[0m\u001b[1;33m.\u001b[0m\u001b[0msum\u001b[0m\u001b[1;33m(\u001b[0m\u001b[1;33m\n",
       "\u001b[0m    \u001b[0ma\u001b[0m\u001b[1;33m,\u001b[0m\u001b[1;33m\n",
       "\u001b[0m    \u001b[0maxis\u001b[0m\u001b[1;33m=\u001b[0m\u001b[1;32mNone\u001b[0m\u001b[1;33m,\u001b[0m\u001b[1;33m\n",
       "\u001b[0m    \u001b[0mdtype\u001b[0m\u001b[1;33m=\u001b[0m\u001b[1;32mNone\u001b[0m\u001b[1;33m,\u001b[0m\u001b[1;33m\n",
       "\u001b[0m    \u001b[0mout\u001b[0m\u001b[1;33m=\u001b[0m\u001b[1;32mNone\u001b[0m\u001b[1;33m,\u001b[0m\u001b[1;33m\n",
       "\u001b[0m    \u001b[0mkeepdims\u001b[0m\u001b[1;33m=\u001b[0m\u001b[1;33m<\u001b[0m\u001b[0mno\u001b[0m \u001b[0mvalue\u001b[0m\u001b[1;33m>\u001b[0m\u001b[1;33m,\u001b[0m\u001b[1;33m\n",
       "\u001b[0m    \u001b[0minitial\u001b[0m\u001b[1;33m=\u001b[0m\u001b[1;33m<\u001b[0m\u001b[0mno\u001b[0m \u001b[0mvalue\u001b[0m\u001b[1;33m>\u001b[0m\u001b[1;33m,\u001b[0m\u001b[1;33m\n",
       "\u001b[0m    \u001b[0mwhere\u001b[0m\u001b[1;33m=\u001b[0m\u001b[1;33m<\u001b[0m\u001b[0mno\u001b[0m \u001b[0mvalue\u001b[0m\u001b[1;33m>\u001b[0m\u001b[1;33m,\u001b[0m\u001b[1;33m\n",
       "\u001b[0m\u001b[1;33m)\u001b[0m\u001b[1;33m\u001b[0m\u001b[1;33m\u001b[0m\u001b[0m\n",
       "\u001b[1;31mDocstring:\u001b[0m\n",
       "Sum of array elements over a given axis.\n",
       "\n",
       "Parameters\n",
       "----------\n",
       "a : array_like\n",
       "    Elements to sum.\n",
       "axis : None or int or tuple of ints, optional\n",
       "    Axis or axes along which a sum is performed.  The default,\n",
       "    axis=None, will sum all of the elements of the input array.  If\n",
       "    axis is negative it counts from the last to the first axis.\n",
       "\n",
       "    .. versionadded:: 1.7.0\n",
       "\n",
       "    If axis is a tuple of ints, a sum is performed on all of the axes\n",
       "    specified in the tuple instead of a single axis or all the axes as\n",
       "    before.\n",
       "dtype : dtype, optional\n",
       "    The type of the returned array and of the accumulator in which the\n",
       "    elements are summed.  The dtype of `a` is used by default unless `a`\n",
       "    has an integer dtype of less precision than the default platform\n",
       "    integer.  In that case, if `a` is signed then the platform integer\n",
       "    is used while if `a` is unsigned then an unsigned integer of the\n",
       "    same precision as the platform integer is used.\n",
       "out : ndarray, optional\n",
       "    Alternative output array in which to place the result. It must have\n",
       "    the same shape as the expected output, but the type of the output\n",
       "    values will be cast if necessary.\n",
       "keepdims : bool, optional\n",
       "    If this is set to True, the axes which are reduced are left\n",
       "    in the result as dimensions with size one. With this option,\n",
       "    the result will broadcast correctly against the input array.\n",
       "\n",
       "    If the default value is passed, then `keepdims` will not be\n",
       "    passed through to the `sum` method of sub-classes of\n",
       "    `ndarray`, however any non-default value will be.  If the\n",
       "    sub-class' method does not implement `keepdims` any\n",
       "    exceptions will be raised.\n",
       "initial : scalar, optional\n",
       "    Starting value for the sum. See `~numpy.ufunc.reduce` for details.\n",
       "\n",
       "    .. versionadded:: 1.15.0\n",
       "\n",
       "where : array_like of bool, optional\n",
       "    Elements to include in the sum. See `~numpy.ufunc.reduce` for details.\n",
       "\n",
       "    .. versionadded:: 1.17.0\n",
       "\n",
       "Returns\n",
       "-------\n",
       "sum_along_axis : ndarray\n",
       "    An array with the same shape as `a`, with the specified\n",
       "    axis removed.   If `a` is a 0-d array, or if `axis` is None, a scalar\n",
       "    is returned.  If an output array is specified, a reference to\n",
       "    `out` is returned.\n",
       "\n",
       "See Also\n",
       "--------\n",
       "ndarray.sum : Equivalent method.\n",
       "\n",
       "add.reduce : Equivalent functionality of `add`.\n",
       "\n",
       "cumsum : Cumulative sum of array elements.\n",
       "\n",
       "trapz : Integration of array values using the composite trapezoidal rule.\n",
       "\n",
       "mean, average\n",
       "\n",
       "Notes\n",
       "-----\n",
       "Arithmetic is modular when using integer types, and no error is\n",
       "raised on overflow.\n",
       "\n",
       "The sum of an empty array is the neutral element 0:\n",
       "\n",
       ">>> np.sum([])\n",
       "0.0\n",
       "\n",
       "For floating point numbers the numerical precision of sum (and\n",
       "``np.add.reduce``) is in general limited by directly adding each number\n",
       "individually to the result causing rounding errors in every step.\n",
       "However, often numpy will use a  numerically better approach (partial\n",
       "pairwise summation) leading to improved precision in many use-cases.\n",
       "This improved precision is always provided when no ``axis`` is given.\n",
       "When ``axis`` is given, it will depend on which axis is summed.\n",
       "Technically, to provide the best speed possible, the improved precision\n",
       "is only used when the summation is along the fast axis in memory.\n",
       "Note that the exact precision may vary depending on other parameters.\n",
       "In contrast to NumPy, Python's ``math.fsum`` function uses a slower but\n",
       "more precise approach to summation.\n",
       "Especially when summing a large number of lower precision floating point\n",
       "numbers, such as ``float32``, numerical errors can become significant.\n",
       "In such cases it can be advisable to use `dtype=\"float64\"` to use a higher\n",
       "precision for the output.\n",
       "\n",
       "Examples\n",
       "--------\n",
       ">>> np.sum([0.5, 1.5])\n",
       "2.0\n",
       ">>> np.sum([0.5, 0.7, 0.2, 1.5], dtype=np.int32)\n",
       "1\n",
       ">>> np.sum([[0, 1], [0, 5]])\n",
       "6\n",
       ">>> np.sum([[0, 1], [0, 5]], axis=0)\n",
       "array([0, 6])\n",
       ">>> np.sum([[0, 1], [0, 5]], axis=1)\n",
       "array([1, 5])\n",
       ">>> np.sum([[0, 1], [np.nan, 5]], where=[False, True], axis=1)\n",
       "array([1., 5.])\n",
       "\n",
       "If the accumulator is too small, overflow occurs:\n",
       "\n",
       ">>> np.ones(128, dtype=np.int8).sum(dtype=np.int8)\n",
       "-128\n",
       "\n",
       "You can also start the sum with a value other than zero:\n",
       "\n",
       ">>> np.sum([10], initial=5)\n",
       "15\n",
       "\u001b[1;31mFile:\u001b[0m      c:\\users\\ebaffoe\\appdata\\local\\programs\\python\\python39\\lib\\site-packages\\numpy\\core\\fromnumeric.py\n",
       "\u001b[1;31mType:\u001b[0m      function\n"
      ]
     },
     "metadata": {},
     "output_type": "display_data"
    }
   ],
   "source": [
    "np.sum?"
   ]
  },
  {
   "cell_type": "code",
   "execution_count": 80,
   "id": "19d05a0b-73b2-4b4b-9228-9ca0c5fca09b",
   "metadata": {},
   "outputs": [
    {
     "data": {
      "text/plain": [
       "92"
      ]
     },
     "execution_count": 80,
     "metadata": {},
     "output_type": "execute_result"
    }
   ],
   "source": [
    "np.sum(X)"
   ]
  },
  {
   "cell_type": "markdown",
   "id": "7cfcd6a3-587a-4165-8afb-ea62caaf81df",
   "metadata": {},
   "source": [
    "summing all rows of array"
   ]
  },
  {
   "cell_type": "code",
   "execution_count": 81,
   "id": "cfaa88d8-771a-4f1f-86d6-2d2eb0f71a6c",
   "metadata": {},
   "outputs": [
    {
     "data": {
      "text/plain": [
       "array([25, 37, 30])"
      ]
     },
     "execution_count": 81,
     "metadata": {},
     "output_type": "execute_result"
    }
   ],
   "source": [
    "np.sum(X,axis=0)"
   ]
  },
  {
   "cell_type": "markdown",
   "id": "e398bf26-d799-467d-9d6f-d32053f82295",
   "metadata": {},
   "source": [
    "summing all collumns"
   ]
  },
  {
   "cell_type": "code",
   "execution_count": 84,
   "id": "96364eed-e22b-48b3-bedc-af9e5cf50049",
   "metadata": {},
   "outputs": [
    {
     "data": {
      "text/plain": [
       "array([ 9, 12, 13,  9,  5,  8, 13,  5,  9,  9])"
      ]
     },
     "execution_count": 84,
     "metadata": {},
     "output_type": "execute_result"
    }
   ],
   "source": [
    "np.sum(X,axis=1)"
   ]
  },
  {
   "cell_type": "code",
   "execution_count": 86,
   "id": "764468ee-09e7-40e6-bd0c-9078760a215e",
   "metadata": {},
   "outputs": [
    {
     "data": {
      "text/plain": [
       "array([ 9, 12, 13,  9,  5,  8, 13,  5,  9,  9])"
      ]
     },
     "execution_count": 86,
     "metadata": {},
     "output_type": "execute_result"
    }
   ],
   "source": [
    "Y=np.sum(X,axis=1)\n",
    "Y"
   ]
  },
  {
   "cell_type": "code",
   "execution_count": 89,
   "id": "441b36a3-d924-49f4-af9d-df9b695e4a48",
   "metadata": {},
   "outputs": [
    {
     "data": {
      "text/plain": [
       "(array([ 6., 16., 14., 22., 12., 14., 11.,  2.,  2.,  1.]),\n",
       " array([25. , 27.8, 30.6, 33.4, 36.2, 39. , 41.8, 44.6, 47.4, 50.2, 53. ]),\n",
       " <BarContainer object of 10 artists>)"
      ]
     },
     "execution_count": 89,
     "metadata": {},
     "output_type": "execute_result"
    },
    {
     "data": {
      "image/png": "[encoded data removed]",
      "text/plain": [
       "<Figure size 432x288 with 1 Axes>"
      ]
     },
     "metadata": {
      "needs_background": "light"
     },
     "output_type": "display_data"
    }
   ],
   "source": [
    "X=np.random.randint(1,7,(100,10))\n",
    "Y=np.sum(X,axis=1)\n",
    "plt.hist(Y)"
   ]
  },
  {
   "cell_type": "code",
   "execution_count": 91,
   "id": "e003b39b-1420-4a92-aa1f-beae4191bc63",
   "metadata": {},
   "outputs": [
    {
     "data": {
      "text/plain": [
       "(array([3.19000e+02, 5.05600e+03, 5.25590e+04, 1.46422e+05, 3.30898e+05,\n",
       "        2.59540e+05, 1.65969e+05, 3.37720e+04, 5.33700e+03, 1.28000e+02]),\n",
       " array([13. , 17.5, 22. , 26.5, 31. , 35.5, 40. , 44.5, 49. , 53.5, 58. ]),\n",
       " <BarContainer object of 10 artists>)"
      ]
     },
     "execution_count": 91,
     "metadata": {},
     "output_type": "execute_result"
    },
    {
     "data": {
      "image/png": "[encoded data removed]",
      "text/plain": [
       "<Figure size 432x288 with 1 Axes>"
      ]
     },
     "metadata": {
      "needs_background": "light"
     },
     "output_type": "display_data"
    }
   ],
   "source": [
    "X=np.random.randint(1,7,(1000000,10))\n",
    "Y=np.sum(X,axis=1)\n",
    "plt.hist(Y)"
   ]
  },
  {
   "cell_type": "code",
   "execution_count": 96,
   "id": "73582092-b464-47ea-88cd-b48b9a6f4b00",
   "metadata": {},
   "outputs": [
    {
     "data": {
      "text/plain": [
       "array([[[0.28016698, 0.94589951, 0.17735015],\n",
       "        [0.64533086, 0.41089136, 0.81725558]],\n",
       "\n",
       "       [[0.90176271, 0.76113536, 0.20016553],\n",
       "        [0.41932907, 0.70820813, 0.89380679]],\n",
       "\n",
       "       [[0.08977075, 0.11423331, 0.30530506],\n",
       "        [0.31478025, 0.68403367, 0.64488676]],\n",
       "\n",
       "       [[0.39870952, 0.58576413, 0.42157639],\n",
       "        [0.3734037 , 0.17009082, 0.73612264]],\n",
       "\n",
       "       [[0.78120863, 0.69533256, 0.62585411],\n",
       "        [0.14407192, 0.82671156, 0.30333604]]])"
      ]
     },
     "execution_count": 96,
     "metadata": {},
     "output_type": "execute_result"
    }
   ],
   "source": [
    "x=np.random.random((5,2,3))\n",
    "x"
   ]
  },
  {
   "cell_type": "code",
   "execution_count": 101,
   "id": "1c893d16-59ee-4068-8e8e-60d83ee145de",
   "metadata": {},
   "outputs": [
    {
     "data": {
      "text/plain": [
       "array([ 0.68613093, -4.15100807, -0.23800144])"
      ]
     },
     "execution_count": 101,
     "metadata": {},
     "output_type": "execute_result"
    }
   ],
   "source": [
    "np.random.normal(1,2,3)"
   ]
  },
  {
   "cell_type": "code",
   "execution_count": 104,
   "id": "027b805f-5df2-496d-85d0-f43a490909c3",
   "metadata": {},
   "outputs": [
    {
     "data": {
      "text/plain": [
       "array([368, 385, 334, 363, 326, 329, 395, 388, 359, 355])"
      ]
     },
     "execution_count": 104,
     "metadata": {},
     "output_type": "execute_result"
    }
   ],
   "source": [
    "np.sum(np.random.randint(1,7,(100,10)), axis=0)"
   ]
  },
  {
   "cell_type": "markdown",
   "id": "e8d0ca45-5be8-4d2d-afd1-323ead1566a5",
   "metadata": {},
   "source": [
    "## Measuring Time"
   ]
  },
  {
   "cell_type": "code",
   "execution_count": 111,
   "id": "e64e25b6-6d35-4c89-b0ed-ec3623c732bb",
   "metadata": {},
   "outputs": [
    {
     "data": {
      "text/plain": [
       "6.650000068475492e-05"
      ]
     },
     "execution_count": 111,
     "metadata": {},
     "output_type": "execute_result"
    }
   ],
   "source": [
    "import time\n",
    "start_time=time.perf_counter()\n",
    "end_time= time.perf_counter()\n",
    "end_time-start_time"
   ]
  },
  {
   "cell_type": "code",
   "execution_count": 112,
   "id": "e4bd70a7-4235-40a3-8d90-f7b0704ff690",
   "metadata": {},
   "outputs": [
    {
     "data": {
      "text/plain": [
       "7.008734600000025"
      ]
     },
     "execution_count": 112,
     "metadata": {},
     "output_type": "execute_result"
    }
   ],
   "source": [
    "start_time=time.perf_counter()\n",
    "ys=[]\n",
    "\n",
    "for rep in range(1000000):\n",
    "    y=0\n",
    "    for k in range(10):\n",
    "        x=random.choice(range(1,7))\n",
    "        y=y+x\n",
    "    ys.append(y)\n",
    "end_time= time.perf_counter()\n",
    "end_time-start_time"
   ]
  },
  {
   "cell_type": "code",
   "execution_count": 113,
   "id": "ea45a041-58e1-41b2-b0b5-773136fd0533",
   "metadata": {},
   "outputs": [
    {
     "data": {
      "text/plain": [
       "0.11477079999986017"
      ]
     },
     "execution_count": 113,
     "metadata": {},
     "output_type": "execute_result"
    }
   ],
   "source": [
    "start_time=time.perf_counter()\n",
    "X=np.random.randint(1,7,(1000000,10))\n",
    "Y=np.sum(X,axis=1)\n",
    "end_time= time.perf_counter()\n",
    "end_time-start_time"
   ]
  },
  {
   "cell_type": "markdown",
   "id": "26bb667d-450f-474b-912d-c90df65b3ea6",
   "metadata": {},
   "source": [
    "we can see that the numpy implemetation is way faster than the python implementation"
   ]
  },
  {
   "cell_type": "markdown",
   "id": "9aa00e3d-ece6-4cfb-ae8e-96f57fade248",
   "metadata": {},
   "source": [
    "### Random walks\n",
    "They can be used to model random movements of molecules,\n",
    "but they can also be used to model spatial trajectories of people,\n",
    "the kind we might be able to measure using GPS or similar technologies.\n",
    "There are many different kinds of random walks, and properties of random walks\n",
    "are central to many areas in physics and mathematics."
   ]
  },
  {
   "cell_type": "markdown",
   "id": "717102bb-4367-4bdc-86cf-e75434413642",
   "metadata": {},
   "source": [
    "You have some location at time t, and from that location\n",
    "you take a step in a random direction and that generates your location\n",
    "at time t plus 1."
   ]
  },
  {
   "cell_type": "markdown",
   "id": "e00ea2a3-f4e7-47cf-9a2d-711c895badb0",
   "metadata": {},
   "source": [
    "Let's try coding up random walker in NumPy, where we start at the origin,\n",
    "take 100 steps, and where each step is sampled\n",
    "from the standard normal distribution.\n",
    "The normal distribution having mean 0 and standard deviation equal to 1.\n",
    "We're also going to assume that the x displacement and the y\n",
    "displacement for any given step are independent, such\n",
    "that the displacement in the horizontal direction\n",
    "has nothing to do with the displacement in the vertical direction.\n",
    "We can start by generating the displacements."
   ]
  },
  {
   "cell_type": "code",
   "execution_count": 118,
   "id": "f8af8073-c43e-470f-8456-f8139e88b555",
   "metadata": {},
   "outputs": [
    {
     "data": {
      "text/plain": [
       "array([[-0.16152499,  0.43703178, -0.18148462,  0.35686141,  0.54835774],\n",
       "       [-0.31286966,  0.71823069, -1.65517026, -0.86223307,  1.26635774]])"
      ]
     },
     "execution_count": 118,
     "metadata": {},
     "output_type": "execute_result"
    }
   ],
   "source": [
    "delta_X=np.random.normal(0,1,(2,5))\n",
    "delta_X"
   ]
  },
  {
   "cell_type": "code",
   "execution_count": 117,
   "id": "a3ab1b35-5564-4bd9-b5c2-664f55e2c639",
   "metadata": {},
   "outputs": [
    {
     "data": {
      "text/plain": [
       "[<matplotlib.lines.Line2D at 0x1e044670df0>]"
      ]
     },
     "execution_count": 117,
     "metadata": {},
     "output_type": "execute_result"
    },
    {
     "data": {
      "image/png": "[encoded data removed]",
      "text/plain": [
       "<Figure size 432x288 with 1 Axes>"
      ]
     },
     "metadata": {
      "needs_background": "light"
     },
     "output_type": "display_data"
    }
   ],
   "source": [
    "plt.plot(delta_X[0],delta_X[1],\"go\")"
   ]
  },
  {
   "cell_type": "markdown",
   "id": "90ad68c8-ffa5-41de-893d-e53e7042badd",
   "metadata": {},
   "source": [
    "What we need now is the cummulative sum of the columns"
   ]
  },
  {
   "cell_type": "code",
   "execution_count": 119,
   "id": "61b6822e-fd3b-43d5-8512-5f6df5f77b61",
   "metadata": {},
   "outputs": [
    {
     "data": {
      "text/plain": [
       "array([[-0.16152499,  0.27550679,  0.09402217,  0.45088358,  0.99924132],\n",
       "       [-0.31286966,  0.40536103, -1.24980923, -2.1120423 , -0.84568457]])"
      ]
     },
     "execution_count": 119,
     "metadata": {},
     "output_type": "execute_result"
    }
   ],
   "source": [
    "X=np.cumsum(delta_X,axis=1)\n",
    "X"
   ]
  },
  {
   "cell_type": "code",
   "execution_count": 120,
   "id": "6b912e0c-8f27-49f6-a7b8-f32304ca0fa7",
   "metadata": {},
   "outputs": [
    {
     "data": {
      "text/plain": [
       "array([[-0.16152499,  0.43703178, -0.18148462,  0.35686141,  0.54835774],\n",
       "       [-0.31286966,  0.71823069, -1.65517026, -0.86223307,  1.26635774]])"
      ]
     },
     "execution_count": 120,
     "metadata": {},
     "output_type": "execute_result"
    }
   ],
   "source": [
    "delta_X"
   ]
  },
  {
   "cell_type": "code",
   "execution_count": 126,
   "id": "edf78b31-4099-40ec-9722-e5cb010c5a97",
   "metadata": {},
   "outputs": [
    {
     "data": {
      "image/png": "[encoded data removed]",
      "text/plain": [
       "<Figure size 432x288 with 1 Axes>"
      ]
     },
     "metadata": {
      "needs_background": "light"
     },
     "output_type": "display_data"
    }
   ],
   "source": [
    "delta_X=np.random.normal(0,1,(2,5))\n",
    "X=np.cumsum(delta_X,axis=1)\n",
    "plt.plot(X[0],X[1],\"ro-\")\n",
    "plt.savefig(\"rw.pdf\")"
   ]
  },
  {
   "cell_type": "markdown",
   "id": "bc2d1002-41f5-46a8-bb88-5585461ad872",
   "metadata": {},
   "source": [
    "now we have to cocantenate the array with one which starts from the orgin"
   ]
  },
  {
   "cell_type": "code",
   "execution_count": 128,
   "id": "4dae2757-d4a4-4f90-abed-823e0e5529ba",
   "metadata": {},
   "outputs": [
    {
     "data": {
      "image/png": "[encoded data removed]",
      "text/plain": [
       "<Figure size 432x288 with 1 Axes>"
      ]
     },
     "metadata": {
      "needs_background": "light"
     },
     "output_type": "display_data"
    }
   ],
   "source": [
    "X_0=np.array([[0],[0]])\n",
    "\n",
    "delta_X=np.random.normal(0,1,(2,10000))\n",
    "cum_X=np.cumsum(delta_X,axis=1)\n",
    "X=np.concatenate((X_0,cum_X),axis=1)\n",
    "plt.plot(X[0],X[1],\"ro-\")\n",
    "plt.savefig(\"rw2.pdf\")"
   ]
  },
  {
   "cell_type": "code",
   "execution_count": null,
   "id": "b429324a-1738-4d1d-97bf-b5a11952f3d9",
   "metadata": {},
   "outputs": [],
   "source": []
  }
 ],
 "metadata": {
  "kernelspec": {
   "display_name": "Python 3 (ipykernel)",
   "language": "python",
   "name": "python3"
  },
  "language_info": {
   "codemirror_mode": {
    "name": "ipython",
    "version": 3
   },
   "file_extension": ".py",
   "mimetype": "text/x-python",
   "name": "python",
   "nbconvert_exporter": "python",
   "pygments_lexer": "ipython3",
   "version": "3.9.10"
  }
 },
 "nbformat": 4,
 "nbformat_minor": 5
}
