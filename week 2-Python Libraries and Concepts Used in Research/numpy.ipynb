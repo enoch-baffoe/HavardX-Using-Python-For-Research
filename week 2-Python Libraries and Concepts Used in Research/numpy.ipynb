{
 "cells": [
  {
   "cell_type": "code",
   "execution_count": 47,
   "id": "00412342-dfef-4e4f-9d4c-6fc67c2726f2",
   "metadata": {},
   "outputs": [],
   "source": [
    "import numpy as np\n"
   ]
  },
  {
   "cell_type": "code",
   "execution_count": 2,
   "id": "9e53c225-4c35-4e84-a8b5-ed56587723dc",
   "metadata": {},
   "outputs": [],
   "source": [
    "z1=np.array([1,3,5,7,9])\n",
    "z2=z1+1"
   ]
  },
  {
   "cell_type": "code",
   "execution_count": 3,
   "id": "a1e8ef9c-cb32-41b6-b509-f549fd1aef41",
   "metadata": {},
   "outputs": [
    {
     "data": {
      "text/plain": [
       "array([1, 3, 5, 7, 9])"
      ]
     },
     "execution_count": 3,
     "metadata": {},
     "output_type": "execute_result"
    }
   ],
   "source": [
    "z1"
   ]
  },
  {
   "cell_type": "code",
   "execution_count": 4,
   "id": "178639b1-225d-44c4-b7d4-42bfc6419ba2",
   "metadata": {},
   "outputs": [
    {
     "data": {
      "text/plain": [
       "array([ 2,  4,  6,  8, 10])"
      ]
     },
     "execution_count": 4,
     "metadata": {},
     "output_type": "execute_result"
    }
   ],
   "source": [
    "z2"
   ]
  },
  {
   "cell_type": "code",
   "execution_count": 6,
   "id": "de2c07d5-e21b-4e65-8439-c4332497c40e",
   "metadata": {},
   "outputs": [
    {
     "data": {
      "text/plain": [
       "array([1, 5, 7])"
      ]
     },
     "execution_count": 6,
     "metadata": {},
     "output_type": "execute_result"
    }
   ],
   "source": [
    "ind=[0,2,3]\n",
    "z1[ind]"
   ]
  },
  {
   "cell_type": "code",
   "execution_count": 7,
   "id": "99b17bff-2686-4177-96b0-09fcb007a51d",
   "metadata": {},
   "outputs": [
    {
     "data": {
      "text/plain": [
       "array([1, 5, 7])"
      ]
     },
     "execution_count": 7,
     "metadata": {},
     "output_type": "execute_result"
    }
   ],
   "source": [
    "ind=np.array([0,2,3])\n",
    "z1[ind]"
   ]
  },
  {
   "cell_type": "code",
   "execution_count": 9,
   "id": "f94ce8cc-ce26-4e75-a31f-07322ef2e826",
   "metadata": {},
   "outputs": [
    {
     "data": {
      "text/plain": [
       "array([False, False, False,  True,  True])"
      ]
     },
     "execution_count": 9,
     "metadata": {},
     "output_type": "execute_result"
    }
   ],
   "source": [
    "#boolean array or logical array\n",
    "z1>6"
   ]
  },
  {
   "cell_type": "code",
   "execution_count": 10,
   "id": "1c7430c7-98e3-4e39-b4f1-073505807cf8",
   "metadata": {},
   "outputs": [
    {
     "data": {
      "text/plain": [
       "array([7, 9])"
      ]
     },
     "execution_count": 10,
     "metadata": {},
     "output_type": "execute_result"
    }
   ],
   "source": [
    "#using logical index vector to return just elements of certain condition\n",
    "z1[z1>6]"
   ]
  },
  {
   "cell_type": "code",
   "execution_count": 11,
   "id": "5c49f47f-d41c-44f3-9b68-6cdbc82fd713",
   "metadata": {},
   "outputs": [
    {
     "data": {
      "text/plain": [
       "array([ 8, 10])"
      ]
     },
     "execution_count": 11,
     "metadata": {},
     "output_type": "execute_result"
    }
   ],
   "source": [
    "z2[z1>6]"
   ]
  },
  {
   "cell_type": "code",
   "execution_count": 12,
   "id": "0431a7a3-c448-4842-9c9b-e26fadefce5d",
   "metadata": {},
   "outputs": [],
   "source": [
    "ind=z1>6"
   ]
  },
  {
   "cell_type": "code",
   "execution_count": 13,
   "id": "ec7239a5-e2ae-4487-846c-0b3a63f1ab68",
   "metadata": {},
   "outputs": [
    {
     "data": {
      "text/plain": [
       "array([7, 9])"
      ]
     },
     "execution_count": 13,
     "metadata": {},
     "output_type": "execute_result"
    }
   ],
   "source": [
    "z1[ind]"
   ]
  },
  {
   "cell_type": "code",
   "execution_count": 14,
   "id": "5cf11826-bb41-4114-a856-7325b5bc56f0",
   "metadata": {},
   "outputs": [
    {
     "data": {
      "text/plain": [
       "array([1, 3, 5])"
      ]
     },
     "execution_count": 14,
     "metadata": {},
     "output_type": "execute_result"
    }
   ],
   "source": [
    "#when u slice an array, a view of it is returned. it will be mutable\n",
    "#when u index an array a copy of it is returned which is immutable\n",
    "z1=np.array([1,3,5,7,9])\n",
    "w=z1[0:3]\n",
    "w"
   ]
  },
  {
   "cell_type": "code",
   "execution_count": 18,
   "id": "ec64d008-615e-4fc7-8600-9612f20ab2ae",
   "metadata": {},
   "outputs": [],
   "source": [
    "w=z1[0:3]\n",
    "w[0]=3"
   ]
  },
  {
   "cell_type": "code",
   "execution_count": 19,
   "id": "6b094aec-3987-4bb9-b67a-d2d9361ecde3",
   "metadata": {},
   "outputs": [
    {
     "data": {
      "text/plain": [
       "array([3, 3, 5])"
      ]
     },
     "execution_count": 19,
     "metadata": {},
     "output_type": "execute_result"
    }
   ],
   "source": [
    "w"
   ]
  },
  {
   "cell_type": "code",
   "execution_count": 20,
   "id": "4519e780-3614-4627-9bd0-d347017132b4",
   "metadata": {},
   "outputs": [
    {
     "data": {
      "text/plain": [
       "array([3, 3, 5, 7, 9])"
      ]
     },
     "execution_count": 20,
     "metadata": {},
     "output_type": "execute_result"
    }
   ],
   "source": [
    "z1"
   ]
  },
  {
   "cell_type": "code",
   "execution_count": 21,
   "id": "3d0a1bc8-017d-4899-b998-216742c22990",
   "metadata": {},
   "outputs": [
    {
     "data": {
      "text/plain": [
       "array([0, 1, 2])"
      ]
     },
     "execution_count": 21,
     "metadata": {},
     "output_type": "execute_result"
    }
   ],
   "source": [
    "z1=np.array([1,3,5,7,9])\n",
    "ind=np.array([0,1,2])\n",
    "ind"
   ]
  },
  {
   "cell_type": "code",
   "execution_count": 23,
   "id": "4160e1f0-0188-4f6b-88bd-a83ddbe83da4",
   "metadata": {},
   "outputs": [
    {
     "data": {
      "text/plain": [
       "array([1, 3, 5])"
      ]
     },
     "execution_count": 23,
     "metadata": {},
     "output_type": "execute_result"
    }
   ],
   "source": [
    "w=z1[ind]\n",
    "w"
   ]
  },
  {
   "cell_type": "code",
   "execution_count": 24,
   "id": "5b1d5c91-c1c2-43df-ac9d-54133d0ac29d",
   "metadata": {},
   "outputs": [],
   "source": [
    "w[0]=3"
   ]
  },
  {
   "cell_type": "code",
   "execution_count": 25,
   "id": "9644e1c3-5300-45e6-9b4c-bad57c5b5d80",
   "metadata": {},
   "outputs": [
    {
     "data": {
      "text/plain": [
       "array([3, 3, 5])"
      ]
     },
     "execution_count": 25,
     "metadata": {},
     "output_type": "execute_result"
    }
   ],
   "source": [
    "w"
   ]
  },
  {
   "cell_type": "code",
   "execution_count": 26,
   "id": "661ff264-801f-4dff-a167-c3a54f275280",
   "metadata": {},
   "outputs": [
    {
     "data": {
      "text/plain": [
       "array([1, 3, 5, 7, 9])"
      ]
     },
     "execution_count": 26,
     "metadata": {},
     "output_type": "execute_result"
    }
   ],
   "source": [
    "z1"
   ]
  },
  {
   "cell_type": "code",
   "execution_count": 27,
   "id": "50acce8f-2172-435b-afce-1d62dbfd8029",
   "metadata": {},
   "outputs": [
    {
     "data": {
      "text/plain": [
       "array([4, 5])"
      ]
     },
     "execution_count": 27,
     "metadata": {},
     "output_type": "execute_result"
    }
   ],
   "source": [
    "a = np.array([1,2])\n",
    "b = np.array([3,4,5])\n",
    "b[a]"
   ]
  },
  {
   "cell_type": "code",
   "execution_count": 28,
   "id": "6e28f590-ff06-4006-87a8-bf6fe713a243",
   "metadata": {},
   "outputs": [
    {
     "data": {
      "text/plain": [
       "False"
      ]
     },
     "execution_count": 28,
     "metadata": {},
     "output_type": "execute_result"
    }
   ],
   "source": [
    "c = b[1:]\n",
    "b[a] is c"
   ]
  },
  {
   "cell_type": "code",
   "execution_count": 48,
   "id": "85fa800b-4ef5-4fec-bdd3-bc1c1f0dd0a9",
   "metadata": {},
   "outputs": [
    {
     "data": {
      "text/plain": [
       "array([  0.        ,  11.11111111,  22.22222222,  33.33333333,\n",
       "        44.44444444,  55.55555556,  66.66666667,  77.77777778,\n",
       "        88.88888889, 100.        ])"
      ]
     },
     "execution_count": 48,
     "metadata": {},
     "output_type": "execute_result"
    }
   ],
   "source": [
    "#To construct an array of 10 linearly spaced elements starting with 0\n",
    "#and ending with 100, we can use the NumPy linspace function.\n",
    "#syntax ix (starting point, ending point,n0. of elements)\n",
    "np.linspace(0,100,10)"
   ]
  },
  {
   "cell_type": "code",
   "execution_count": 46,
   "id": "1d8c865d-9d0f-43e2-a043-225303f7b090",
   "metadata": {},
   "outputs": [
    {
     "name": "stdout",
     "output_type": "stream",
     "text": [
      "[ 10.          12.91549665  16.68100537  21.5443469   27.82559402\n",
      "  35.93813664  46.41588834  59.94842503  77.42636827 100.        ]\n",
      "hi\n"
     ]
    }
   ],
   "source": [
    "#to construct an average of 10 logarithmically spaced elements\n",
    "#between 10 and 100, we can do the following.\n",
    "#syntax ix (log of starting point, log of ending point,n0. of elements)\n",
    "np.logspace(1,2,10)\n"
   ]
  },
  {
   "cell_type": "code",
   "execution_count": 49,
   "id": "9608f047-4766-4f50-b221-db3f8bffe94c",
   "metadata": {},
   "outputs": [
    {
     "data": {
      "text/plain": [
       "array([250.        , 270.01493472, 291.63225989, 314.98026247,\n",
       "       340.19750004, 367.43362307, 396.85026299, 428.62199143,\n",
       "       462.93735614, 500.        ])"
      ]
     },
     "execution_count": 49,
     "metadata": {},
     "output_type": "execute_result"
    }
   ],
   "source": [
    "np.logspace(np.log10(250),np.log10(500),10)"
   ]
  },
  {
   "cell_type": "code",
   "execution_count": 50,
   "id": "d7137508-b88d-4345-8720-660e79653588",
   "metadata": {},
   "outputs": [],
   "source": [
    "X=np.array([[1,2,3],[4,5,6]])"
   ]
  },
  {
   "cell_type": "code",
   "execution_count": 51,
   "id": "607e062f-8ff6-4f76-b7ff-d60281a2b7bf",
   "metadata": {},
   "outputs": [
    {
     "data": {
      "text/plain": [
       "(2, 3)"
      ]
     },
     "execution_count": 51,
     "metadata": {},
     "output_type": "execute_result"
    }
   ],
   "source": [
    "#Finding the shape of an array\n",
    "X.shape"
   ]
  },
  {
   "cell_type": "code",
   "execution_count": 52,
   "id": "724cf1f4-9544-49b7-88c7-881721112936",
   "metadata": {},
   "outputs": [
    {
     "data": {
      "text/plain": [
       "6"
      ]
     },
     "execution_count": 52,
     "metadata": {},
     "output_type": "execute_result"
    }
   ],
   "source": [
    "#to check the no if elements in the array\n",
    "#there is no parenthesis when calling shape or size cos they are attributes not functions\n",
    "X.size"
   ]
  },
  {
   "cell_type": "code",
   "execution_count": 53,
   "id": "dcfda226-392c-49b4-9c9e-2de1ce7db4cc",
   "metadata": {},
   "outputs": [],
   "source": [
    "x=np.random.random(10)\n"
   ]
  },
  {
   "cell_type": "code",
   "execution_count": 54,
   "id": "6c2e0453-8e81-4263-8965-760ad4579d40",
   "metadata": {},
   "outputs": [
    {
     "data": {
      "text/plain": [
       "True"
      ]
     },
     "execution_count": 54,
     "metadata": {},
     "output_type": "execute_result"
    }
   ],
   "source": [
    "np.any(x>0.9)"
   ]
  },
  {
   "cell_type": "code",
   "execution_count": 57,
   "id": "a9e634ce-0604-4b09-9b3b-a8fc465e7058",
   "metadata": {},
   "outputs": [
    {
     "data": {
      "text/plain": [
       "True"
      ]
     },
     "execution_count": 57,
     "metadata": {},
     "output_type": "execute_result"
    }
   ],
   "source": [
    "np.all(x>=.1)"
   ]
  },
  {
   "cell_type": "code",
   "execution_count": 56,
   "id": "33cf4fb4-2258-45a3-af2a-693a63a06b79",
   "metadata": {},
   "outputs": [
    {
     "data": {
      "text/plain": [
       "array([0.47144418, 0.33579343, 0.942165  , 0.98268616, 0.49657628,\n",
       "       0.36945467, 0.8436579 , 0.43541754, 0.16055555, 0.18453505])"
      ]
     },
     "execution_count": 56,
     "metadata": {},
     "output_type": "execute_result"
    }
   ],
   "source": [
    "x"
   ]
  },
  {
   "cell_type": "code",
   "execution_count": 58,
   "id": "6277993b-21ed-44dd-8b67-4024d77e21dd",
   "metadata": {},
   "outputs": [
    {
     "data": {
      "text/plain": [
       "False"
      ]
     },
     "execution_count": 58,
     "metadata": {},
     "output_type": "execute_result"
    }
   ],
   "source": [
    "#Checking orime numbers\n",
    "x = 20\n",
    "not np.any([x%i == 0 for i in range(2, x)])"
   ]
  },
  {
   "cell_type": "code",
   "execution_count": null,
   "id": "622bb69b-04db-4269-8b5d-52202ce4df25",
   "metadata": {},
   "outputs": [],
   "source": []
  }
 ],
 "metadata": {
  "kernelspec": {
   "display_name": "Python 3 (ipykernel)",
   "language": "python",
   "name": "python3"
  },
  "language_info": {
   "codemirror_mode": {
    "name": "ipython",
    "version": 3
   },
   "file_extension": ".py",
   "mimetype": "text/x-python",
   "name": "python",
   "nbconvert_exporter": "python",
   "pygments_lexer": "ipython3",
   "version": "3.9.10"
  }
 },
 "nbformat": 4,
 "nbformat_minor": 5
}
