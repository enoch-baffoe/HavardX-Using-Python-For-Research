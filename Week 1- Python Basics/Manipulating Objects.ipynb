{
 "cells": [
  {
   "cell_type": "code",
   "execution_count": 1,
   "metadata": {},
   "outputs": [],
   "source": [
    "#statically typing means that type checking is performed during compile time\n",
    "#dynamic typing means that type check is performed during run time\n",
    "\n",
    "#variable, object, reference\n",
    "#a variable can not reference another variablr. ot can only reference an object\n",
    "#First, object is created,then the variable and then the variable is used to  the object\n",
    "#variiables refenece object only. hey do no refer to other variables\n",
    "#objects do not refernce variables\n",
    "\n",
    "\n",
    "#For mutable objects, when you equate them, and afterwards make a change in the mutable object, same change affects the other equated one"
   ]
  },
  {
   "cell_type": "code",
   "execution_count": 3,
   "metadata": {},
   "outputs": [],
   "source": [
    "L=[1,2,3]\n",
    "#This links both of them\n",
    "M=L\n"
   ]
  },
  {
   "cell_type": "code",
   "execution_count": 4,
   "metadata": {},
   "outputs": [],
   "source": [
    "# to copy only the element and sever anly connection betwee them..\n",
    "M=list(L)\n",
    "#OR\n",
    "M=L[:]"
   ]
  },
  {
   "cell_type": "code",
   "execution_count": 5,
   "metadata": {},
   "outputs": [],
   "source": [
    "#COPY\n",
    "#Shallow copy= copy of object is created and references of the eleent of the main on is placed in it\n",
    "#Deep copy - copy of objrct is created and non reference version of elements are also created"
   ]
  },
  {
   "cell_type": "code",
   "execution_count": null,
   "metadata": {},
   "outputs": [],
   "source": []
  }
 ],
 "metadata": {
  "kernelspec": {
   "display_name": "Python 3",
   "language": "python",
   "name": "python3"
  },
  "language_info": {
   "codemirror_mode": {
    "name": "ipython",
    "version": 3
   },
   "file_extension": ".py",
   "mimetype": "text/x-python",
   "name": "python",
   "nbconvert_exporter": "python",
   "pygments_lexer": "ipython3",
   "version": "3.7.6"
  }
 },
 "nbformat": 4,
 "nbformat_minor": 4
}
