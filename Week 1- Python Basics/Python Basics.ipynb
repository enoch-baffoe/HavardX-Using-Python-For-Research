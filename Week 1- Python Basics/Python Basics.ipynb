{
 "cells": [
  {
   "cell_type": "code",
   "execution_count": 2,
   "id": "7816e454-791e-4991-8b62-1f5eae9892f0",
   "metadata": {},
   "outputs": [],
   "source": [
    "age={'Jim':31,'Nick':31,'Pam':27, 'Sam':35,'Tim':31,'Tom':50}"
   ]
  },
  {
   "cell_type": "code",
   "execution_count": 3,
   "id": "3b92cdba-dc0c-446e-95a5-b5dab4036234",
   "metadata": {},
   "outputs": [
    {
     "name": "stdout",
     "output_type": "stream",
     "text": [
      "Jim 31\n",
      "Nick 31\n",
      "Pam 27\n",
      "Sam 35\n",
      "Tim 31\n",
      "Tom 50\n"
     ]
    }
   ],
   "source": [
    "#iterating through the dict\n",
    "for name in age:\n",
    "    print(name,age[name])"
   ]
  },
  {
   "cell_type": "code",
   "execution_count": 4,
   "id": "6794a515-3369-457e-8532-a0987169f729",
   "metadata": {},
   "outputs": [
    {
     "name": "stdout",
     "output_type": "stream",
     "text": [
      "Jim 31\n",
      "Nick 31\n",
      "Pam 27\n",
      "Sam 35\n",
      "Tim 31\n",
      "Tom 50\n"
     ]
    }
   ],
   "source": [
    "#sorting the keys\n",
    "for name in sorted(age.keys()):\n",
    "    print(name,age[name])\n"
   ]
  },
  {
   "cell_type": "code",
   "execution_count": 5,
   "id": "e2f68259-6e7d-4197-a2a1-a90144b65054",
   "metadata": {},
   "outputs": [
    {
     "name": "stdout",
     "output_type": "stream",
     "text": [
      "Tom 50\n",
      "Tim 31\n",
      "Sam 35\n",
      "Pam 27\n",
      "Nick 31\n",
      "Jim 31\n"
     ]
    }
   ],
   "source": [
    "#sorting the keys in reverse order,\n",
    "for name in sorted(age.keys(),reverse=True):\n",
    "    print(name,age[name])\n"
   ]
  },
  {
   "cell_type": "code",
   "execution_count": 6,
   "id": "60cacc91-28f3-421d-9fd4-166750313924",
   "metadata": {},
   "outputs": [
    {
     "name": "stdout",
     "output_type": "stream",
     "text": [
      "7\n"
     ]
    }
   ],
   "source": [
    "n=100\n",
    "number_of_times = 0\n",
    "while n >= 1:\n",
    "    n //= 2\n",
    "    number_of_times += 1\n",
    "print(number_of_times)"
   ]
  },
  {
   "cell_type": "code",
   "execution_count": 7,
   "id": "2f7f3e19-880b-4de9-953b-8bb91d1e54f4",
   "metadata": {},
   "outputs": [],
   "source": [
    "numbers=range(10)\n",
    "squares=[]"
   ]
  },
  {
   "cell_type": "code",
   "execution_count": 8,
   "id": "289ede51-3c36-431e-ad23-4cc1e5dfe179",
   "metadata": {},
   "outputs": [],
   "source": [
    "for number in numbers:\n",
    "    square=number**2\n",
    "    squares.append(square)"
   ]
  },
  {
   "cell_type": "code",
   "execution_count": 9,
   "id": "7c7c6d75-23dd-4e05-bf28-aa31e8f69247",
   "metadata": {},
   "outputs": [
    {
     "data": {
      "text/plain": [
       "[0, 1, 4, 9, 16, 25, 36, 49, 64, 81]"
      ]
     },
     "execution_count": 9,
     "metadata": {},
     "output_type": "execute_result"
    }
   ],
   "source": [
    "squares"
   ]
  },
  {
   "cell_type": "code",
   "execution_count": 10,
   "id": "722b9355-a000-4b69-aaa7-272570181e06",
   "metadata": {},
   "outputs": [
    {
     "data": {
      "text/plain": [
       "[0, 1, 4, 9, 16, 25, 36, 49, 64, 81]"
      ]
     },
     "execution_count": 10,
     "metadata": {},
     "output_type": "execute_result"
    }
   ],
   "source": [
    "#list comprehension\n",
    "squares2=[number**2 for number in numbers]\n",
    "squares2"
   ]
  },
  {
   "cell_type": "code",
   "execution_count": 11,
   "id": "9e9182c2-c135-4052-8296-234101ff9c64",
   "metadata": {},
   "outputs": [
    {
     "data": {
      "text/plain": [
       "25"
      ]
     },
     "execution_count": 11,
     "metadata": {},
     "output_type": "execute_result"
    }
   ],
   "source": [
    "sum([x for x in range(10) if x%2==1])"
   ]
  },
  {
   "cell_type": "code",
   "execution_count": 12,
   "id": "f208d71a-9d11-49cb-abe6-1a52e252605e",
   "metadata": {},
   "outputs": [
    {
     "data": {
      "text/plain": [
       "25"
      ]
     },
     "execution_count": 12,
     "metadata": {},
     "output_type": "execute_result"
    }
   ],
   "source": [
    "1+3+5+7+9"
   ]
  },
  {
   "cell_type": "code",
   "execution_count": 13,
   "id": "aa7d7499-9fe2-4b44-9c4f-b1035cd5b8fe",
   "metadata": {},
   "outputs": [],
   "source": [
    "filename=\"input.txt\"\n"
   ]
  },
  {
   "cell_type": "code",
   "execution_count": 16,
   "id": "ad24fd92-1630-4bd1-9af6-f705d095bf55",
   "metadata": {},
   "outputs": [
    {
     "name": "stdout",
     "output_type": "stream",
     "text": [
      "first line\n",
      "\n",
      "second line\n",
      "\n",
      "third line\n"
     ]
    }
   ],
   "source": [
    "for line in open(filename):\n",
    "    print(line)"
   ]
  },
  {
   "cell_type": "code",
   "execution_count": 17,
   "id": "2632921a-b12e-441b-aab9-1c06a0a04d2f",
   "metadata": {},
   "outputs": [
    {
     "name": "stdout",
     "output_type": "stream",
     "text": [
      "first line\n",
      "second line\n",
      "third line\n"
     ]
    }
   ],
   "source": [
    "#removing thr extra space\n",
    "for line in open(filename):\n",
    "    line=line.rstrip()\n",
    "    print(line)"
   ]
  },
  {
   "cell_type": "code",
   "execution_count": 18,
   "id": "cd778782-03f2-4ce9-b8cc-c11e35832b13",
   "metadata": {},
   "outputs": [
    {
     "name": "stdout",
     "output_type": "stream",
     "text": [
      "['first', 'line']\n",
      "['second', 'line']\n",
      "['third', 'line']\n"
     ]
    }
   ],
   "source": [
    "#spliting into list\n",
    "for line in open(filename):\n",
    "    line=line.rstrip().split(\" \")\n",
    "    print(line)"
   ]
  },
  {
   "cell_type": "code",
   "execution_count": 19,
   "id": "c1052e95-0241-4272-90dd-c5b9da40d92b",
   "metadata": {},
   "outputs": [],
   "source": [
    "#writing a file\n",
    "F=open(\"output.txt\",\"w\")\n",
    "F.write(\"Python\\n\")\n",
    "F.close()"
   ]
  },
  {
   "cell_type": "code",
   "execution_count": 20,
   "id": "6519903f-a6b2-459b-bdbd-ba04ae2730b0",
   "metadata": {},
   "outputs": [
    {
     "name": "stdout",
     "output_type": "stream",
     "text": [
      "['Hello', 'World']\n"
     ]
    }
   ],
   "source": [
    "F = open(\"input.txt\", \"w\")\n",
    "F.write(\"Hello\\nWorld\")\n",
    "F.close()\n",
    "lines = []\n",
    "for line in open(\"input.txt\"):\n",
    "    lines.append(line.strip())\n",
    "print(lines)"
   ]
  },
  {
   "cell_type": "code",
   "execution_count": 21,
   "id": "8d5ae139-dc9b-43b3-a940-232f5985167c",
   "metadata": {},
   "outputs": [],
   "source": [
    "#returning a tuple from function\n",
    "def add_sub(a,b):\n",
    "    sum=a+b\n",
    "    subtract=a-b\n",
    "    return(sum,subtract)"
   ]
  },
  {
   "cell_type": "code",
   "execution_count": 22,
   "id": "03599249-d7ef-46de-abe3-59d266d4613a",
   "metadata": {},
   "outputs": [
    {
     "data": {
      "text/plain": [
       "(22, 16)"
      ]
     },
     "execution_count": 22,
     "metadata": {},
     "output_type": "execute_result"
    }
   ],
   "source": [
    "add_sub(19,3)"
   ]
  },
  {
   "cell_type": "code",
   "execution_count": 23,
   "id": "34b84918-4b9b-401e-bf70-2711f2d4c958",
   "metadata": {},
   "outputs": [
    {
     "data": {
      "text/plain": [
       "True"
      ]
     },
     "execution_count": 23,
     "metadata": {},
     "output_type": "execute_result"
    }
   ],
   "source": [
    "def modify(mylist):\n",
    "    mylist[0] *= 10\n",
    "    return(mylist)\n",
    "L = [1, 3, 5, 7, 9]\n",
    "M = modify(L)\n",
    "M is L"
   ]
  },
  {
   "cell_type": "code",
   "execution_count": 24,
   "id": "592e8942-d85d-48ad-849e-824b5157c971",
   "metadata": {},
   "outputs": [],
   "source": [
    "def intersect(s1,s2):\n",
    "    res=[]\n",
    "    for x in s1:\n",
    "        if x in s2:\n",
    "            res.append(x)\n",
    "    return res\n"
   ]
  },
  {
   "cell_type": "code",
   "execution_count": 25,
   "id": "d41348c3-ff3f-4c5b-bffe-15ec349ff2c5",
   "metadata": {},
   "outputs": [
    {
     "data": {
      "text/plain": [
       "[3, 4]"
      ]
     },
     "execution_count": 25,
     "metadata": {},
     "output_type": "execute_result"
    }
   ],
   "source": [
    "intersect([1,2,3,4,5],[3,4,8,19])\n"
   ]
  },
  {
   "cell_type": "code",
   "execution_count": 35,
   "id": "a8b1e30f-014d-484a-9731-bcabf3a42f7d",
   "metadata": {},
   "outputs": [],
   "source": [
    "#Password generator\n",
    "import random\n",
    "def password(length):\n",
    "    pw=str()\n",
    "    characters=\"abcdefghijklmnopqrstuvwxyz\"+\"0123456789\"\n",
    "    for x in range(length):\n",
    "        pw=pw+random.choice(characters)\n",
    "    return pw\n",
    "        "
   ]
  },
  {
   "cell_type": "code",
   "execution_count": 41,
   "id": "b5967854-ff29-4bfa-8788-4653a7a64f03",
   "metadata": {},
   "outputs": [
    {
     "data": {
      "text/plain": [
       "'5b5oxi91vkfgk2lvf12d'"
      ]
     },
     "execution_count": 41,
     "metadata": {},
     "output_type": "execute_result"
    }
   ],
   "source": [
    "password(20)"
   ]
  },
  {
   "cell_type": "code",
   "execution_count": 42,
   "id": "2c0bbc24-71bc-4761-9d37-04a3a17ab195",
   "metadata": {},
   "outputs": [],
   "source": [
    "def is_vowel(letter):\n",
    "    if letter in \"aeiouy\":\n",
    "        return(True)\n",
    "    else:\n",
    "        return(False)"
   ]
  },
  {
   "cell_type": "code",
   "execution_count": 48,
   "id": "6223be19-d331-4439-a3a4-02f128fbde95",
   "metadata": {},
   "outputs": [
    {
     "ename": "TypeError",
     "evalue": "'in <string>' requires string as left operand, not int",
     "output_type": "error",
     "traceback": [
      "\u001b[1;31m---------------------------------------------------------------------------\u001b[0m",
      "\u001b[1;31mTypeError\u001b[0m                                 Traceback (most recent call last)",
      "Input \u001b[1;32mIn [48]\u001b[0m, in \u001b[0;36m<cell line: 1>\u001b[1;34m()\u001b[0m\n\u001b[1;32m----> 1\u001b[0m \u001b[43mis_vowel\u001b[49m\u001b[43m(\u001b[49m\u001b[38;5;241;43m4\u001b[39;49m\u001b[43m)\u001b[49m\n",
      "Input \u001b[1;32mIn [42]\u001b[0m, in \u001b[0;36mis_vowel\u001b[1;34m(letter)\u001b[0m\n\u001b[0;32m      1\u001b[0m \u001b[38;5;28;01mdef\u001b[39;00m \u001b[38;5;21mis_vowel\u001b[39m(letter):\n\u001b[1;32m----> 2\u001b[0m     \u001b[38;5;28;01mif\u001b[39;00m \u001b[43mletter\u001b[49m\u001b[43m \u001b[49m\u001b[38;5;129;43;01min\u001b[39;49;00m\u001b[43m \u001b[49m\u001b[38;5;124;43m\"\u001b[39;49m\u001b[38;5;124;43maeiouy\u001b[39;49m\u001b[38;5;124;43m\"\u001b[39;49m:\n\u001b[0;32m      3\u001b[0m         \u001b[38;5;28;01mreturn\u001b[39;00m(\u001b[38;5;28;01mTrue\u001b[39;00m)\n\u001b[0;32m      4\u001b[0m     \u001b[38;5;28;01melse\u001b[39;00m:\n",
      "\u001b[1;31mTypeError\u001b[0m: 'in <string>' requires string as left operand, not int"
     ]
    }
   ],
   "source": [
    "is_vowel(4)"
   ]
  },
  {
   "cell_type": "code",
   "execution_count": 49,
   "id": "ce37ac4b-4ac2-4380-a33b-806ea90c9487",
   "metadata": {},
   "outputs": [],
   "source": [
    "def is_vowel(letter):\n",
    "    if type(letter) == int:\n",
    "        letter = str(letter)\n",
    "    if letter in \"aeiouy\":\n",
    "        return(True)\n",
    "    else:\n",
    "        return(False)"
   ]
  },
  {
   "cell_type": "code",
   "execution_count": 50,
   "id": "e6f34b62-fac5-4f1b-a3b1-e653f575a690",
   "metadata": {},
   "outputs": [
    {
     "data": {
      "text/plain": [
       "False"
      ]
     },
     "execution_count": 50,
     "metadata": {},
     "output_type": "execute_result"
    }
   ],
   "source": [
    "is_vowel(4)"
   ]
  },
  {
   "cell_type": "code",
   "execution_count": 51,
   "id": "247472ef-b404-407b-a675-d2f07e9a8bea",
   "metadata": {},
   "outputs": [],
   "source": [
    "def factorial(n):\n",
    "    if n == 0:\n",
    "        return 1\n",
    "    else:\n",
    "        N = 1\n",
    "        for i in range(1, n+1):\n",
    "            N*=i\n",
    "        return(N)"
   ]
  },
  {
   "cell_type": "code",
   "execution_count": 54,
   "id": "308c0613-2528-4cd1-bed4-8829598c7937",
   "metadata": {},
   "outputs": [
    {
     "data": {
      "text/plain": [
       "120"
      ]
     },
     "execution_count": 54,
     "metadata": {},
     "output_type": "execute_result"
    }
   ],
   "source": [
    "factorial(5)"
   ]
  },
  {
   "cell_type": "code",
   "execution_count": null,
   "id": "b9128e17-5a0f-4055-8f2d-792564477e0c",
   "metadata": {},
   "outputs": [],
   "source": []
  }
 ],
 "metadata": {
  "kernelspec": {
   "display_name": "Python 3 (ipykernel)",
   "language": "python",
   "name": "python3"
  },
  "language_info": {
   "codemirror_mode": {
    "name": "ipython",
    "version": 3
   },
   "file_extension": ".py",
   "mimetype": "text/x-python",
   "name": "python",
   "nbconvert_exporter": "python",
   "pygments_lexer": "ipython3",
   "version": "3.9.10"
  }
 },
 "nbformat": 4,
 "nbformat_minor": 5
}
